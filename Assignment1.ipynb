{
 "cells": [
  {
   "cell_type": "markdown",
   "metadata": {},
   "source": [
    "# Q1:"
   ]
  },
  {
   "cell_type": "code",
   "execution_count": 17,
   "metadata": {},
   "outputs": [
    {
     "name": "stdout",
     "output_type": "stream",
     "text": [
      "\"I'm 'Student' of ITER\"\n"
     ]
    }
   ],
   "source": [
    "#a.)”I’m a ’Student’ of ITER.”\n",
    "print('\\\"I\\'m \\'Student\\' of ITER\\\"')"
   ]
  },
  {
   "cell_type": "code",
   "execution_count": 1,
   "metadata": {},
   "outputs": [
    {
     "name": "stdout",
     "output_type": "stream",
     "text": [
      "'My name is \n",
      " Beas.'\n"
     ]
    }
   ],
   "source": [
    "#b.)’My Name is \\n Khan.'\n",
    "print('\\'My name is \\n Beas.\\'')"
   ]
  },
  {
   "cell_type": "markdown",
   "metadata": {},
   "source": [
    "# Q2:"
   ]
  },
  {
   "cell_type": "code",
   "execution_count": 21,
   "metadata": {},
   "outputs": [
    {
     "name": "stdout",
     "output_type": "stream",
     "text": [
      "0b100\n"
     ]
    }
   ],
   "source": [
    "#a.)\n",
    "print(bin(5&6))"
   ]
  },
  {
   "cell_type": "code",
   "execution_count": 22,
   "metadata": {},
   "outputs": [
    {
     "name": "stdout",
     "output_type": "stream",
     "text": [
      "0b0\n"
     ]
    }
   ],
   "source": [
    "#b.)\n",
    "print(bin(0&6))"
   ]
  },
  {
   "cell_type": "code",
   "execution_count": 25,
   "metadata": {},
   "outputs": [
    {
     "name": "stdout",
     "output_type": "stream",
     "text": [
      "1\n"
     ]
    }
   ],
   "source": [
    "#c.)\n",
    "print(0 or 1)"
   ]
  },
  {
   "cell_type": "code",
   "execution_count": 26,
   "metadata": {},
   "outputs": [
    {
     "name": "stdout",
     "output_type": "stream",
     "text": [
      "1\n"
     ]
    }
   ],
   "source": [
    "#d.)\n",
    "print(1 or 0)"
   ]
  },
  {
   "cell_type": "code",
   "execution_count": 27,
   "metadata": {},
   "outputs": [
    {
     "name": "stdout",
     "output_type": "stream",
     "text": [
      "-85.0\n"
     ]
    }
   ],
   "source": [
    "#e.)\n",
    "print(-7*20+8/16*2+54)"
   ]
  },
  {
   "cell_type": "code",
   "execution_count": 28,
   "metadata": {},
   "outputs": [
    {
     "name": "stdout",
     "output_type": "stream",
     "text": [
      "-25\n"
     ]
    }
   ],
   "source": [
    "#f.)\n",
    "print(5%10+10-25*8//5)"
   ]
  },
  {
   "cell_type": "code",
   "execution_count": 1,
   "metadata": {},
   "outputs": [
    {
     "name": "stdout",
     "output_type": "stream",
     "text": [
      "\n"
     ]
    }
   ],
   "source": [
    "a='hello'\n",
    "b=(2-5)\n",
    "c=a*b\n",
    "print(c)"
   ]
  },
  {
   "cell_type": "code",
   "execution_count": 32,
   "metadata": {},
   "outputs": [
    {
     "name": "stdout",
     "output_type": "stream",
     "text": [
      "True\n"
     ]
    }
   ],
   "source": [
    "a='hi' > 'hello'\n",
    "b='bye' < 'Bye'\n",
    "print(a or b)"
   ]
  },
  {
   "cell_type": "code",
   "execution_count": 34,
   "metadata": {},
   "outputs": [
    {
     "name": "stdout",
     "output_type": "stream",
     "text": [
      "False\n"
     ]
    }
   ],
   "source": [
    "#g:\n",
    "a= 10!=9 & 29>=29 & 7<=2.5\n",
    "b= 'hi'>'hello' or 'bye'<'Bye' \n",
    "print(a&b)"
   ]
  },
  {
   "cell_type": "markdown",
   "metadata": {},
   "source": [
    "# Q3:"
   ]
  },
  {
   "cell_type": "code",
   "execution_count": 36,
   "metadata": {},
   "outputs": [
    {
     "name": "stdout",
     "output_type": "stream",
     "text": [
      "'=' is called the assignment operator that is uded to assign values to variables.\n",
      "Where as '==' is used for comparing values and the output is alays boolean.\n"
     ]
    }
   ],
   "source": [
    "#a:\n",
    "print('\\'=\\' is called the assignment operator that is uded to assign values to variables.')\n",
    "print('Where as \\'==\\' is used for comparing values and the output is alays boolean.')"
   ]
  },
  {
   "cell_type": "code",
   "execution_count": 2,
   "metadata": {
    "scrolled": true
   },
   "outputs": [
    {
     "name": "stdout",
     "output_type": "stream",
     "text": [
      "s\n"
     ]
    }
   ],
   "source": [
    "x=\"Beas\"\n",
    "print(x[3])"
   ]
  },
  {
   "cell_type": "code",
   "execution_count": 6,
   "metadata": {},
   "outputs": [
    {
     "name": "stdout",
     "output_type": "stream",
     "text": [
      "s Jha 2\n",
      "s Jha 2241010079\n",
      "Beas Jha 2\n",
      "22410\n",
      "2241010079\n",
      "Beas Jha 22410\n"
     ]
    }
   ],
   "source": [
    "x=\"Beas Jha 2241010079\"\n",
    "print(x[3:10])\n",
    "print(x[3: ])\n",
    "print(x[ :10])\n",
    "print(x[-10:-5])\n",
    "print(x[-10: ])\n",
    "print(x[ :-5])"
   ]
  },
  {
   "cell_type": "code",
   "execution_count": 7,
   "metadata": {},
   "outputs": [
    {
     "name": "stdout",
     "output_type": "stream",
     "text": [
      "S.split('!')= ['Beas Jha 2241010079']\n"
     ]
    }
   ],
   "source": [
    "#this method is used to split the string where exclamation mark is present\n",
    "S=\"Beas Jha 2241010079\"\n",
    "d=\"section 7\"\n",
    "print('S.split(\\'!\\')=',S.split('!'))"
   ]
  },
  {
   "cell_type": "code",
   "execution_count": 8,
   "metadata": {},
   "outputs": [
    {
     "name": "stdout",
     "output_type": "stream",
     "text": [
      "17\n"
     ]
    }
   ],
   "source": [
    "#this method is used to find the length of the string\n",
    "s=\"BeasJha2241010079\"\n",
    "print(len(s))"
   ]
  },
  {
   "cell_type": "code",
   "execution_count": 9,
   "metadata": {},
   "outputs": [
    {
     "name": "stdout",
     "output_type": "stream",
     "text": [
      "beasjha2241010079\n"
     ]
    }
   ],
   "source": [
    "#this method is used to convert the string to lower case\n",
    "s=\"BeasJha2241010079\"\n",
    "print(s.lower())"
   ]
  },
  {
   "cell_type": "code",
   "execution_count": 10,
   "metadata": {},
   "outputs": [
    {
     "name": "stdout",
     "output_type": "stream",
     "text": [
      "<built-in method title of str object at 0x000001F12F36A1A0>\n"
     ]
    }
   ],
   "source": [
    "#this method is used to top print the title\n",
    "S=\"BeasJha2241010079\"\n",
    "print(S.title)"
   ]
  },
  {
   "cell_type": "code",
   "execution_count": 26,
   "metadata": {},
   "outputs": [
    {
     "name": "stdout",
     "output_type": "stream",
     "text": [
      "'/' is called the division operator that is uded to perform floating-point division.\n",
      "Where as '//' is used to perform integer division.\n"
     ]
    }
   ],
   "source": [
    "#3.b.)\n",
    "print('\\'/\\' is called the division operator that is uded to perform floating-point division.')\n",
    "print('Where as \\'//\\' is used to perform integer division.')\n",
    "\n"
   ]
  },
  {
   "cell_type": "code",
   "execution_count": 28,
   "metadata": {},
   "outputs": [
    {
     "name": "stdout",
     "output_type": "stream",
     "text": [
      "'*'The single asterisk operator is used for multiplication.\n",
      "'**'The double asterisk operator is used for exponentiation, which means raising a number to a power.\n"
     ]
    }
   ],
   "source": [
    "#c.)\n",
    "print('\\'*\\'The single asterisk operator is used for multiplication.')\n",
    "print('\\'**\\'The double asterisk operator is used for exponentiation, which means raising a number to a power.')"
   ]
  },
  {
   "cell_type": "code",
   "execution_count": 33,
   "metadata": {},
   "outputs": [
    {
     "name": "stdout",
     "output_type": "stream",
     "text": [
      "'x = x * 10:'It multiplies the current value of x by 10 and reassigns it to x\n",
      "'x *= x * 10:'It calculates the result of x * 10, then multiplies the\n",
      " current value of x by that result, and reassigns it to x\n"
     ]
    }
   ],
   "source": [
    "#d.)\n",
    "print('\\'x = x * 10:\\'It multiplies the current value of x by 10 and reassigns it to x')\n",
    "print('\\'x *= x * 10:\\'It calculates the result of x * 10, then multiplies the\\n current value of x by that result, and reassigns it to x')"
   ]
  },
  {
   "cell_type": "code",
   "execution_count": 39,
   "metadata": {},
   "outputs": [
    {
     "name": "stdout",
     "output_type": "stream",
     "text": [
      "\"In an interpreted language, code is executed line by line, and each line is translated \n",
      "into machine code and executed immediately by an interpreter.\"\n",
      "\"In a compiled language, the source code is translated into \n",
      "machine code or an intermediate code (bytecode) before execution\"\n"
     ]
    }
   ],
   "source": [
    "#e.)\n",
    "print('\\\"In an interpreted language, code is executed line by line, and each line is translated \\ninto machine code and executed immediately by an interpreter.\\\"')\n",
    "print('\\\"In a compiled language, the source code is translated into \\nmachine code or an intermediate code (bytecode) before execution\\\"')"
   ]
  },
  {
   "cell_type": "code",
   "execution_count": 41,
   "metadata": {},
   "outputs": [
    {
     "name": "stdout",
     "output_type": "stream",
     "text": [
      "\"Data scientists typically have strong skills in \n",
      "programming, data manipulation, machine learning, statistics, and domain-specific knowledge.\"\n",
      "\"Data analysts are proficient in data querying, data visualization, statistical analysis, and reporting.\"\n"
     ]
    }
   ],
   "source": [
    "#f.)\n",
    "print('\\\"Data scientists typically have strong skills in \\nprogramming, data manipulation, machine learning, statistics, and domain-specific knowledge.\\\"')\n",
    "print('\\\"Data analysts are proficient in data querying, data visualization, statistical analysis, and reporting.\\\"')"
   ]
  },
  {
   "cell_type": "code",
   "execution_count": 43,
   "metadata": {},
   "outputs": [
    {
     "name": "stdout",
     "output_type": "stream",
     "text": [
      "The backslash is an escape character in Python. It is used to escape special characters within strings to represent \n",
      "characters that are otherwise difficult to include in a string directly.\n"
     ]
    }
   ],
   "source": [
    "#g.)\n",
    "print('The backslash is an escape character in Python. It is used to escape special characters within strings to represent \\ncharacters that are otherwise difficult to include in a string directly.')"
   ]
  },
  {
   "cell_type": "markdown",
   "metadata": {},
   "source": [
    "# Q5:"
   ]
  },
  {
   "cell_type": "code",
   "execution_count": 13,
   "metadata": {},
   "outputs": [
    {
     "name": "stdout",
     "output_type": "stream",
     "text": [
      "Enter length of the area(in feet): 2500\n",
      "Enter width of the area(in feet): 3700\n",
      "212.35078053259872\n"
     ]
    }
   ],
   "source": [
    "x=int(input(\"Enter length of the area(in feet): \"))\n",
    "y=int(input(\"Enter width of the area(in feet): \"))\n",
    "area= (x*y)/43560\n",
    "print(area)\n"
   ]
  },
  {
   "cell_type": "markdown",
   "metadata": {},
   "source": [
    "# Q6: "
   ]
  },
  {
   "cell_type": "code",
   "execution_count": 14,
   "metadata": {},
   "outputs": [
    {
     "name": "stdout",
     "output_type": "stream",
     "text": [
      "Enter no. of shampoos buyed: 7\n",
      "enter no. of soap buyed: 9\n",
      "Total cost of the product buyed: Rs. 1452\n"
     ]
    }
   ],
   "source": [
    "x=int(input(\"Enter no. of shampoos buyed: \"))\n",
    "y=int(input(\"enter no. of soap buyed: \"))\n",
    "x=x*111\n",
    "y=y*75\n",
    "print('Total cost of the product buyed: Rs.',x+y)"
   ]
  },
  {
   "cell_type": "markdown",
   "metadata": {},
   "source": [
    "# Q7:"
   ]
  },
  {
   "cell_type": "code",
   "execution_count": 15,
   "metadata": {},
   "outputs": [
    {
     "name": "stdout",
     "output_type": "stream",
     "text": [
      "Enter the height of the object(in m): 70\n",
      "Velocity at ground 37.04051835490427\n"
     ]
    }
   ],
   "source": [
    "import math\n",
    "x= int(input('Enter the height of the object(in m): '))\n",
    "Vi=0;a=9.8; \n",
    "Vf= math.sqrt((Vi*Vi)+(2*a*x))\n",
    "print('Velocity at ground',Vf)"
   ]
  },
  {
   "cell_type": "markdown",
   "metadata": {},
   "source": [
    "# Q8:"
   ]
  },
  {
   "cell_type": "code",
   "execution_count": 16,
   "metadata": {},
   "outputs": [
    {
     "name": "stdout",
     "output_type": "stream",
     "text": [
      "Enter a four digit number: 6782\n",
      "23\n"
     ]
    }
   ],
   "source": [
    "x= int(input('Enter a four digit number: '))\n",
    "s=0\n",
    "n=x%10\n",
    "x=int(x/10)\n",
    "s+=n\n",
    "n=x%10\n",
    "x=int(x/10)\n",
    "s+=n\n",
    "n=x%10\n",
    "x=int(x/10)\n",
    "s+=n\n",
    "n=x%10\n",
    "x=int(x/10)\n",
    "s+=n\n",
    "print(s)\n"
   ]
  },
  {
   "cell_type": "markdown",
   "metadata": {},
   "source": [
    "# Q9:"
   ]
  },
  {
   "cell_type": "code",
   "execution_count": 17,
   "metadata": {},
   "outputs": [
    {
     "name": "stdout",
     "output_type": "stream",
     "text": [
      "Enter a number: 289\n",
      "Enter a number: 8745\n",
      "Enter a number: 62189\n",
      "Sotred list of the following three numbers:  289 ,  8745 ,  62189\n"
     ]
    }
   ],
   "source": [
    "x=int(input('Enter a number: '))\n",
    "y=int(input('Enter a number: '))\n",
    "z=int(input('Enter a number: '))\n",
    "a=min(x,min(y,z))\n",
    "b=max(x,max(y,z))\n",
    "c=(x+y+z)-(a+b)\n",
    "print('Sotred list of the following three numbers: ',a,', ',c,', ',b)"
   ]
  },
  {
   "cell_type": "markdown",
   "metadata": {},
   "source": [
    "# Q10:"
   ]
  },
  {
   "cell_type": "code",
   "execution_count": 18,
   "metadata": {},
   "outputs": [
    {
     "name": "stdout",
     "output_type": "stream",
     "text": [
      "Enter no. of days: 5\n",
      "Enter no. of hours: 10\n",
      "Enter no. of minutes: 60\n",
      "Enter no. of seconds: 45\n",
      "Total duration(in seconds):  471645\n"
     ]
    }
   ],
   "source": [
    "a=int(input('Enter no. of days: '))\n",
    "b=int(input('Enter no. of hours: '))\n",
    "c=int(input('Enter no. of minutes: '))\n",
    "d=int(input('Enter no. of seconds: '))\n",
    "a=a*24*60*60\n",
    "b=b*60*60\n",
    "c=c*60\n",
    "print('Total duration(in seconds): ',(a+b+c+d))"
   ]
  },
  {
   "cell_type": "markdown",
   "metadata": {},
   "source": [
    "# Q11:"
   ]
  },
  {
   "cell_type": "code",
   "execution_count": 19,
   "metadata": {},
   "outputs": [
    {
     "name": "stdout",
     "output_type": "stream",
     "text": [
      "Enter the radius: 5\n",
      "The area of the circle with radius  5.0  units is:  78.53981633974483  sq. units\n",
      "The volume of the sphere of radius  5.0  units is: 294.5243112740431  cube units\n"
     ]
    }
   ],
   "source": [
    "r=float(input('Enter the radius: '))\n",
    "area=math.pi*r*r\n",
    "vol=(3/4)*math.pi*r*r*r\n",
    "print('The area of the circle with radius ',r,' units is: ',area,' sq. units')\n",
    "print('The volume of the sphere of radius ',r,' units is:',vol,' cube units')"
   ]
  },
  {
   "cell_type": "markdown",
   "metadata": {},
   "source": [
    "# Q12:"
   ]
  },
  {
   "cell_type": "code",
   "execution_count": 21,
   "metadata": {},
   "outputs": [
    {
     "name": "stdout",
     "output_type": "stream",
     "text": [
      "38\n",
      "HEY! HELLO!,CAN YOU HEAR ME, MR.HELLO?\n",
      "hey! hello!,can you hear me, mr.hello?\n",
      "Hey! Hello!,Can You Hear Me, Mr.Hello?\n",
      "Hey! hello!,can you hear me, mr.hello?\n",
      "hEY! hELLO!,cAN YOU HEAR ME, mR.hELLO?\n",
      "['Hey! Hello!', 'Can you hear me', ' Mr.Hello?']\n",
      "0\n",
      "32\n",
      "5\n",
      "False\n",
      "False\n",
      "3\n",
      "1\n",
      "True\n",
      "Hey! Hello!,Can you hear me, Mr.Hello?\n",
      "Hey! Dhoni!,Can you hear me, Mr.Dhoni?\n",
      "Hey! Dhoni!,Can you hear me, Mr.Hello?\n",
      "False\n",
      "('Hey', '!', ' Hello!,Can you hear me, Mr.Hello?')\n"
     ]
    }
   ],
   "source": [
    "st= 'Hey! Hello!,Can you hear me, Mr.Hello?'\n",
    "print(len(st))\n",
    "print(st.upper())\n",
    "print(st.lower())\n",
    "print(st.title())\n",
    "print(st.capitalize())\n",
    "print(st.swapcase())\n",
    "print(st.split(','))\n",
    "print(st.find('He'))\n",
    "print(st.rfind('He'))\n",
    "print(st.find('He',4,12))\n",
    "print(st.isalpha())\n",
    "print(st.islower())\n",
    "print(st.count('He'))\n",
    "print(st.count('He',3,10))\n",
    "print(st.startswith(\"Hey\"))\n",
    "print(st.rstrip('H'))\n",
    "print(st.replace('Hello','Dhoni'))\n",
    "print(st.replace('Hello','Dhoni',1))\n",
    "print(st.endswith('!'))\n",
    "print(st.partition('!'))"
   ]
  },
  {
   "cell_type": "markdown",
   "metadata": {},
   "source": [
    "# Q13:"
   ]
  },
  {
   "cell_type": "code",
   "execution_count": 22,
   "metadata": {},
   "outputs": [
    {
     "name": "stdout",
     "output_type": "stream",
     "text": [
      " He\n",
      "Hey! He\n",
      " Hello!, Can you hear me, Mr. Hello?\n",
      "Hey! Hello!, Can you hear me, Mr. Hello?\n",
      "Hey! Hello!, Can you hear me, Mr. Hlo?\n",
      "H$e$y$!$ $H$e$l$l$o$!$,$ $C$a$n$ $y$o$u$ $h$e$a$r$ $m$e$,$ $M$r$.$ $H$e$l$l$o$?\n"
     ]
    }
   ],
   "source": [
    "st= 'Hey! Hello!, Can you hear me, Mr. Hello?'\n",
    "print(st[4:7])\n",
    "print(st[:7])\n",
    "print(st[4:])\n",
    "print(st[-len(st):len(st)])\n",
    "print(st[:-5]+ st[-3:])\n",
    "print('$'.join(st))"
   ]
  },
  {
   "cell_type": "code",
   "execution_count": 23,
   "metadata": {},
   "outputs": [
    {
     "name": "stdout",
     "output_type": "stream",
     "text": [
      "Enter a no.: 1\n",
      "Enter an no.: 2\n",
      "Y is maximum\n"
     ]
    }
   ],
   "source": [
    "x=int(input('Enter a no.: '))\n",
    "y=int(input('Enter an no.: '))\n",
    "if x>y:\n",
    "    print('X is maximum')\n",
    "elif x<y:\n",
    "    print('Y is maximum')\n",
    "else: \n",
    "    print('Both are equal')"
   ]
  },
  {
   "cell_type": "code",
   "execution_count": 48,
   "metadata": {},
   "outputs": [
    {
     "name": "stdout",
     "output_type": "stream",
     "text": [
      "Enter a no.: 23\n",
      "Enter an no.: 30\n",
      "Enter a no.: 43\n",
      "43 is maximum\n"
     ]
    }
   ],
   "source": [
    "x=int(input('Enter a no.: '))\n",
    "y=int(input('Enter an no.: '))\n",
    "z=int(input('Enter a no.: '))\n",
    "if x>y and x>z:\n",
    "    print(x,' is maximum')\n",
    "if y>z and y>x:\n",
    "    print(y,'is maximum')\n",
    "else:\n",
    "    print(z,'is maximum')"
   ]
  }
 ],
 "metadata": {
  "kernelspec": {
   "display_name": "Python 3 (ipykernel)",
   "language": "python",
   "name": "python3"
  },
  "language_info": {
   "codemirror_mode": {
    "name": "ipython",
    "version": 3
   },
   "file_extension": ".py",
   "mimetype": "text/x-python",
   "name": "python",
   "nbconvert_exporter": "python",
   "pygments_lexer": "ipython3",
   "version": "3.11.5"
  }
 },
 "nbformat": 4,
 "nbformat_minor": 2
}
