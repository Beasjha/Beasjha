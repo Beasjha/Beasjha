{
 "cells": [
  {
   "cell_type": "markdown",
   "id": "61ea3b95",
   "metadata": {},
   "source": [
    "# NAME:Beas Jha\n",
    "# ROLL: 20\n",
    "# REGD.NO:2241010079\n",
    "# SEC:07"
   ]
  },
  {
   "cell_type": "markdown",
   "id": "bc991f8d",
   "metadata": {},
   "source": [
    "### Q1.Convert the list [’100’, ’200’, ’python’, ’300.12’, ’400’] to a Series object than sort it. The output should be [’100’, ’200’, ’300.12’, ’400’, ’python’]."
   ]
  },
  {
   "cell_type": "code",
   "execution_count": 6,
   "id": "751bd824",
   "metadata": {},
   "outputs": [
    {
     "name": "stdout",
     "output_type": "stream",
     "text": [
      "0       100\n",
      "1       200\n",
      "3    300.12\n",
      "4       400\n",
      "2    python\n",
      "dtype: object\n"
     ]
    }
   ],
   "source": [
    "import pandas as pd\n",
    "l=['100', '200', 'python', '300.12', '400']\n",
    "x=pd.Series(l)\n",
    "s=x.sort_values()\n",
    "print(s)"
   ]
  },
  {
   "cell_type": "markdown",
   "id": "1ab1fff3",
   "metadata": {},
   "source": [
    "### Q2.Write a Pandas program to convert the first column of a DataFrame as a Series."
   ]
  },
  {
   "cell_type": "code",
   "execution_count": 7,
   "id": "52cbdb61",
   "metadata": {},
   "outputs": [
    {
     "name": "stdout",
     "output_type": "stream",
     "text": [
      "original Dataframe: \n",
      "    col1  col2\n",
      "0     1     5\n",
      "1     2     6\n",
      "2     3     7\n",
      "3     4     8\n",
      "1st col of DF converted as Series: \n",
      " 0    1\n",
      "1    2\n",
      "2    3\n",
      "3    4\n",
      "Name: col1, dtype: int64\n"
     ]
    }
   ],
   "source": [
    "import pandas as pd\n",
    "d={'col1':[1,2,3,4],'col2':[5,6,7,8]}\n",
    "df=pd.DataFrame(d)\n",
    "print('original Dataframe: \\n',df)\n",
    "col=df.iloc[:,0]\n",
    "print('1st col of DF converted as Series: \\n',col)"
   ]
  },
  {
   "cell_type": "markdown",
   "id": "b796f563",
   "metadata": {},
   "source": [
    "### Q3.Create a data frame containing names of first five presidents of India, and years served by them. Once the data frame is created, add another column containing their home state for the first four presidents."
   ]
  },
  {
   "cell_type": "code",
   "execution_count": 19,
   "id": "9ccc9bc1",
   "metadata": {},
   "outputs": [
    {
     "data": {
      "text/html": [
       "<div>\n",
       "<style scoped>\n",
       "    .dataframe tbody tr th:only-of-type {\n",
       "        vertical-align: middle;\n",
       "    }\n",
       "\n",
       "    .dataframe tbody tr th {\n",
       "        vertical-align: top;\n",
       "    }\n",
       "\n",
       "    .dataframe thead th {\n",
       "        text-align: right;\n",
       "    }\n",
       "</style>\n",
       "<table border=\"1\" class=\"dataframe\">\n",
       "  <thead>\n",
       "    <tr style=\"text-align: right;\">\n",
       "      <th></th>\n",
       "      <th>Presidents</th>\n",
       "      <th>Years served</th>\n",
       "    </tr>\n",
       "  </thead>\n",
       "  <tbody>\n",
       "    <tr>\n",
       "      <th>0</th>\n",
       "      <td>Rajendra Prasad</td>\n",
       "      <td>12</td>\n",
       "    </tr>\n",
       "    <tr>\n",
       "      <th>1</th>\n",
       "      <td>Sarvepalli Radhakrishnan</td>\n",
       "      <td>5</td>\n",
       "    </tr>\n",
       "    <tr>\n",
       "      <th>2</th>\n",
       "      <td>Zakir Husain</td>\n",
       "      <td>2</td>\n",
       "    </tr>\n",
       "    <tr>\n",
       "      <th>3</th>\n",
       "      <td>Varahagiri Venkata Giri</td>\n",
       "      <td>5</td>\n",
       "    </tr>\n",
       "    <tr>\n",
       "      <th>4</th>\n",
       "      <td>Fakhruddin Ali Ahmed</td>\n",
       "      <td>3</td>\n",
       "    </tr>\n",
       "  </tbody>\n",
       "</table>\n",
       "</div>"
      ],
      "text/plain": [
       "                 Presidents  Years served\n",
       "0           Rajendra Prasad            12\n",
       "1  Sarvepalli Radhakrishnan             5\n",
       "2              Zakir Husain             2\n",
       "3   Varahagiri Venkata Giri             5\n",
       "4      Fakhruddin Ali Ahmed             3"
      ]
     },
     "execution_count": 19,
     "metadata": {},
     "output_type": "execute_result"
    }
   ],
   "source": [
    "import pandas as pd\n",
    "x={'Presidents':['Rajendra Prasad','Sarvepalli Radhakrishnan','Zakir Husain','Varahagiri Venkata Giri','Fakhruddin Ali Ahmed'],\n",
    "   'Years served':[1962-1950,1967-1962,1969-1967,1974-1969,1977-1974]}\n",
    "frame=pd.DataFrame(x)\n",
    "frame"
   ]
  },
  {
   "cell_type": "code",
   "execution_count": 21,
   "id": "7d93db3b",
   "metadata": {},
   "outputs": [
    {
     "data": {
      "text/html": [
       "<div>\n",
       "<style scoped>\n",
       "    .dataframe tbody tr th:only-of-type {\n",
       "        vertical-align: middle;\n",
       "    }\n",
       "\n",
       "    .dataframe tbody tr th {\n",
       "        vertical-align: top;\n",
       "    }\n",
       "\n",
       "    .dataframe thead th {\n",
       "        text-align: right;\n",
       "    }\n",
       "</style>\n",
       "<table border=\"1\" class=\"dataframe\">\n",
       "  <thead>\n",
       "    <tr style=\"text-align: right;\">\n",
       "      <th></th>\n",
       "      <th>Presidents</th>\n",
       "      <th>Years served</th>\n",
       "      <th>Home State</th>\n",
       "    </tr>\n",
       "  </thead>\n",
       "  <tbody>\n",
       "    <tr>\n",
       "      <th>0</th>\n",
       "      <td>Rajendra Prasad</td>\n",
       "      <td>12</td>\n",
       "      <td>Bihar</td>\n",
       "    </tr>\n",
       "    <tr>\n",
       "      <th>1</th>\n",
       "      <td>Sarvepalli Radhakrishnan</td>\n",
       "      <td>5</td>\n",
       "      <td>Tamil Nadu</td>\n",
       "    </tr>\n",
       "    <tr>\n",
       "      <th>2</th>\n",
       "      <td>Zakir Husain</td>\n",
       "      <td>2</td>\n",
       "      <td>Uttar Pradesh</td>\n",
       "    </tr>\n",
       "    <tr>\n",
       "      <th>3</th>\n",
       "      <td>Varahagiri Venkata Giri</td>\n",
       "      <td>5</td>\n",
       "      <td>Andhra Pradesh</td>\n",
       "    </tr>\n",
       "    <tr>\n",
       "      <th>4</th>\n",
       "      <td>Fakhruddin Ali Ahmed</td>\n",
       "      <td>3</td>\n",
       "      <td>NaN</td>\n",
       "    </tr>\n",
       "  </tbody>\n",
       "</table>\n",
       "</div>"
      ],
      "text/plain": [
       "                 Presidents  Years served      Home State\n",
       "0           Rajendra Prasad            12           Bihar\n",
       "1  Sarvepalli Radhakrishnan             5      Tamil Nadu\n",
       "2              Zakir Husain             2   Uttar Pradesh\n",
       "3   Varahagiri Venkata Giri             5  Andhra Pradesh\n",
       "4      Fakhruddin Ali Ahmed             3             NaN"
      ]
     },
     "execution_count": 21,
     "metadata": {},
     "output_type": "execute_result"
    }
   ],
   "source": [
    "home=pd.Series(['Bihar','Tamil Nadu','Uttar Pradesh','Andhra Pradesh'],index=[0,1,2,3])\n",
    "frame['Home State']=home\n",
    "frame"
   ]
  },
  {
   "cell_type": "markdown",
   "id": "9b3f5081",
   "metadata": {},
   "source": [
    "### Q4.Convert s1=[1,2,3,4,2] and s2=[3,4,5,6] to two series objects. Find elements in s1, which are not present in s2."
   ]
  },
  {
   "cell_type": "code",
   "execution_count": 29,
   "id": "0a6c1f32",
   "metadata": {},
   "outputs": [
    {
     "name": "stdout",
     "output_type": "stream",
     "text": [
      "Elements of s1 not present in s2 are: \n",
      " 0    1\n",
      "1    2\n",
      "4    2\n",
      "dtype: int64\n"
     ]
    }
   ],
   "source": [
    "import pandas as pd\n",
    "s1=pd.Series([1,2,3,4,2])\n",
    "s2=pd.Series([3,4,5,6])\n",
    "not_present=s1[~s1.isin(s2)]\n",
    "print('Elements of s1 not present in s2 are: \\n', not_present)"
   ]
  },
  {
   "cell_type": "markdown",
   "id": "d2d7bc0d",
   "metadata": {},
   "source": [
    "### Q5.Write a Pandas program to find the index of the first occurrence of the smallest and largest value of a given series. If the input is [1,1, 3, 7,88, 12, 88, 23, 3, 1, 9, 0], the output should be 0 and 4."
   ]
  },
  {
   "cell_type": "code",
   "execution_count": 5,
   "id": "2c22e068",
   "metadata": {},
   "outputs": [
    {
     "name": "stdout",
     "output_type": "stream",
     "text": [
      "first occurrence of the smallest and largest value of the series is:\n",
      "0\n",
      "4\n"
     ]
    }
   ],
   "source": [
    "import pandas as pd\n",
    "d=pd.Series([1,1,3,7,88,12,88,23,3,1,9,0])\n",
    "print('first occurrence of the smallest and largest value of the series is:')\n",
    "print(d.min())\n",
    "print(d.idxmax())"
   ]
  },
  {
   "cell_type": "markdown",
   "id": "88956a03",
   "metadata": {},
   "source": [
    "### Q6.Convert L=[’Cry’, ’Apple’, ’Orange’, ’Sky’, ’Banana’] to a pandas series. Create a new series with the elements which has a vowel. Create another series which starts with a vowel."
   ]
  },
  {
   "cell_type": "code",
   "execution_count": 2,
   "id": "d529055b",
   "metadata": {},
   "outputs": [
    {
     "name": "stdout",
     "output_type": "stream",
     "text": [
      "Series which has vowel: \n",
      " 1     Apple\n",
      "2    Orange\n",
      "4    Banana\n",
      "dtype: object\n",
      "Series which starts with vowel: \n",
      " 1     Apple\n",
      "2    Orange\n",
      "dtype: object\n"
     ]
    }
   ],
   "source": [
    "import pandas as pd\n",
    "d=pd.Series(['Cry','Apple','Orange','Sky','Banana'])\n",
    "vowel=d[d.str.lower().str.contains('[aeiou]')]\n",
    "print('Series which has vowel: \\n',vowel)\n",
    "start_vowel=d[d.str.lower().str.startswith(('a','e','i','o','u'))]\n",
    "print('Series which starts with vowel: \\n',start_vowel)"
   ]
  },
  {
   "cell_type": "markdown",
   "id": "f7cd1165",
   "metadata": {},
   "source": [
    "### Q7.Write a Pandas program to calculate the number of characters in each word in a given series."
   ]
  },
  {
   "cell_type": "code",
   "execution_count": 3,
   "id": "4d08f91c",
   "metadata": {},
   "outputs": [
    {
     "data": {
      "text/html": [
       "<div>\n",
       "<style scoped>\n",
       "    .dataframe tbody tr th:only-of-type {\n",
       "        vertical-align: middle;\n",
       "    }\n",
       "\n",
       "    .dataframe tbody tr th {\n",
       "        vertical-align: top;\n",
       "    }\n",
       "\n",
       "    .dataframe thead th {\n",
       "        text-align: right;\n",
       "    }\n",
       "</style>\n",
       "<table border=\"1\" class=\"dataframe\">\n",
       "  <thead>\n",
       "    <tr style=\"text-align: right;\">\n",
       "      <th></th>\n",
       "      <th>words</th>\n",
       "      <th>length</th>\n",
       "    </tr>\n",
       "  </thead>\n",
       "  <tbody>\n",
       "    <tr>\n",
       "      <th>0</th>\n",
       "      <td>Cry</td>\n",
       "      <td>3</td>\n",
       "    </tr>\n",
       "    <tr>\n",
       "      <th>1</th>\n",
       "      <td>Apple</td>\n",
       "      <td>5</td>\n",
       "    </tr>\n",
       "    <tr>\n",
       "      <th>2</th>\n",
       "      <td>Orange</td>\n",
       "      <td>6</td>\n",
       "    </tr>\n",
       "    <tr>\n",
       "      <th>3</th>\n",
       "      <td>Sky</td>\n",
       "      <td>3</td>\n",
       "    </tr>\n",
       "    <tr>\n",
       "      <th>4</th>\n",
       "      <td>Banana</td>\n",
       "      <td>6</td>\n",
       "    </tr>\n",
       "  </tbody>\n",
       "</table>\n",
       "</div>"
      ],
      "text/plain": [
       "    words  length\n",
       "0     Cry       3\n",
       "1   Apple       5\n",
       "2  Orange       6\n",
       "3     Sky       3\n",
       "4  Banana       6"
      ]
     },
     "execution_count": 3,
     "metadata": {},
     "output_type": "execute_result"
    }
   ],
   "source": [
    "L=pd.Series(['Cry', 'Apple', 'Orange', 'Sky', 'Banana'])\n",
    "length=L.str.len()\n",
    "df=pd.DataFrame({'words':L,'length':length})\n",
    "df"
   ]
  },
  {
   "cell_type": "markdown",
   "id": "d8d99123",
   "metadata": {},
   "source": [
    "### Q8.Create a 4*4 data frame where each entry is from the standard normal distribution. Create another matrix which is element wise square root of the previous matrix. Find the number of NaN values in each column. Find the mean and standard deviation of each column."
   ]
  },
  {
   "cell_type": "code",
   "execution_count": 12,
   "id": "f226ceb6",
   "metadata": {},
   "outputs": [
    {
     "name": "stdout",
     "output_type": "stream",
     "text": [
      "Square root of original matrix is: \n",
      " [[       nan 1.22549154 0.55674187        nan]\n",
      " [0.60310397        nan 1.41659299        nan]\n",
      " [       nan 1.04503413 1.1541244         nan]\n",
      " [       nan 1.27754593 1.08203418 0.95299793]]\n",
      "Number of NaN Values \n",
      " col1    3\n",
      "col2    1\n",
      "col3    0\n",
      "col4    3\n",
      "dtype: int64\n",
      "Mean of the column \n",
      " col1    0.603104\n",
      "col2    1.182691\n",
      "col3    1.052373\n",
      "col4    0.952998\n",
      "dtype: float64\n",
      "Standard deviation of column \n",
      " col1         NaN\n",
      "col2    0.122022\n",
      "col3    0.360342\n",
      "col4         NaN\n",
      "dtype: float64\n"
     ]
    },
    {
     "name": "stderr",
     "output_type": "stream",
     "text": [
      "C:\\Users\\beasj\\AppData\\Local\\Temp\\ipykernel_16712\\2299534491.py:2: RuntimeWarning: invalid value encountered in sqrt\n",
      "  sqrt=np.sqrt(a)\n"
     ]
    }
   ],
   "source": [
    "a=np.random.randn(4,4)\n",
    "sqrt=np.sqrt(a)\n",
    "d=pd.DataFrame(sqrt,columns=['col1','col2','col3','col4'])\n",
    "print('Square root of original matrix is: \\n',sqrt)\n",
    "nan= d.isna().sum(axis=0)\n",
    "print('Number of NaN Values \\n',nan)\n",
    "mean=d.mean(axis=0)\n",
    "print('Mean of the column \\n',mean)\n",
    "std=d.std(axis=0)\n",
    "print('Standard deviation of column \\n',std)"
   ]
  },
  {
   "cell_type": "markdown",
   "id": "b2e49d8d",
   "metadata": {},
   "source": [
    "### 9. Create a 4*4 matrix, where each row contains Student’s name, registration no, sec and cgpa. D=’Name’:[’A’,”B”,”C”,”D”],’Reg no’:[1,2,3,4], ’Sec’:[’i’,’ii’,’iii’,’iv’],’CGPA’:[7,8,9,10] Find the name, registration no of the student with highest cgpa.(Use np.max on cgpa column) What is the row and column number of the cell with the highest CGPA? (Convert dataframe to numpy array and see which indices has maximum value)"
   ]
  },
  {
   "cell_type": "code",
   "execution_count": 71,
   "id": "4b2e4059",
   "metadata": {},
   "outputs": [
    {
     "name": "stdout",
     "output_type": "stream",
     "text": [
      "10\n"
     ]
    },
    {
     "data": {
      "text/html": [
       "<div>\n",
       "<style scoped>\n",
       "    .dataframe tbody tr th:only-of-type {\n",
       "        vertical-align: middle;\n",
       "    }\n",
       "\n",
       "    .dataframe tbody tr th {\n",
       "        vertical-align: top;\n",
       "    }\n",
       "\n",
       "    .dataframe thead th {\n",
       "        text-align: right;\n",
       "    }\n",
       "</style>\n",
       "<table border=\"1\" class=\"dataframe\">\n",
       "  <thead>\n",
       "    <tr style=\"text-align: right;\">\n",
       "      <th></th>\n",
       "      <th>Name</th>\n",
       "      <th>Reg no</th>\n",
       "      <th>Sec</th>\n",
       "      <th>CGPA</th>\n",
       "    </tr>\n",
       "  </thead>\n",
       "  <tbody>\n",
       "    <tr>\n",
       "      <th>3</th>\n",
       "      <td>D</td>\n",
       "      <td>4</td>\n",
       "      <td>iv</td>\n",
       "      <td>10</td>\n",
       "    </tr>\n",
       "  </tbody>\n",
       "</table>\n",
       "</div>"
      ],
      "text/plain": [
       "  Name  Reg no Sec  CGPA\n",
       "3    D       4  iv    10"
      ]
     },
     "execution_count": 71,
     "metadata": {},
     "output_type": "execute_result"
    }
   ],
   "source": [
    "import pandas as pd\n",
    "import numpy as np\n",
    "df=pd.DataFrame({'Name':['A','B','C','D'],'Reg no':[1,2,3,4],'Sec':['i','ii','iii','iv'],'CGPA':[7,8,9,10]})\n",
    "a=np.max(df['CGPA'])\n",
    "print(a)\n",
    "df.loc[df['CGPA']>=10]"
   ]
  },
  {
   "cell_type": "markdown",
   "id": "7aeaf31e",
   "metadata": {},
   "source": [
    "### Q10.Create a dataframe object, df containing some Nan values. Count the number of missing values in each column of df. Which column has the maximum number of missing values?(create a function to count nan values in a column, use df.apply and that function)"
   ]
  },
  {
   "cell_type": "code",
   "execution_count": 14,
   "id": "614d287e",
   "metadata": {},
   "outputs": [
    {
     "data": {
      "text/html": [
       "<div>\n",
       "<style scoped>\n",
       "    .dataframe tbody tr th:only-of-type {\n",
       "        vertical-align: middle;\n",
       "    }\n",
       "\n",
       "    .dataframe tbody tr th {\n",
       "        vertical-align: top;\n",
       "    }\n",
       "\n",
       "    .dataframe thead th {\n",
       "        text-align: right;\n",
       "    }\n",
       "</style>\n",
       "<table border=\"1\" class=\"dataframe\">\n",
       "  <thead>\n",
       "    <tr style=\"text-align: right;\">\n",
       "      <th></th>\n",
       "      <th>A</th>\n",
       "      <th>B</th>\n",
       "      <th>C</th>\n",
       "    </tr>\n",
       "  </thead>\n",
       "  <tbody>\n",
       "    <tr>\n",
       "      <th>0</th>\n",
       "      <td>1.0</td>\n",
       "      <td>5.0</td>\n",
       "      <td>9</td>\n",
       "    </tr>\n",
       "    <tr>\n",
       "      <th>1</th>\n",
       "      <td>2.0</td>\n",
       "      <td>NaN</td>\n",
       "      <td>10</td>\n",
       "    </tr>\n",
       "    <tr>\n",
       "      <th>2</th>\n",
       "      <td>NaN</td>\n",
       "      <td>NaN</td>\n",
       "      <td>11</td>\n",
       "    </tr>\n",
       "    <tr>\n",
       "      <th>3</th>\n",
       "      <td>4.0</td>\n",
       "      <td>8.0</td>\n",
       "      <td>12</td>\n",
       "    </tr>\n",
       "  </tbody>\n",
       "</table>\n",
       "</div>"
      ],
      "text/plain": [
       "     A    B   C\n",
       "0  1.0  5.0   9\n",
       "1  2.0  NaN  10\n",
       "2  NaN  NaN  11\n",
       "3  4.0  8.0  12"
      ]
     },
     "execution_count": 14,
     "metadata": {},
     "output_type": "execute_result"
    }
   ],
   "source": [
    "import pandas as pd\n",
    "df=pd.DataFrame({'A':[1,2,np.nan,4],'B':[5,np.nan,np.nan,8],'C':[9,10,11,12]})\n",
    "df"
   ]
  },
  {
   "cell_type": "code",
   "execution_count": 19,
   "id": "d823c532",
   "metadata": {},
   "outputs": [
    {
     "name": "stdout",
     "output_type": "stream",
     "text": [
      "Number of missing values in each column:\n",
      " A    1\n",
      "B    2\n",
      "C    0\n",
      "dtype: int64\n",
      "Column with the maximum number of missing values: \n",
      " B\n"
     ]
    }
   ],
   "source": [
    "def count_nan(column):\n",
    "    return column.isna().sum(axis=0)\n",
    "nan_count_per_column = df.apply(count_nan)\n",
    "max_nan_column = nan_count_per_column.idxmax()\n",
    "print(\"Number of missing values in each column:\\n\",nan_count_per_column)\n",
    "print(\"Column with the maximum number of missing values: \\n\",max_nan_column)"
   ]
  },
  {
   "cell_type": "markdown",
   "id": "bac94bb1",
   "metadata": {},
   "source": [
    "### Q11.Create a 4*4 matrix, entries from np.arange(16). Reverse the entries of the matrix. The matrix will look like\n",
    "### [15 14 13 12\n",
    "###  11 10 9 8\n",
    "###   7 6 5 4\n",
    "###   3 2 1 0]"
   ]
  },
  {
   "cell_type": "code",
   "execution_count": 63,
   "id": "1ba50382",
   "metadata": {},
   "outputs": [
    {
     "data": {
      "text/plain": [
       "array([[15, 14, 13, 12],\n",
       "       [11, 10,  9,  8],\n",
       "       [ 7,  6,  5,  4],\n",
       "       [ 3,  2,  1,  0]])"
      ]
     },
     "execution_count": 63,
     "metadata": {},
     "output_type": "execute_result"
    }
   ],
   "source": [
    "import numpy as np\n",
    "import pandas as pd\n",
    "x=np.arange(16)\n",
    "y=(x[::-1])\n",
    "y.reshape(4,4)"
   ]
  },
  {
   "cell_type": "markdown",
   "id": "a6c1bb4e",
   "metadata": {},
   "source": [
    "### Q12. Create a 4*4 matrix where each entries are from standard normal distribution. Add a column to this data frame, which contains row wise minimums."
   ]
  },
  {
   "cell_type": "code",
   "execution_count": 64,
   "id": "c5d1f7ae",
   "metadata": {},
   "outputs": [
    {
     "name": "stdout",
     "output_type": "stream",
     "text": [
      "Rowise min: \n",
      "         col      col2      col3      col4    rowmin\n",
      "0 -2.088849  0.004032  0.943432 -0.190613 -2.088849\n",
      "1  0.194000  0.408431 -2.298339 -1.113578 -2.298339\n",
      "2  2.233143 -1.579618 -2.265826  0.639428 -2.265826\n",
      "3 -0.091476  0.824652  0.664190 -0.504344 -0.504344\n"
     ]
    }
   ],
   "source": [
    "import numpy as np\n",
    "import pandas as pd\n",
    "a=pd.DataFrame(np.random.randn(4,4),columns=['col','col2','col3','col4'])\n",
    "a['rowmin']=a.min(axis=1)\n",
    "print('Rowise min: \\n',a)"
   ]
  },
  {
   "cell_type": "markdown",
   "id": "2528a43a",
   "metadata": {},
   "source": [
    "### Q13.Create a 4*4 matrix entries from standard normal distribution. Add another row where all entries are NaN. Replace missing values in ’col1’ and ’col2’ columns with their respective mean."
   ]
  },
  {
   "cell_type": "code",
   "execution_count": 47,
   "id": "ce2d9f89",
   "metadata": {},
   "outputs": [
    {
     "name": "stdout",
     "output_type": "stream",
     "text": [
      "Original DataFrame: \n",
      "        col1      col2      col3      col4\n",
      "0  0.216883 -1.055876 -0.448906 -1.105835\n",
      "1  0.785826  1.460466 -3.467270 -1.484610\n",
      "2 -0.092597 -2.133621  1.047515 -0.218107\n",
      "3 -1.160500 -0.193780 -0.467356 -0.610092\n",
      "4       NaN       NaN       NaN       NaN\n"
     ]
    }
   ],
   "source": [
    "import numpy as np\n",
    "import pandas as pd\n",
    "a=np.random.randn(4,4)\n",
    "row=np.array([np.nan,np.nan,np.nan,np.nan])\n",
    "a=np.vstack([a,row])\n",
    "df=pd.DataFrame(a, columns=['col1','col2','col3','col4'])\n",
    "print('Original DataFrame: \\n',df)"
   ]
  }
 ],
 "metadata": {
  "kernelspec": {
   "display_name": "Python 3 (ipykernel)",
   "language": "python",
   "name": "python3"
  },
  "language_info": {
   "codemirror_mode": {
    "name": "ipython",
    "version": 3
   },
   "file_extension": ".py",
   "mimetype": "text/x-python",
   "name": "python",
   "nbconvert_exporter": "python",
   "pygments_lexer": "ipython3",
   "version": "3.11.5"
  }
 },
 "nbformat": 4,
 "nbformat_minor": 5
}
