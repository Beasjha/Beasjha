{
 "cells": [
  {
   "cell_type": "markdown",
   "metadata": {},
   "source": [
    "# NAME- BEAS JHA"
   ]
  },
  {
   "cell_type": "markdown",
   "metadata": {},
   "source": [
    "# REGD.NO-2241010079"
   ]
  },
  {
   "cell_type": "markdown",
   "metadata": {},
   "source": [
    "# SECTION- 2241007"
   ]
  },
  {
   "cell_type": "markdown",
   "metadata": {},
   "source": [
    "## Q1.) In a particular jurisdiction, old format of license platesconsist of three uppercase letters followed by threedigits and new format consist of four digits followed bythree uppercase letters. Write a program that begins byreading a string of characters from the user. Then yourprogram should display a message indicating whetherthe characters are valid for an old style license plate or anew style license plate."
   ]
  },
  {
   "cell_type": "code",
   "execution_count": 2,
   "metadata": {},
   "outputs": [
    {
     "name": "stdout",
     "output_type": "stream",
     "text": [
      "Enter the number plate: 1234KME\n",
      "1234KME old style number plate.\n"
     ]
    }
   ],
   "source": [
    "s=str(input('Enter the number plate: '))\n",
    "if s[0]<=\"9\"and s[1]<=\"9\"and s[2]<=\"9\":\n",
    "    print(s,\"old style number plate.\")\n",
    "elif s[0]>=str('65')and s[0]<=str('90'):\n",
    "    print(s,'is new style number plate.')\n",
    "else:\n",
    "    print('Invalid input.')"
   ]
  },
  {
   "cell_type": "markdown",
   "metadata": {},
   "source": [
    "## 2.check if a string is palindrome or not"
   ]
  },
  {
   "cell_type": "code",
   "execution_count": 3,
   "metadata": {
    "scrolled": true
   },
   "outputs": [
    {
     "name": "stdout",
     "output_type": "stream",
     "text": [
      "Enter a string: Toyota\n",
      "Not a Pallindrome\n"
     ]
    }
   ],
   "source": [
    "string=input('Enter a string: ')\n",
    "a=0\n",
    "b=len(string)-1\n",
    "while b>=a:\n",
    "    if string[a]!=string[b]:\n",
    "        print(\"Not a Pallindrome\")\n",
    "        break\n",
    "    a=a+1\n",
    "    b=b-1\n",
    "    if a>b:\n",
    "        print(\"Pallindrome\") "
   ]
  },
  {
   "cell_type": "code",
   "execution_count": 14,
   "metadata": {},
   "outputs": [
    {
     "name": "stdout",
     "output_type": "stream",
     "text": [
      "Enter a string: mom\n",
      "is pallindrome\n"
     ]
    }
   ],
   "source": [
    "st=input('Enter a string: ')\n",
    "r=''\n",
    "flag=0\n",
    "for i in range((len(st))//2):\n",
    "    if (st[i]!=st[-(i+1)]):\n",
    "        flag=1\n",
    "        break\n",
    "if flag==1:\n",
    "    print('is not pallindrome')\n",
    "else:\n",
    "    print('is pallindrome')"
   ]
  },
  {
   "cell_type": "markdown",
   "metadata": {},
   "source": [
    "## 3. Write a program that reads two positive integers from the user and uses Euclid’s algorithm to deter-mine and report their greatest common divisor."
   ]
  },
  {
   "cell_type": "code",
   "execution_count": 6,
   "metadata": {},
   "outputs": [
    {
     "name": "stdout",
     "output_type": "stream",
     "text": [
      "Enter  x: 57\n",
      "Enter  y: 98\n",
      "1\n"
     ]
    }
   ],
   "source": [
    "a=int(input('Enter  x: '))\n",
    "b=int(input('Enter  y: '))\n",
    "def gcd(a, b):\n",
    "    while(a > 0 and b > 0):\n",
    "        if (a > b):\n",
    "            a = a % b\n",
    "        else:\n",
    "            b = b % a\n",
    " \n",
    "    if (a == 0):\n",
    "        return b\n",
    "    return a \n",
    "ans = gcd(a,b)\n",
    "print(ans)"
   ]
  },
  {
   "cell_type": "markdown",
   "metadata": {},
   "source": [
    "## 4.Check if a given number is prime number or not"
   ]
  },
  {
   "cell_type": "code",
   "execution_count": 1,
   "metadata": {},
   "outputs": [
    {
     "name": "stdout",
     "output_type": "stream",
     "text": [
      "Enter a number: 35\n",
      "35  is not a prime number\n"
     ]
    }
   ],
   "source": [
    "num = int(input('Enter a number: '))\n",
    "factor=0\n",
    "for i in range(1,num+1):\n",
    "     if num%i==0:\n",
    "            factor+=1\n",
    "if factor==2:\n",
    "    print( num,' is a prime number')\n",
    "else:\n",
    "    print( num,' is not a prime number')\n",
    "     \n",
    "        "
   ]
  },
  {
   "cell_type": "markdown",
   "metadata": {},
   "source": [
    "## 5. Write a function that determines whether or not a password is good. We will define a good password to be a one that is at least 8 characters long and contains at least one uppercase letter, at least one lowercase letter, and at least one number"
   ]
  },
  {
   "cell_type": "code",
   "execution_count": 1,
   "metadata": {},
   "outputs": [
    {
     "name": "stdout",
     "output_type": "stream",
     "text": [
      "Enter a password: june3020\n",
      "Invalid Password\n"
     ]
    }
   ],
   "source": [
    "l, u, d= 0, 0, 0\n",
    "s = input('Enter a password: ')\n",
    "capitalalphabets=\"ABCDEFGHIJKLMNOPQRSTUVWXYZ\"\n",
    "smallalphabets=\"abcdefghijklmnopqrstuvwxyz\"\n",
    "digits=\"0123456789\"\n",
    "if (len(s) >= 8):\n",
    "    for i in s:\n",
    "        if (i in smallalphabets):\n",
    "            l+=1\n",
    "        if (i in capitalalphabets):\n",
    "            u+=1\n",
    "        if (i in digits):\n",
    "            d+=1\n",
    "if (l>=1 and u>=1 and d>=1 and l+u+d==len(s)):\n",
    "    print(\"Valid Password\")\n",
    "else:\n",
    "    print(\"Invalid Password\")"
   ]
  },
  {
   "cell_type": "markdown",
   "metadata": {},
   "source": [
    "## 6.sum of even and product of odd numbers"
   ]
  },
  {
   "cell_type": "code",
   "execution_count": 5,
   "metadata": {},
   "outputs": [
    {
     "name": "stdout",
     "output_type": "stream",
     "text": [
      "Enter a number: 1\n",
      "Enter a number: 2\n",
      "Enter a number: 3\n",
      "Enter a number: 4\n",
      "Enter a number: 5\n",
      "Enter a number: 6\n",
      "Enter a number: 7\n",
      "Enter a number: 8\n",
      "Enter a number: 9\n",
      "Enter a number: 10\n",
      "sum is :  30\n",
      "product :  945\n"
     ]
    }
   ],
   "source": [
    "sum1=0\n",
    "prdct=1\n",
    "for i in range(0,10):\n",
    "    n = int(input('Enter a number: '))\n",
    "    if n%2==0:\n",
    "        sum1+=n\n",
    "    else:\n",
    "        prdct*=n\n",
    "print('sum is : ',sum1)\n",
    "print('product : ',prdct)"
   ]
  },
  {
   "cell_type": "markdown",
   "metadata": {},
   "source": [
    "## 7.Find the factorial of a given number."
   ]
  },
  {
   "cell_type": "code",
   "execution_count": 4,
   "metadata": {},
   "outputs": [
    {
     "name": "stdout",
     "output_type": "stream",
     "text": [
      "Enter a number5\n",
      "120\n"
     ]
    }
   ],
   "source": [
    "n = int(input('Enter a number'))\n",
    "fact=1\n",
    "if n==0:\n",
    "    print('The factorial of 0 is 1')\n",
    "elif n<0:\n",
    "    print('Invalid input')\n",
    "else:\n",
    "    for i in range(n,1,-1):\n",
    "            fact*=i\n",
    "print(fact)"
   ]
  },
  {
   "cell_type": "markdown",
   "metadata": {},
   "source": [
    "## 8.Write a Python Program to Count the Number of Occurrence of a Character in String, without using str.count() method."
   ]
  },
  {
   "cell_type": "code",
   "execution_count": 3,
   "metadata": {
    "scrolled": true
   },
   "outputs": [
    {
     "name": "stdout",
     "output_type": "stream",
     "text": [
      "Enter a string: attitude\n",
      "Enter the character to which you want to search: t\n",
      "3\n"
     ]
    }
   ],
   "source": [
    "Str = input('Enter a string: ')\n",
    "char = input('Enter the character to which you want to search: ')\n",
    "count =0\n",
    "for i in Str:\n",
    "    if char==i:\n",
    "        count+=1\n",
    "print(count)"
   ]
  },
  {
   "cell_type": "markdown",
   "metadata": {},
   "source": [
    "## 9.Write a program to generate prime numbers in a certain range input by the user. if (number break else: print (number)"
   ]
  },
  {
   "cell_type": "code",
   "execution_count": null,
   "metadata": {},
   "outputs": [],
   "source": [
    "num = int(input('Enter a number: '))\n",
    "def find_prime(num):\n",
    "    for i in range(0,num+1):\n",
    "        \n",
    "for i in range"
   ]
  },
  {
   "cell_type": "markdown",
   "metadata": {},
   "source": [
    "## 10.Write a program to reverse the digits of a number"
   ]
  },
  {
   "cell_type": "code",
   "execution_count": 29,
   "metadata": {},
   "outputs": [
    {
     "name": "stdout",
     "output_type": "stream",
     "text": [
      "Enter a number: 1234\n",
      "4321\n"
     ]
    }
   ],
   "source": [
    "sum1=0\n",
    "num = int(input('Enter a number: '))\n",
    "while num!=0:\n",
    "    sum1 = (sum1*10)+num%10\n",
    "    num//=10\n",
    "print(sum1)"
   ]
  },
  {
   "cell_type": "markdown",
   "metadata": {},
   "source": [
    "## 11. Write a program to determine an Armstrong number."
   ]
  },
  {
   "cell_type": "code",
   "execution_count": 16,
   "metadata": {},
   "outputs": [
    {
     "name": "stdout",
     "output_type": "stream",
     "text": [
      "Enter a number: 1634\n",
      "Armstrong number\n"
     ]
    }
   ],
   "source": [
    "num = int(input('Enter a number: '))\n",
    "num1=num\n",
    "num2=num\n",
    "count,sum1=0,0\n",
    "while num!=0:\n",
    "    count+=1\n",
    "    num//=10\n",
    "while num1!=0:\n",
    "    sum1+=pow(num1%10,count)\n",
    "    num1//=10\n",
    "if sum1==num2:\n",
    "    print('Armstrong number')\n",
    "else:\n",
    "    print('Not armstrong number')"
   ]
  },
  {
   "cell_type": "markdown",
   "metadata": {},
   "source": [
    "## 12.Write a program that prompts the user for an integer number and then prints all it’s factors."
   ]
  },
  {
   "cell_type": "code",
   "execution_count": 1,
   "metadata": {},
   "outputs": [
    {
     "name": "stdout",
     "output_type": "stream",
     "text": [
      "Enter a number: 100\n",
      "1 2 4 5 10 20 25 50 100 "
     ]
    }
   ],
   "source": [
    "num = int(input('Enter a number: '))\n",
    "for i in range(1,num+1):\n",
    "    if num%i==0:\n",
    "        print(i,end=\" \")"
   ]
  },
  {
   "cell_type": "markdown",
   "metadata": {},
   "source": [
    "### 13. Write a program that prompts a number from the user and generates the Fibonacci sequence up to that number. The Fibonacci sequence is given as under: 0, 1, 1, 2, 3, 5, 8, ....."
   ]
  },
  {
   "cell_type": "code",
   "execution_count": 2,
   "metadata": {},
   "outputs": [
    {
     "name": "stdout",
     "output_type": "stream",
     "text": [
      "Enter a number: 8\n",
      "0 1 1 2 3 5 8 "
     ]
    }
   ],
   "source": [
    "num = int(input('Enter a number: '))\n",
    "a,c=0,0\n",
    "b=1\n",
    "print(a,b,end=\" \")\n",
    "while b<=num:\n",
    "    c=a+b\n",
    "    a=b\n",
    "    b=c\n",
    "    if b<=num:\n",
    "        print(b,end=\" \")\n",
    "#num=int(input)\n",
    "#a,c=0,0\n",
    "#b=1\n",
    "#print(a,b,end='')\n",
    "#"
   ]
  },
  {
   "cell_type": "markdown",
   "metadata": {},
   "source": [
    "## 14. Write a python program to find the area of a triangle whose three sides are given."
   ]
  },
  {
   "cell_type": "code",
   "execution_count": 7,
   "metadata": {},
   "outputs": [
    {
     "name": "stdout",
     "output_type": "stream",
     "text": [
      "Enter length of side1: 10\n",
      "Enter length of side2: 20\n",
      "Enter length of side3: 15\n",
      "Area of the triangle is:  72.61843774138907\n"
     ]
    }
   ],
   "source": [
    "import math as mt\n",
    "a = float(input('Enter length of side1: '))\n",
    "b = float(input('Enter length of side2: '))\n",
    "c = float(input('Enter length of side3: '))\n",
    "s = (a+b+c)/2\n",
    "area = mt.sqrt((s*(s-a)*(s-b)*(s-c)))\n",
    "print('Area of the triangle is: ',area)"
   ]
  },
  {
   "cell_type": "markdown",
   "metadata": {},
   "source": [
    "## 15. Write a python program to find out the average of a set of integers"
   ]
  },
  {
   "cell_type": "code",
   "execution_count": 11,
   "metadata": {},
   "outputs": [
    {
     "name": "stdout",
     "output_type": "stream",
     "text": [
      "Enter a of how many numbers you want to take average : 5\n",
      "Enter a number: 1\n",
      "Enter a number: 2\n",
      "Enter a number: 3\n",
      "Enter a number: 4\n",
      "Enter a number: 5\n",
      "Average of the set of numbers is 3.0\n"
     ]
    }
   ],
   "source": [
    "n = int(input('Enter a of how many numbers you want to take average : '))\n",
    "sum1=0\n",
    "for i in range(0,n):\n",
    "    num=int(input('Enter a number: '))\n",
    "    sum1+=num\n",
    "print('Average of the set of numbers is',(sum1/n))"
   ]
  },
  {
   "cell_type": "markdown",
   "metadata": {},
   "source": [
    "## 16. Write a python program to find the sum of the digits of an integer using a while loop."
   ]
  },
  {
   "cell_type": "code",
   "execution_count": 93,
   "metadata": {},
   "outputs": [
    {
     "name": "stdout",
     "output_type": "stream",
     "text": [
      "Enter a number12345\n",
      "15 "
     ]
    }
   ],
   "source": [
    "n= int(input('Enter a number'))\n",
    "sum1=0\n",
    "while n!=0:\n",
    "    rem=n%10\n",
    "    sum1+=rem\n",
    "    n=n//10\n",
    "    \n",
    "print(sum1,end=\" \")"
   ]
  },
  {
   "cell_type": "markdown",
   "metadata": {},
   "source": [
    "## 17. Write a python program to display all integers within the range 100-200 whose sum of digits is an even number."
   ]
  },
  {
   "cell_type": "code",
   "execution_count": 96,
   "metadata": {
    "scrolled": false
   },
   "outputs": [
    {
     "name": "stdout",
     "output_type": "stream",
     "text": [
      "101  103  105  107  109  110  112  114  116  118  121  123  125  127  129  130  132  134  136  138  141  143  145  147  149  150  152  154  156  158  161  163  165  167  169  170  172  174  176  178  181  183  185  187  189  190  192  194  196  198  "
     ]
    }
   ],
   "source": [
    "for i in range(100,200):\n",
    "    sum1=0\n",
    "    n=i\n",
    "    while i!=0:\n",
    "        rem=i%10\n",
    "        sum1+=rem\n",
    "        i=i//10\n",
    "    if(sum1%2==0):\n",
    "        print(n,end=\"  \")"
   ]
  },
  {
   "cell_type": "markdown",
   "metadata": {},
   "source": [
    "## 18. Write a python program that takes two numbers as input parameters and returns True or False depend-ing on whether they are co-primes. Two numbers are called co-prime if they don’t have any common divisor other than one."
   ]
  },
  {
   "cell_type": "code",
   "execution_count": 13,
   "metadata": {},
   "outputs": [
    {
     "name": "stdout",
     "output_type": "stream",
     "text": [
      "Emter a: 5\n",
      "Emter b: 11\n",
      "Co-prime\n"
     ]
    }
   ],
   "source": [
    "def co_prime(a,b):\n",
    "    f=0\n",
    "    if a>b:\n",
    "        a,b=b,a\n",
    "    for i in range(2,b):\n",
    "        if (a%i==0 and b%i==0):\n",
    "            f+=1\n",
    "            break\n",
    "        if(f!=0):\n",
    "            return False\n",
    "        else:\n",
    "            return True\n",
    "a= int(input('Emter a: '))\n",
    "b= int(input('Emter b: '))\n",
    "c=co_prime(a,b)\n",
    "if c==True:\n",
    "    print('Co-prime')\n",
    "else:\n",
    "    print('Not co_prime')"
   ]
  },
  {
   "cell_type": "markdown",
   "metadata": {},
   "source": [
    "## 19.(FizzBuzz Game in Python)Assume you are giventhe number ’n,’ and asked to display the stringrepresentations of all the numbers from 1 to n. However,there are some restrictions, such as:\n",
    "### – If the number can be divided by 3, it will output Fizz instead ofthe number.\n",
    "### – If the number is divisible by 5, the result will display Buzzinstead of the number.\n",
    "### – If the given number is divisible by both 3 and 5, Fizz Buzz will beprinted instead of the number.\n",
    "### – If the number cannot be divided by 3 or 5, it will be printed as astring."
   ]
  },
  {
   "cell_type": "markdown",
   "metadata": {},
   "source": [
    "### (FizzBuzz Game in Python)Assume you are given the number ’n,’ and asked to display the string representations of all the numbers from 1 to n. However, there are some restrictions, such as:\n",
    "### – If the number can be divided by 3, it will output Fizz instead of the number.\n",
    "### – If the number is divisible by 5, the result will display Buzz instead of the number.\n",
    "### – If the given number is divisible by both 3 and 5, Fizz Buzz will be printed instead of the number.\n",
    "### – If the number cannot be divided by 3 or 5, it will be printed as a string."
   ]
  },
  {
   "cell_type": "code",
   "execution_count": 5,
   "metadata": {},
   "outputs": [
    {
     "name": "stdout",
     "output_type": "stream",
     "text": [
      "Enter the number: 16\n",
      "1 2 Fizz 4 Buzz Fizz 7 8 Fizz Buzz 11 Fizz 13 14 FizzBuzz 16 "
     ]
    }
   ],
   "source": [
    "num = int(input('Enter the number: '))\n",
    "for i in range(1,num+1):\n",
    "    if i%3==0 and i%5==0:\n",
    "        print('FizzBuzz',end=\" \")\n",
    "    elif i%3==0:\n",
    "        print('Fizz',end=\" \")\n",
    "    elif i%5==0:\n",
    "        print('Buzz',end=\" \")\n",
    "    else:\n",
    "        print(str(i),end=\" \")"
   ]
  },
  {
   "cell_type": "markdown",
   "metadata": {},
   "source": [
    "## Q20.)(Rock-Paper-Scissor)Create a simple command-line Rock-Paper-Scissor game without using any external game libraries \n",
    "## #After the computer select from the remaining two choices(randomly),\n",
    "## the winner is decided as per the rules.\n",
    "## – Rock smashes scissors.(Rock wins over scissors)\n",
    "## – Paper covers rock.(Paper wins over Rock)\n",
    "## – Scissors cut paper.(Scissors win over paper)"
   ]
  },
  {
   "cell_type": "code",
   "execution_count": 7,
   "metadata": {
    "scrolled": true
   },
   "outputs": [
    {
     "name": "stdout",
     "output_type": "stream",
     "text": [
      "Enter a choice (rock, paper, scissors): rock\n",
      "You chose:  rock computer chose:  rock\n",
      "Both players selected rock. It's a tie!\n"
     ]
    }
   ],
   "source": [
    "import random\n",
    "user_action = input(\"Enter a choice (rock, paper, scissors): \")\n",
    "possible_actions = [\"rock\", \"paper\", \"scissors\"]\n",
    "computer_action = random.choice(possible_actions)\n",
    "print(\"You chose: \", user_action, \"computer chose: \" ,computer_action)\n",
    "\n",
    "if user_action == computer_action:\n",
    "    print(f\"Both players selected {user_action}. It's a tie!\")\n",
    "elif user_action == \"rock\":\n",
    "    if computer_action == \"scissors\":\n",
    "        print(\"Rock smashes scissors! You win!\")\n",
    "    else:\n",
    "        print(\"Paper covers rock! You lose.\")\n",
    "elif user_action == \"paper\":\n",
    "    if computer_action == \"rock\":\n",
    "        print(\"Paper covers rock! You win!\")\n",
    "    else:\n",
    "        print(\"Scissors cuts paper! You lose.\")\n",
    "elif user_action == \"scissors\":\n",
    "    if computer_action == \"paper\":\n",
    "        print(\"Scissors cuts paper! You win!\")\n",
    "    else:\n",
    "        print(\"Rock smashes scissors! You lose.\")"
   ]
  },
  {
   "cell_type": "markdown",
   "metadata": {},
   "source": [
    "### 22. (Guessing game problem) Write a program to select a random number between 1 and 10 and the user has to guess it in 5 attempts. Based on the user’s guess computer will give various hints if the number is high or low. When the user guess matches the number computer will print the answer along with the number of attempts"
   ]
  },
  {
   "cell_type": "code",
   "execution_count": 6,
   "metadata": {},
   "outputs": [
    {
     "name": "stdout",
     "output_type": "stream",
     "text": [
      "Enter your guess: 2\n",
      "Better luck next time!\n",
      "Enter your guess: 5\n",
      "Far enough!\n",
      "Enter your guess: 6\n",
      "Far enough!\n",
      "Enter your guess: 2\n",
      "Better luck next time!\n",
      "Enter your guess: 9\n",
      "Far enough!\n"
     ]
    }
   ],
   "source": [
    "import random as r\n",
    "ran=r.randint(1,10)\n",
    "c=0\n",
    "for i in range(5):\n",
    "    x=int(input('Enter your guess: '))\n",
    "    c+=1\n",
    "    if x==ran:\n",
    "        print('BINGO! You got it.')\n",
    "        print('No. of attempts:',c)\n",
    "        break\n",
    "    elif x+2<ran:\n",
    "        print('Close enough!')\n",
    "    elif x>ran-2:\n",
    "        print('Far enough!')\n",
    "    else:\n",
    "        print(\"Better luck next time!\")"
   ]
  }
 ],
 "metadata": {
  "kernelspec": {
   "display_name": "Python 3 (ipykernel)",
   "language": "python",
   "name": "python3"
  },
  "language_info": {
   "codemirror_mode": {
    "name": "ipython",
    "version": 3
   },
   "file_extension": ".py",
   "mimetype": "text/x-python",
   "name": "python",
   "nbconvert_exporter": "python",
   "pygments_lexer": "ipython3",
   "version": "3.11.5"
  }
 },
 "nbformat": 4,
 "nbformat_minor": 2
}
