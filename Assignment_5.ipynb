{
 "cells": [
  {
   "cell_type": "markdown",
   "id": "3c9ddf73",
   "metadata": {},
   "source": [
    "# NAME-Beas Jha\n",
    "# REGD.NO-2241010079\n",
    "# SECTION-2241007"
   ]
  },
  {
   "cell_type": "markdown",
   "id": "eae96642",
   "metadata": {},
   "source": [
    "### Q1.) Find the index of the 5th repetition of number 1 in x= np.array([1, 2, 1, 1, 3, 4, 3, 1, 1, 2, 1, 1, 2])."
   ]
  },
  {
   "cell_type": "code",
   "execution_count": 89,
   "id": "94db32b5",
   "metadata": {},
   "outputs": [
    {
     "name": "stdout",
     "output_type": "stream",
     "text": [
      "Index of the 5th repition number 1:  8\n"
     ]
    }
   ],
   "source": [
    "import numpy as np\n",
    "x=np.array([1, 2, 1, 1, 3, 4, 3, 1, 1, 2, 1, 1, 2])\n",
    "a=np.where(x==1)[0][4]\n",
    "print(\"Index of the 5th repition number 1: \",a)"
   ]
  },
  {
   "cell_type": "markdown",
   "id": "940245b7",
   "metadata": {},
   "source": [
    "### Q2.) Compute the Euclidean distance between two arrays a = np.array([1,2,3]) b = np.array([4,5,6]). "
   ]
  },
  {
   "cell_type": "code",
   "execution_count": 90,
   "id": "9c2cf473",
   "metadata": {},
   "outputs": [
    {
     "name": "stdout",
     "output_type": "stream",
     "text": [
      "Euclidean distance is:  5.196152422706632\n"
     ]
    }
   ],
   "source": [
    "import numpy as np\n",
    "a=np.array([1,2,3])\n",
    "b=np.array([4,5,6])\n",
    "dis=np.linalg.norm(a-b)\n",
    "print(\"Euclidean distance is: \",dis)"
   ]
  },
  {
   "cell_type": "markdown",
   "id": "53627e50",
   "metadata": {},
   "source": [
    "### Q3.a) Replace all odd numbers in the array with -1 without changing the array."
   ]
  },
  {
   "cell_type": "code",
   "execution_count": 79,
   "id": "40a8a16a",
   "metadata": {},
   "outputs": [
    {
     "name": "stdout",
     "output_type": "stream",
     "text": [
      "Array is: [ 1  2  3  4  5  6  7  8  9 10]\n",
      "[-1  2 -1  4 -1  6 -1  8 -1 10]\n"
     ]
    }
   ],
   "source": [
    "import numpy as np\n",
    "a=np.array([1,2,3,4,5,6,7,8,9,10])\n",
    "print(\"Array is:\", a)\n",
    "for i in range(len(a)):\n",
    "    if(i%2!=1):\n",
    "        a[i]=-1\n",
    "print(a)"
   ]
  },
  {
   "cell_type": "markdown",
   "id": "df8bac2e",
   "metadata": {},
   "source": [
    "### Q3.b) From the array a, replace all values greater than 30 to 30 and less than 10 to 10."
   ]
  },
  {
   "cell_type": "code",
   "execution_count": 45,
   "id": "4d587870",
   "metadata": {},
   "outputs": [
    {
     "name": "stdout",
     "output_type": "stream",
     "text": [
      "values greater than 30 : [[ 0  1  2  3  4  5]\n",
      " [ 6  7  8  9 10 11]\n",
      " [12 13 14 15 16 17]\n",
      " [18 19 20 21 22 23]\n",
      " [24 25 26 27 28 29]\n",
      " [30 30 30 30 30 30]]\n",
      "values less than 10 : [[10 10 10 10 10 10]\n",
      " [10 10 10 10 10 11]\n",
      " [12 13 14 15 16 17]\n",
      " [18 19 20 21 22 23]\n",
      " [24 25 26 27 28 29]\n",
      " [30 30 30 30 30 30]]\n"
     ]
    }
   ],
   "source": [
    "import numpy as np\n",
    "a=np.arange(36).reshape(6,6)\n",
    "a[a>30]=30\n",
    "print(\"values greater than 30 : \\n\",a)\n",
    "a[a<10]=10\n",
    "print(\"values less than 10 : \\n\", a)"
   ]
  },
  {
   "cell_type": "markdown",
   "id": "8a199306",
   "metadata": {},
   "source": [
    "### Q4.)Create a 4*4 matrix with entries from uniform distribution data in the interval 10 to 20. Normalize the matrix so that the minimum has a value of 0 and the maximum has a value of 1."
   ]
  },
  {
   "cell_type": "code",
   "execution_count": 5,
   "id": "8d77cc02",
   "metadata": {},
   "outputs": [
    {
     "name": "stdout",
     "output_type": "stream",
     "text": [
      "original matrix :- \n",
      " [[12.72338604 16.65122206 10.56379427 12.38373889]\n",
      " [15.57487999 15.02516057 18.01878316 16.23666459]\n",
      " [14.30912707 19.55990312 10.78754375 17.50792391]\n",
      " [10.80290467 12.56804855 16.75513447 16.39628706]]\n",
      "Normalized matrix is :- \n",
      " [[0.24005843 0.67667343 0.         0.20230353]\n",
      " [0.55702813 0.49592178 0.82869038 0.63059156]\n",
      " [0.41632809 1.         0.02487181 0.77190369]\n",
      " [0.02657931 0.22279124 0.68822424 0.64833506]]\n"
     ]
    }
   ],
   "source": [
    "import random\n",
    "import numpy as np\n",
    "s=np.random.uniform(10,20,(4,4))\n",
    "x=np.max(s)\n",
    "y=np.min(s)\n",
    "normalized=((s-y)/(x-y)) \n",
    "print(\"original matrix :- \\n\",s)\n",
    "print(\"Normalized matrix is :- \\n\",normalized)"
   ]
  },
  {
   "cell_type": "markdown",
   "id": "d34805c0",
   "metadata": {},
   "source": [
    "### Q5.)Find the mean, median, and standard deviation of a 1-d array."
   ]
  },
  {
   "cell_type": "code",
   "execution_count": 45,
   "id": "c6d92b95",
   "metadata": {},
   "outputs": [
    {
     "name": "stdout",
     "output_type": "stream",
     "text": [
      "5.0\n",
      "5.0\n",
      "3.1622776601683795\n"
     ]
    }
   ],
   "source": [
    "import numpy as np\n",
    "x=np.arange(11)\n",
    "mean=np.mean(x)\n",
    "median=np.median(x)\n",
    "std_deviation=np.std(x)\n",
    "print(mean)\n",
    "print(median)\n",
    "print(std_deviation)"
   ]
  },
  {
   "cell_type": "markdown",
   "id": "899ade0a",
   "metadata": {},
   "source": [
    "### Q6.)Get all items between 5 and 10 from a. Input: a= [2, 6, 1, 9, 10, 3, 27]."
   ]
  },
  {
   "cell_type": "code",
   "execution_count": 6,
   "id": "d863d424",
   "metadata": {},
   "outputs": [
    {
     "name": "stdout",
     "output_type": "stream",
     "text": [
      "required array :  [ 6  9 10]\n"
     ]
    }
   ],
   "source": [
    "import numpy as np\n",
    "a=np.array([2, 6, 1, 9, 10, 3, 27])\n",
    "x=a[(a>=5) & (a<=10)]\n",
    "print(\"required array : \",x)"
   ]
  },
  {
   "cell_type": "markdown",
   "id": "d5b5ebca",
   "metadata": {},
   "source": [
    "### Q7.)Convert a 1D array to a 2D array with 2 rows."
   ]
  },
  {
   "cell_type": "code",
   "execution_count": 7,
   "id": "0fd6f5e2",
   "metadata": {},
   "outputs": [
    {
     "name": "stdout",
     "output_type": "stream",
     "text": [
      "original array [0 1 2 3 4 5 6 7 8 9]\n"
     ]
    },
    {
     "data": {
      "text/plain": [
       "array([[0, 1, 2, 3, 4],\n",
       "       [5, 6, 7, 8, 9]])"
      ]
     },
     "execution_count": 7,
     "metadata": {},
     "output_type": "execute_result"
    }
   ],
   "source": [
    "import numpy as np\n",
    "a=np.arange(10)\n",
    "print('original array',a)\n",
    "b=a.reshape(2,5)\n",
    "b"
   ]
  },
  {
   "cell_type": "markdown",
   "id": "ef2d67d0",
   "metadata": {},
   "source": [
    "### Q8.)Create a 2D array and swap the first two rows and two columns."
   ]
  },
  {
   "cell_type": "code",
   "execution_count": 1,
   "id": "e20084b7",
   "metadata": {},
   "outputs": [
    {
     "name": "stdout",
     "output_type": "stream",
     "text": [
      "Original array is: \n",
      " [[ 0  1  2]\n",
      " [ 3  4  5]\n",
      " [ 6  7  8]\n",
      " [ 9 10 11]]\n",
      "when row & columns are swapped: \n",
      " [[ 2  1  0]\n",
      " [ 5  4  3]\n",
      " [ 8  7  6]\n",
      " [11 10  9]]\n"
     ]
    }
   ],
   "source": [
    "import numpy as np\n",
    "a=np.arange(12).reshape(4,3)\n",
    "print(\"Original array is: \\n\",a)\n",
    "a[:,[2,0]]=a[:,[0,2]]\n",
    "print(\"when row & columns are swapped: \\n\",a)\n",
    "##doubt!!"
   ]
  },
  {
   "cell_type": "markdown",
   "id": "2201f58c",
   "metadata": {},
   "source": [
    "### Q9.)Find the most frequent values in an array of positive integers. The original array is [6 9 5 1 7 5 1 0 1 5 5 0 8 9 0 7 0 7 6 5 1 1 9 5 3 8 7 9 6 3 4 5 9 7 2 7 0 2 2 6]."
   ]
  },
  {
   "cell_type": "code",
   "execution_count": 9,
   "id": "2ee47331",
   "metadata": {},
   "outputs": [
    {
     "name": "stdout",
     "output_type": "stream",
     "text": [
      "most frequent no is:  5\n"
     ]
    }
   ],
   "source": [
    "import numpy as np\n",
    "a=([6,9,5,1,7,5,1,0,1,5,5,0,8,9,0,7,0,7,6,5,1,1,9,5,3,8,7,9,6,3,4,5,9,7,2,7,0,2,2,6])\n",
    "mostfrequent=0\n",
    "maxcount=0\n",
    "for i in range(len(a)):\n",
    "    count=0\n",
    "    for j in range(len(a)):\n",
    "        if a[i]==a[j]:\n",
    "            count=count +1\n",
    "    if count > maxcount:\n",
    "        maxcount=count\n",
    "        mostfrequent= a[i]\n",
    "print(\"most frequent no is: \",mostfrequent)"
   ]
  },
  {
   "cell_type": "markdown",
   "id": "dbcf7325",
   "metadata": {},
   "source": [
    "### Q10.)Create a symmetric matrix of order 4*4, whose items are taken from a standard normal distribution."
   ]
  },
  {
   "cell_type": "code",
   "execution_count": 96,
   "id": "67e85ba9",
   "metadata": {},
   "outputs": [
    {
     "name": "stdout",
     "output_type": "stream",
     "text": [
      "[[ 0.75883588  0.42817602 -1.47149449  0.18322062]\n",
      " [ 0.42817602  1.9623839  -0.35326155 -0.56038164]\n",
      " [-1.47149449 -0.35326155 -0.2664805  -0.38347428]\n",
      " [ 0.18322062 -0.56038164 -0.38347428 -0.10253736]]\n"
     ]
    }
   ],
   "source": [
    "import numpy as np\n",
    "a = np.random.randn(4,4)\n",
    "b = (a+a.T)/2\n",
    "print(b)"
   ]
  },
  {
   "cell_type": "markdown",
   "id": "91444235",
   "metadata": {},
   "source": [
    "### Q11.)In a cricket match, a batsman scores any one of {1, 2, 3, 4, 6, 0}. When he scores 0, it will be considered as ”OUT”. If he will face 50 balls maximum, then find the score that he will make before getting ”OUT”. Draw the plot of the run scored by the batsman."
   ]
  },
  {
   "cell_type": "code",
   "execution_count": 10,
   "id": "5cd0da4a",
   "metadata": {},
   "outputs": [
    {
     "name": "stdout",
     "output_type": "stream",
     "text": [
      "run scored :  4\n",
      "p [1 3 0]\n",
      "cpath [1 4 4]\n"
     ]
    },
    {
     "data": {
      "text/plain": [
       "[<matplotlib.lines.Line2D at 0x173b04b8cd0>]"
      ]
     },
     "execution_count": 10,
     "metadata": {},
     "output_type": "execute_result"
    },
    {
     "data": {
      "image/png": "[encoded data removed]",
      "text/plain": [
       "<Figure size 640x480 with 1 Axes>"
      ]
     },
     "metadata": {},
     "output_type": "display_data"
    }
   ],
   "source": [
    "import numpy as np\n",
    "import random as r\n",
    "sum = 0\n",
    "path=[]\n",
    "l = [1,2,3,4,6,0]\n",
    "for i in range(50):\n",
    "    a = r.choice(l)\n",
    "    path.append(a)\n",
    "    if a==0:\n",
    "        break\n",
    "    else:\n",
    "        sum = sum + a\n",
    "print(\"run scored : \",sum)\n",
    "import matplotlib.pyplot as plt\n",
    "p=np.array(path)\n",
    "print('p',p)\n",
    "cpath=np.cumsum(p)\n",
    "print('cpath',cpath)\n",
    "plt.plot(cpath)"
   ]
  },
  {
   "cell_type": "markdown",
   "id": "c9b1c165",
   "metadata": {},
   "source": [
    "### Q12.)Compute the cross product of two 3*3 matrices."
   ]
  },
  {
   "cell_type": "code",
   "execution_count": 108,
   "id": "81299a27",
   "metadata": {},
   "outputs": [
    {
     "name": "stdout",
     "output_type": "stream",
     "text": [
      "Cross Product : \n",
      " [[123 132 141]\n",
      " [240 258 276]\n",
      " [357 384 411]]\n"
     ]
    }
   ],
   "source": [
    "import numpy as np\n",
    "a=np.arange(2,11).reshape(3,3)\n",
    "b = np.arange(10,19).reshape(3,3)\n",
    "x=a @ b\n",
    "print(\"Cross Product : \\n\",x)"
   ]
  },
  {
   "cell_type": "markdown",
   "id": "af6eb521",
   "metadata": {},
   "source": [
    "### Q13.)Write a NumPy program to sort the student id with increasing height of the students from the given student id and height. Print the integer indices that describe the sort order by multiple columns and the sorted data."
   ]
  },
  {
   "cell_type": "code",
   "execution_count": 112,
   "id": "3cf5a5fb",
   "metadata": {},
   "outputs": [
    {
     "name": "stdout",
     "output_type": "stream",
     "text": [
      "105 : 150\n",
      "104 : 155\n",
      "101 : 160\n",
      "103 : 165\n",
      "102 : 170\n"
     ]
    }
   ],
   "source": [
    "import numpy as np\n",
    "Id = np.array([101,102,103,104,105])\n",
    "height = np.array([160,170,165,155,150])\n",
    "x = np.lexsort((Id,height))\n",
    "for i in x :\n",
    "    print(Id[i],\":\",height[i])"
   ]
  },
  {
   "cell_type": "markdown",
   "id": "248a1398",
   "metadata": {},
   "source": [
    "### Q14.)Return array of odd rows and even columns from below numpy array : x= np.array([[3, 6, 9, 12], [15, 18, 21, 24], [27, 30, 33, 36], [39, 42, 45, 48], [51, 54, 57, 60]])"
   ]
  },
  {
   "cell_type": "code",
   "execution_count": 6,
   "id": "982363cb",
   "metadata": {},
   "outputs": [
    {
     "data": {
      "text/plain": [
       "array([[ 6, 12],\n",
       "       [30, 36],\n",
       "       [54, 60]])"
      ]
     },
     "execution_count": 6,
     "metadata": {},
     "output_type": "execute_result"
    }
   ],
   "source": [
    "import numpy as np\n",
    "x=np.array([[3, 6, 9, 12], [15, 18, 21, 24], [27, 30, 33, 36], [39, 42, 45, 48], [51, 54, 57, 60]])\n",
    "y=x[::2,1::2]\n",
    "y"
   ]
  },
  {
   "cell_type": "markdown",
   "id": "d3e61513",
   "metadata": {},
   "source": [
    "### Q15.)Calculate the sum of all rows and columns of a 2-D NumPy array."
   ]
  },
  {
   "cell_type": "code",
   "execution_count": 104,
   "id": "e6ec32c4",
   "metadata": {},
   "outputs": [
    {
     "name": "stdout",
     "output_type": "stream",
     "text": [
      "[[0 1 2]\n",
      " [3 4 5]\n",
      " [6 7 8]]\n",
      "Sum of rows: \n",
      " [ 3 12 21]\n",
      "Sum of columns: \n",
      " [ 9 12 15]\n"
     ]
    }
   ],
   "source": [
    "import numpy as np\n",
    "x=np.arange(9).reshape(3,3)\n",
    "print(x)\n",
    "rows=np.sum(x,axis=1)\n",
    "print(\"Sum of rows: \\n\",rows)\n",
    "columns=np.sum(x,axis=0)\n",
    "print(\"Sum of columns: \\n\",columns)"
   ]
  },
  {
   "cell_type": "markdown",
   "id": "c68790cf",
   "metadata": {},
   "source": [
    "### Q16.)Write a code to multiply a 5x3 matrix by a 3x2 matrix and create a real matrix product."
   ]
  },
  {
   "cell_type": "code",
   "execution_count": 105,
   "id": "944f1a65",
   "metadata": {},
   "outputs": [
    {
     "name": "stdout",
     "output_type": "stream",
     "text": [
      "Matrix 1 is: \n",
      " [[-0.11966248 -0.27113297  1.29626678]\n",
      " [-1.00470336 -0.56340554  0.69805854]\n",
      " [ 1.09468048  0.75309714 -1.57060858]\n",
      " [ 0.27113885 -0.96140072  1.37378877]\n",
      " [-0.96308759 -0.41923741 -1.2400004 ]]\n",
      "Matrix 2 is: \n",
      " [[-0.74134877  0.12072736]\n",
      " [-0.05255679  0.34379474]\n",
      " [ 0.69579656 -1.12214618]]\n"
     ]
    },
    {
     "data": {
      "text/plain": [
       "array([[ 1.00489947, -1.56226143],\n",
       "       [ 1.26015311, -1.09831476],\n",
       "       [-1.94394444,  2.15352113],\n",
       "       [ 0.80539717, -1.83938245],\n",
       "       [-0.12677043,  1.13105907]])"
      ]
     },
     "execution_count": 105,
     "metadata": {},
     "output_type": "execute_result"
    }
   ],
   "source": [
    "import numpy as np\n",
    "matrix1=np.random.randn(5,3)\n",
    "print(\"Matrix 1 is: \\n\",matrix1)\n",
    "matrix2=np.random.randn(3,2)\n",
    "print(\"Matrix 2 is: \\n\",matrix2)\n",
    "np.dot(matrix1,matrix2)"
   ]
  },
  {
   "cell_type": "markdown",
   "id": "84eae319",
   "metadata": {},
   "source": [
    "### Q17.)Write a code to find the roots of the polynomials x^2 − 4x + 7 = 0."
   ]
  },
  {
   "cell_type": "code",
   "execution_count": 4,
   "id": "79066fd3",
   "metadata": {},
   "outputs": [
    {
     "name": "stdout",
     "output_type": "stream",
     "text": [
      "root 1 :  (1+2.449489742783178j)\n",
      "root 2 :  (1-2.449489742783178j)\n"
     ]
    }
   ],
   "source": [
    "import numpy as np\n",
    "import cmath \n",
    "x = 1\n",
    "y = -2\n",
    "z = 7\n",
    "discriminant = cmath.sqrt(y**2-4*x*z)\n",
    "root1 = (-y + discriminant)/2*x\n",
    "r2 = (-y - discriminant)/2*x\n",
    "print(\"root 1 : \",root1)\n",
    "print(\"root 2 : \",r2)"
   ]
  },
  {
   "cell_type": "markdown",
   "id": "aae742cd",
   "metadata": {},
   "source": [
    "### Q18.)Write a code to create a 5x5 array with random values and normalize it row-wise."
   ]
  },
  {
   "cell_type": "code",
   "execution_count": 2,
   "id": "652e6f3f",
   "metadata": {},
   "outputs": [
    {
     "name": "stdout",
     "output_type": "stream",
     "text": [
      "Original array: \n",
      " [[-2.13930053 -0.99736167 -0.34028946  1.7135913   2.16676299]\n",
      " [-0.60035774 -0.65515794  0.27291599  0.38895177  0.8648641 ]\n",
      " [-2.08334974  0.43609637  0.73522302  2.02580719  0.02995071]\n",
      " [-1.68317178  0.29976068 -0.83055734 -0.33845148 -1.11719381]\n",
      " [-0.09207624  1.5912831   0.00742857  0.49075906 -0.90497188]]\n",
      "normalized array is: \n",
      " [[-0.61452521 -0.48457995 -0.28549285  0.62376502  0.79061857]\n",
      " [-0.17245588 -0.31831622  0.22896848  0.14158248  0.31557564]\n",
      " [-0.59845305  0.21188257  0.61683047  0.73741484  0.01092856]\n",
      " [-0.48349985  0.14564227 -0.69681317 -0.12319985 -0.40764688]\n",
      " [-0.02644938  0.77314369  0.00623235  0.17864139 -0.33021035]]\n"
     ]
    }
   ],
   "source": [
    "import numpy as np\n",
    "arr=np.random.randn(5,5)\n",
    "print(\"Original array: \\n\",arr)\n",
    "a=arr/np.linalg.norm(arr, axis=0,keepdims=True) \n",
    "print(\"normalized array is: \\n\",a)"
   ]
  },
  {
   "cell_type": "markdown",
   "id": "92112dd3",
   "metadata": {},
   "source": [
    "### Q19.)Write a NumPy program to create a 9* 9 *2 array with random values and extract any array of shape (5,5,2) from the said array."
   ]
  },
  {
   "cell_type": "code",
   "execution_count": 35,
   "id": "73928928",
   "metadata": {},
   "outputs": [
    {
     "data": {
      "text/plain": [
       "array([[[0.86328051, 0.05770206],\n",
       "        [0.89273858, 0.57883464],\n",
       "        [0.09572127, 0.02968536],\n",
       "        [0.11058246, 0.27015774],\n",
       "        [0.82602404, 0.12557839]],\n",
       "\n",
       "       [[0.25112266, 0.06912145],\n",
       "        [0.96150631, 0.9985568 ],\n",
       "        [0.77066512, 0.23547562],\n",
       "        [0.97111974, 0.10862244],\n",
       "        [0.35797511, 0.13678466]],\n",
       "\n",
       "       [[0.15954792, 0.12915912],\n",
       "        [0.70125781, 0.21105826],\n",
       "        [0.92501956, 0.1581923 ],\n",
       "        [0.68078306, 0.4635788 ],\n",
       "        [0.71294746, 0.76038611]],\n",
       "\n",
       "       [[0.89078697, 0.28611957],\n",
       "        [0.71103755, 0.95573732],\n",
       "        [0.16949654, 0.72744223],\n",
       "        [0.57320706, 0.82811872],\n",
       "        [0.0080026 , 0.22985313]],\n",
       "\n",
       "       [[0.89059943, 0.40952996],\n",
       "        [0.83370834, 0.05795422],\n",
       "        [0.06382331, 0.38375042],\n",
       "        [0.77922504, 0.2459271 ],\n",
       "        [0.32378942, 0.73124522]]])"
      ]
     },
     "execution_count": 35,
     "metadata": {},
     "output_type": "execute_result"
    }
   ],
   "source": [
    "import numpy as np\n",
    "arr=np.random.rand(9,9,2)\n",
    "x=arr[:5,:5,:2]\n",
    "x"
   ]
  },
  {
   "cell_type": "markdown",
   "id": "ba5e8c83",
   "metadata": {},
   "source": [
    "### Q20.)Write a code to create a 4*4 array with random values and sort each column."
   ]
  },
  {
   "cell_type": "code",
   "execution_count": 1,
   "id": "41044185",
   "metadata": {},
   "outputs": [
    {
     "name": "stdout",
     "output_type": "stream",
     "text": [
      "Original array: \n",
      " [[ 1.14232199 -1.34788397 -0.17777376  0.28641189]\n",
      " [-0.89843872  0.90670419  1.04703998 -0.43634319]\n",
      " [-0.55322196 -0.92713391  0.49146256  0.30590735]\n",
      " [-0.44743431  0.47144691  0.06100368  0.13409521]]\n",
      "Sorted array: \n",
      " [[-1.34788397 -0.17777376  0.28641189  1.14232199]\n",
      " [-0.89843872 -0.43634319  0.90670419  1.04703998]\n",
      " [-0.92713391 -0.55322196  0.30590735  0.49146256]\n",
      " [-0.44743431  0.06100368  0.13409521  0.47144691]]\n"
     ]
    }
   ],
   "source": [
    "import numpy as np\n",
    "x=np.random.randn(4,4)\n",
    "print(\"Original array: \\n\",x)\n",
    "x.sort(axis=1)\n",
    "print(\"Sorted array: \\n\",x)"
   ]
  },
  {
   "cell_type": "code",
   "execution_count": null,
   "id": "28e66af8",
   "metadata": {},
   "outputs": [],
   "source": []
  }
 ],
 "metadata": {
  "kernelspec": {
   "display_name": "Python 3 (ipykernel)",
   "language": "python",
   "name": "python3"
  },
  "language_info": {
   "codemirror_mode": {
    "name": "ipython",
    "version": 3
   },
   "file_extension": ".py",
   "mimetype": "text/x-python",
   "name": "python",
   "nbconvert_exporter": "python",
   "pygments_lexer": "ipython3",
   "version": "3.11.5"
  }
 },
 "nbformat": 4,
 "nbformat_minor": 5
}
