{
 "cells": [
  {
   "cell_type": "markdown",
   "metadata": {},
   "source": [
    "# NAME-Beas Jha\n",
    "# REGD.NO-2241010079\n",
    "# SECTION-2241007"
   ]
  },
  {
   "cell_type": "markdown",
   "metadata": {},
   "source": [
    "### 1. What is a List Object in Python? Write the syntax, how we create a List object? For the followingcreate List object of each scenario and display the output."
   ]
  },
  {
   "cell_type": "markdown",
   "metadata": {},
   "source": [
    "### (a) List of vowels."
   ]
  },
  {
   "cell_type": "code",
   "execution_count": 1,
   "metadata": {},
   "outputs": [
    {
     "name": "stdout",
     "output_type": "stream",
     "text": [
      "['a', 'e', 'i', 'o', 'u', 'A', 'E', 'I', 'O', 'U']\n"
     ]
    }
   ],
   "source": [
    "l=[]\n",
    "for i in 'aeiouAEIOU':\n",
    "    l.append(i)\n",
    "print(l)"
   ]
  },
  {
   "cell_type": "markdown",
   "metadata": {},
   "source": [
    "### (b) List of consonants."
   ]
  },
  {
   "cell_type": "code",
   "execution_count": 4,
   "metadata": {},
   "outputs": [
    {
     "name": "stdout",
     "output_type": "stream",
     "text": [
      "['B', 'b', 'C', 'c', 'D', 'd', 'F', 'f', 'G', 'g', 'H', 'h', 'J', 'j', 'K', 'k', 'L', 'l', 'M', 'm', 'N', 'n', 'P', 'p', 'Q', 'q', 'R', 'r', 'S', 's', 'T', 't', 'V', 'v', 'W', 'w', 'X', 'x', 'Y', 'y', 'Z', 'z']\n"
     ]
    }
   ],
   "source": [
    "l=[]\n",
    "for i in range(65,91):\n",
    "    if chr(i) not in 'aeiouAEIOU':\n",
    "        l.append(chr(i))\n",
    "        l.append(chr(i+32))\n",
    "print(l)"
   ]
  },
  {
   "cell_type": "markdown",
   "metadata": {},
   "source": [
    "### (c) List of even integers within 1 to 20."
   ]
  },
  {
   "cell_type": "code",
   "execution_count": 3,
   "metadata": {},
   "outputs": [
    {
     "name": "stdout",
     "output_type": "stream",
     "text": [
      "[2, 4, 6, 8, 10, 12, 14, 16, 18, 20]\n"
     ]
    }
   ],
   "source": [
    "l=[]\n",
    "for i in range(1,21):\n",
    "    if i%2==0:\n",
    "        l.append(i)\n",
    "print(l)"
   ]
  },
  {
   "cell_type": "markdown",
   "metadata": {},
   "source": [
    "### (d) List of odd integers within 1 to 20."
   ]
  },
  {
   "cell_type": "code",
   "execution_count": 5,
   "metadata": {},
   "outputs": [
    {
     "name": "stdout",
     "output_type": "stream",
     "text": [
      "[1, 3, 5, 7, 9, 11, 13, 15, 17, 19]\n"
     ]
    }
   ],
   "source": [
    "l=[]\n",
    "for i in range(1,21):\n",
    "    if i%2!=0:\n",
    "        l.append(i)\n",
    "print(l)"
   ]
  },
  {
   "cell_type": "markdown",
   "metadata": {},
   "source": [
    "### (e) List of all subjects in this semester."
   ]
  },
  {
   "cell_type": "code",
   "execution_count": 4,
   "metadata": {},
   "outputs": [
    {
     "name": "stdout",
     "output_type": "stream",
     "text": [
      "Enter the no of subjects you have in this semeter: 5\n",
      "Enter the subject names: DSW-1\n",
      "Enter the subject names: PS\n",
      "Enter the subject names: AD\n",
      "Enter the subject names: DL\n",
      "Enter the subject names: PME\n",
      "['DSW-1', 'PS', 'AD', 'DL', 'PME']\n"
     ]
    }
   ],
   "source": [
    "n=int(input('Enter the no of subjects you have in this semeter: '))\n",
    "l=[]\n",
    "for i in range(0,n):\n",
    "    m=input('Enter the subject names: ')\n",
    "    l.append(m)\n",
    "print(l)"
   ]
  },
  {
   "cell_type": "markdown",
   "metadata": {},
   "source": [
    "### (f) List of all subject codes in this semester."
   ]
  },
  {
   "cell_type": "code",
   "execution_count": 6,
   "metadata": {},
   "outputs": [
    {
     "name": "stdout",
     "output_type": "stream",
     "text": [
      "Enter the no of subjects you have in this semeter: 5\n",
      "Enter the subject codes: 2030\n",
      "Enter the subject codes: 4569\n",
      "Enter the subject codes: 1486\n",
      "Enter the subject codes: 1020\n",
      "Enter the subject codes: 3131\n",
      "[2030, 4569, 1486, 1020, 3131]\n"
     ]
    }
   ],
   "source": [
    "n=int(input('Enter the no of subjects you have in this semeter: '))\n",
    "l=[]\n",
    "for i in range(0,n):\n",
    "    m=int(input('Enter the subject codes: '))\n",
    "    l.append(m)\n",
    "print(l)"
   ]
  },
  {
   "cell_type": "markdown",
   "metadata": {},
   "source": [
    "### (g) List of temperatures from last 10 days."
   ]
  },
  {
   "cell_type": "code",
   "execution_count": 1,
   "metadata": {},
   "outputs": [
    {
     "name": "stdout",
     "output_type": "stream",
     "text": [
      "[28.5, 30.1, 29.7, 27.8, 26.3, 31.2, 29.9, 28.4, 30.5, 27.2]\n"
     ]
    }
   ],
   "source": [
    "temperatures=[28.5,30.1,29.7,27.8,26.3,31.2,29.9,28.4,30.5,27.2]\n",
    "print(temperatures)"
   ]
  },
  {
   "cell_type": "markdown",
   "metadata": {},
   "source": [
    "### 2. Predict the output of following instructions when typed in Jupyter Notebook Cell and note down every output in your assignment copy."
   ]
  },
  {
   "cell_type": "markdown",
   "metadata": {},
   "source": [
    "# a."
   ]
  },
  {
   "cell_type": "code",
   "execution_count": 1,
   "metadata": {},
   "outputs": [
    {
     "data": {
      "text/plain": [
       "[0, 1, 2, 3, 4, 5, 6, 7, 8, 9, 10, 11, 12, 13, 14]"
      ]
     },
     "execution_count": 1,
     "metadata": {},
     "output_type": "execute_result"
    }
   ],
   "source": [
    "listObj = range(15)\n",
    "listObj\n",
    "list(listObj)"
   ]
  },
  {
   "cell_type": "markdown",
   "metadata": {},
   "source": [
    "# b."
   ]
  },
  {
   "cell_type": "code",
   "execution_count": 2,
   "metadata": {},
   "outputs": [
    {
     "name": "stdout",
     "output_type": "stream",
     "text": [
      "2   Bob\n",
      "3   100.55\n",
      "4   55\n",
      "5   Will\n",
      "6   Will\n",
      "7   ['Will', 55, 'Will']\n",
      "8   [55, 'Will', 'XXXXX']\n",
      "9   ['Bob', 'Joe', 'Will', 55, 'Will']\n",
      "10  ['Will', 55, 'Will', 'XXXXX', 100.55]\n",
      "11  ['Bob', 'Joe', 'Will', 55, 'Will', 'XXXXX', 100.55]\n",
      "12  ['Bob', 'Will', 'Will']\n",
      "13  ['Bob', 'Will', 'Will', 100.55]\n",
      "14  [100.55, 'XXXXX', 'Will', 55, 'Will', 'Joe', 'Bob']\n",
      "15  ['Joe', 55]\n"
     ]
    }
   ],
   "source": [
    "someList = ['Bob', 'Joe', 'Will', 55, 'Will', 'XXXXX', 100.55]\n",
    "type(someList)\n",
    "print('2  ',someList[0])\n",
    "print('3  ',someList[-1])\n",
    "print('4  ',someList[3])\n",
    "print('5  ',someList[-3])\n",
    "print('6  ',someList[2])\n",
    "print('7  ',someList[2:5])\n",
    "print('8  ',someList[-4:-1])\n",
    "print('9  ',someList[:5])\n",
    "print('10 ',someList[2:])\n",
    "print('11 ',someList[:])\n",
    "print('12 ',someList[0:6:2])\n",
    "print('13 ',someList[::2])\n",
    "print('14 ',someList[::-1])\n",
    "print('15 ',someList[1:5:2])"
   ]
  },
  {
   "cell_type": "markdown",
   "metadata": {},
   "source": [
    "# c."
   ]
  },
  {
   "cell_type": "code",
   "execution_count": 1,
   "metadata": {},
   "outputs": [
    {
     "name": "stdout",
     "output_type": "stream",
     "text": [
      "1 [2, 3, 'SampleText', None]\n",
      "2 SampleText\n",
      "3 SampleText\n",
      "4 [2, 3, 'SampleText', None]\n"
     ]
    }
   ],
   "source": [
    "list1 = [2, 3, 7, None]\n",
    "list2 = ['foo', 'bar', 'baz']\n",
    "list2 = list1\n",
    "list2[2] = 'SampleText'\n",
    "print(1 ,list1)\n",
    "print(2 ,list1[2])\n",
    "print(3 ,list2[2])\n",
    "print(4, list2)"
   ]
  },
  {
   "cell_type": "markdown",
   "metadata": {},
   "source": [
    "# d."
   ]
  },
  {
   "cell_type": "code",
   "execution_count": 8,
   "metadata": {
    "scrolled": true
   },
   "outputs": [
    {
     "name": "stdout",
     "output_type": "stream",
     "text": [
      "['foo', 'bar', 'peekaboo']\n",
      "['foo', 'bar', 'peekaboo', 'dwarf']\n",
      "['foo', 'red', 'bar', 'peekaboo', 'dwarf']\n",
      "['foo', 'red', 'peekaboo', 'dwarf']\n",
      "['foo', 'red', 'peekaboo', 'dwarf', 'foo']\n",
      "['red', 'peekaboo', 'dwarf', 'foo']\n"
     ]
    },
    {
     "data": {
      "text/plain": [
       "False"
      ]
     },
     "execution_count": 8,
     "metadata": {},
     "output_type": "execute_result"
    }
   ],
   "source": [
    "wordList = ['foo', 'bar', 'baz']\n",
    "wordList[2] = 'peekaboo'\n",
    "print(wordList)\n",
    "wordList.append('dwarf')\n",
    "print(wordList)\n",
    "wordList.insert(1, 'red')\n",
    "print(wordList)\n",
    "wordList.pop(2)\n",
    "print(wordList)\n",
    "wordList.append('foo')\n",
    "print(wordList)\n",
    "wordList.remove('foo')\n",
    "print(wordList)\n",
    "'dwarf' in wordList\n",
    "'dwarf' not in wordList"
   ]
  },
  {
   "cell_type": "markdown",
   "metadata": {},
   "source": [
    "# e."
   ]
  },
  {
   "cell_type": "code",
   "execution_count": 12,
   "metadata": {},
   "outputs": [
    {
     "name": "stdout",
     "output_type": "stream",
     "text": [
      "1  [4, None, 'foo', 7, 8, 2, 3]\n",
      "2  ['A', ('B', 'C'), 4, None, 'foo', 7, 8, 2, 3]\n",
      "3  [4, None, 'foo', 7, 8, 2, 3]\n",
      "4  [7, 2, 5, 1, 3, 73, 51, 7, 3, 9, 11, 1, 1, 10, 9]\n",
      "5  [1, 1, 1, 2, 3, 3, 5, 7, 7, 9, 9, 10, 11, 51, 73]\n",
      "6  ['He', 'saw', 'six', 'small', 'foxes']\n",
      "7  ['He', 'foxes', 'saw', 'six', 'small']\n"
     ]
    }
   ],
   "source": [
    "list1 = [4, None, 'foo'] + [7, 8, 2, 3]\n",
    "print('1 ',list1)\n",
    "x = ['A', ('B', 'C')]\n",
    "x.extend(list1)\n",
    "print('2 ',x)\n",
    "print('3 ',list1)\n",
    "a = [7, 2 , 5, 1, 3, 73, 51, 7, 3, 9, 11, 1, 1, 10, 9]\n",
    "print('4 ',a)\n",
    "a.sort()\n",
    "print('5 ',a)\n",
    "b = ['saw', 'small', 'He', 'foxes', 'six']\n",
    "b.sort(key=len)\n",
    "print('6 ',b)\n",
    "b.sort()\n",
    "print('7 ',b)"
   ]
  },
  {
   "cell_type": "markdown",
   "metadata": {},
   "source": [
    "## 3. Develop Python Programs for the following below scenario"
   ]
  },
  {
   "cell_type": "markdown",
   "metadata": {},
   "source": [
    "## (a) Write a Python Program which will prompt user to ask a range of integer(lower limit and higher limit) value. Once you receive the input values from the user programmatically store odd numbers and even numbers into separate list objects and display them as output."
   ]
  },
  {
   "cell_type": "code",
   "execution_count": 3,
   "metadata": {},
   "outputs": [
    {
     "name": "stdout",
     "output_type": "stream",
     "text": [
      "Enter a lower limit : 2\n",
      "Enter higher limit : 9\n",
      "All odd numbers from range  2  to  9  is\n",
      " [3, 5, 7]\n",
      "All even numbers from range  2  to  9  is\n",
      " [2, 4, 6, 8]\n"
     ]
    }
   ],
   "source": [
    "lower_lim = int(input('Enter a lower limit : '))\n",
    "higher_lim = int(input('Enter higher limit : '))\n",
    "odd,even=[],[]\n",
    "for i in range(lower_lim,higher_lim):\n",
    "    if i%2==0:\n",
    "        even.append(i)\n",
    "    else:\n",
    "        odd.append(i)\n",
    "\n",
    "print('All odd numbers from range ',lower_lim,' to ',higher_lim,' is\\n',odd)\n",
    "print('All even numbers from range ',lower_lim,' to ',higher_lim,' is\\n',even)"
   ]
  },
  {
   "cell_type": "markdown",
   "metadata": {},
   "source": [
    "## (b) Write a Python Program which will prompt user to enter a positive integer value. Once you receive the input, find factors of the integer and store into a list objects and display them as output."
   ]
  },
  {
   "cell_type": "code",
   "execution_count": 7,
   "metadata": {},
   "outputs": [
    {
     "name": "stdout",
     "output_type": "stream",
     "text": [
      "Enter a positive number: 10\n",
      "All factors of  10 is\n",
      " [1, 2, 5, 10]\n"
     ]
    }
   ],
   "source": [
    "num = int(input('Enter a positive number: '))\n",
    "factors=[]\n",
    "for i in range(1,num+1):\n",
    "    if num%i==0:\n",
    "        factors.append(i)\n",
    "print('All factors of ',10,'is\\n',factors)"
   ]
  },
  {
   "cell_type": "markdown",
   "metadata": {},
   "source": [
    "## (c) Write a Python Program which will prompt user to enter a range of integer(lower limit and higher limit) value, list down all prime numbers and composite numbers into separate list objects and display them."
   ]
  },
  {
   "cell_type": "code",
   "execution_count": 12,
   "metadata": {},
   "outputs": [
    {
     "name": "stdout",
     "output_type": "stream",
     "text": [
      "Enter a lower limit : 1\n",
      "Enter higher limit : 21\n",
      "All prime numbers from range  1  to  21  is\n",
      " [2, 3, 5, 7, 11, 13, 17, 19]\n",
      "All composite numbers from range  1  to  21  is\n",
      " [1, 4, 6, 8, 9, 10, 12, 14, 15, 16, 18, 20]\n"
     ]
    }
   ],
   "source": [
    "lower = int(input('Enter a lower limit : '))\n",
    "higher = int(input('Enter higher limit : '))\n",
    "prime,composite=[],[]\n",
    "def isprime(num):   \n",
    "    factor=0\n",
    "    for i in range(1,num+1):\n",
    "            if num%i==0:\n",
    "                factor+=1\n",
    "    if factor==2:\n",
    "        return True\n",
    "    else:\n",
    "        return False\n",
    "    \n",
    "for i in range(lower,higher):\n",
    "    if isprime(i)==True:\n",
    "        prime.append(i)\n",
    "    else:\n",
    "        composite.append(i)\n",
    "\n",
    "print('All prime numbers from range ',lower,' to ',higher,' is\\n',prime)\n",
    "print('All composite numbers from range ',lower,' to ',higher,' is\\n',composite)"
   ]
  },
  {
   "cell_type": "markdown",
   "metadata": {},
   "source": [
    "## 4. What is a Tuple Object in Python? Write the syntax, how we create a Tuple object? For the following scenario create Tuple object of each scenario and display them as output."
   ]
  },
  {
   "cell_type": "raw",
   "metadata": {},
   "source": [
    "Tuple is one of 4 built-in data types in Python used to store collections of data, the other 3 are List, Set, and Dictionary, all with different qualities and usage. A tuple is a collection which is ordered and unchangeable. \n",
    "Tuples are written with round brackets. Tuple items are ordered, unchangeable, and allow duplicate values."
   ]
  },
  {
   "cell_type": "markdown",
   "metadata": {},
   "source": [
    "### Syntax"
   ]
  },
  {
   "cell_type": "raw",
   "metadata": {},
   "source": [
    "-->variable_name = (Attribut1,Attribute2,Attribute3...)\n",
    "-->We will alao declare a tuple also by using *** tuple *** keyword"
   ]
  },
  {
   "cell_type": "markdown",
   "metadata": {},
   "source": [
    "## (a) Tuple of few student’s information such as roll number, name, branch, specialization, mobile, email id etc."
   ]
  },
  {
   "cell_type": "code",
   "execution_count": 15,
   "metadata": {},
   "outputs": [
    {
     "name": "stdout",
     "output_type": "stream",
     "text": [
      "(2241007041, 'Swayam', 'C.S.E', 'DATA SCIENCE', 7681053346, 'swayamgouda2004@gmail.com')\n"
     ]
    }
   ],
   "source": [
    "Student_Information=(2241007041,'Swayam','C.S.E','DATA SCIENCE',7681053346,'swayamgouda2004@gmail.com')\n",
    "print(Student_Information)"
   ]
  },
  {
   "cell_type": "markdown",
   "metadata": {},
   "source": [
    "# (b) Tuple of few book’s information such as ISBN Number, book title, category, author, number of authors etc."
   ]
  },
  {
   "cell_type": "code",
   "execution_count": 17,
   "metadata": {},
   "outputs": [
    {
     "name": "stdout",
     "output_type": "stream",
     "text": [
      "('ISBN2241IS08', 'Elements Of Mathematics', 'Lonnie', '1')\n"
     ]
    }
   ],
   "source": [
    "books_information = ('ISBN2241IS08','Elements Of Mathematics','Lonnie','1')\n",
    "print(books_information)"
   ]
  },
  {
   "cell_type": "markdown",
   "metadata": {},
   "source": [
    "# (c) Tuple of few parts of a vehicle."
   ]
  },
  {
   "cell_type": "code",
   "execution_count": 18,
   "metadata": {},
   "outputs": [
    {
     "name": "stdout",
     "output_type": "stream",
     "text": [
      "('seat', 'engine', 'clutch', 'Acceletor')\n"
     ]
    }
   ],
   "source": [
    "parts = ('seat','engine','clutch','Acceletor')\n",
    "print(parts)"
   ]
  },
  {
   "cell_type": "markdown",
   "metadata": {},
   "source": [
    "# (d) Tuple of few institution details such as name of the institute, departments, no. of students, address etc."
   ]
  },
  {
   "cell_type": "code",
   "execution_count": 19,
   "metadata": {},
   "outputs": [
    {
     "name": "stdout",
     "output_type": "stream",
     "text": [
      "('ITER', 'C.S.E', 20000, 'JAGAMARA SQUARE')\n"
     ]
    }
   ],
   "source": [
    "institution_details=('ITER','C.S.E',20000,'JAGAMARA SQUARE')\n",
    "print(institution_details)"
   ]
  },
  {
   "cell_type": "markdown",
   "metadata": {},
   "source": [
    "## 5. Predict the output of following instructions when typed in Jupyter Notebook Cell and note down every output in your  assignment copy"
   ]
  },
  {
   "cell_type": "markdown",
   "metadata": {},
   "source": [
    "# a."
   ]
  },
  {
   "cell_type": "code",
   "execution_count": 26,
   "metadata": {},
   "outputs": [
    {
     "name": "stdout",
     "output_type": "stream",
     "text": [
      "1 (4, 5, 6, 'Ram', 'Hari', 120.5643)\n",
      "2 <class 'tuple'>\n",
      "3 (2, 5, 1, 9, 5, 3, 8)\n",
      "4 (4, 5, 6)\n",
      "5 (2, 5, 1, 9, 5, 3, 8)\n",
      "6 <class 'tuple'>\n",
      "7 ('s', 't', 'r', 'i', 'n', 'g')\n"
     ]
    }
   ],
   "source": [
    "tupleObj = (4, 5, 6, 'Ram', 'Hari', 120.5643)\n",
    "print('1',tupleObj)\n",
    "print('2',type(tupleObj))\n",
    "print('3',tuple((2, 5, 1, 9, 5, 3, 8)))\n",
    "print('4',tuple((4, 5, 6)))\n",
    "x = tuple([2, 5, 1, 9, 5, 3, 8])\n",
    "print('5',x)\n",
    "y = x\n",
    "print('6',type(y))\n",
    "tupleObj = tuple('string')\n",
    "print('7',tupleObj)"
   ]
  },
  {
   "cell_type": "markdown",
   "metadata": {},
   "source": [
    "# b."
   ]
  },
  {
   "cell_type": "code",
   "execution_count": 2,
   "metadata": {},
   "outputs": [
    {
     "name": "stdout",
     "output_type": "stream",
     "text": [
      "1   <class 'tuple'>\n",
      "2   Bob\n",
      "3   100.55\n",
      "4   55\n",
      "5   Will\n",
      "6   Will\n",
      "7   ('Will', 55, 'Will')\n",
      "8   (55, 'Will', 'XXXXX')\n",
      "9   ('Bob', 'Joe', 'Will', 55, 'Will')\n",
      "10  ('Will', 55, 'Will', 'XXXXX', 100.55)\n",
      "11  ('Bob', 'Joe', 'Will', 55, 'Will', 'XXXXX', 100.55)\n",
      "12  ('Bob', 'Will', 'Will')\n",
      "13  ('Bob', 'Will', 'Will', 100.55)\n",
      "14  (100.55, 'XXXXX', 'Will', 55, 'Will', 'Joe', 'Bob')\n",
      "15  ('Joe', 55)\n"
     ]
    }
   ],
   "source": [
    "someList = ['Bob', 'Joe', 'Will', 55, 'Will', 'XXXXX', 100.55]\n",
    "someList = tuple(someList)\n",
    "print('1  ',type(someList))\n",
    "print('2  ',someList[0])\n",
    "print('3  ',someList[-1])\n",
    "print('4  ',someList[3])\n",
    "print('5  ',someList[-3])\n",
    "print('6  ',someList[2])\n",
    "print('7  ',someList[2:5])\n",
    "print('8  ',someList[-4:-1])\n",
    "print('9  ',someList[:5])\n",
    "print('10 ',someList[2:])\n",
    "print('11 ',someList[:])\n",
    "print('12 ',someList[0:6:2])\n",
    "print('13 ',someList[::2])\n",
    "print('14 ',someList[::-1])\n",
    "print('15 ',someList[1:5:2])"
   ]
  },
  {
   "cell_type": "markdown",
   "metadata": {},
   "source": [
    "# c."
   ]
  },
  {
   "cell_type": "code",
   "execution_count": 3,
   "metadata": {},
   "outputs": [
    {
     "name": "stdout",
     "output_type": "stream",
     "text": [
      "1 ((4, 5, 6), (7, 8))\n",
      "2 (7, 8)\n",
      "('foo', [1, 2, 3], True)\n",
      "[2, 3, 'SampleText', None]\n"
     ]
    }
   ],
   "source": [
    "nestedTuple = (4, 5, 6),(7, 8)\n",
    "print('1',nestedTuple)\n",
    "print('2',nestedTuple[1])\n",
    "tup = tuple(['foo', [1, 2], True])\n",
    "tup[1].append(3)\n",
    "print(tup)\n",
    "print(list2)"
   ]
  },
  {
   "cell_type": "markdown",
   "metadata": {},
   "source": [
    "# d."
   ]
  },
  {
   "cell_type": "code",
   "execution_count": 11,
   "metadata": {},
   "outputs": [
    {
     "name": "stdout",
     "output_type": "stream",
     "text": [
      "1:  5\n",
      "2 : 7\n",
      "3 : 2\n",
      "4 : 1\n",
      "a=a, b=b, c=c\n",
      "a=a, b=b, c=c\n",
      "a=a, b=b, c=c\n",
      "5 : 1\n",
      "6 : 2\n",
      "7 : [3, 4, 5]\n"
     ]
    }
   ],
   "source": [
    " tup = (4, 5, 6)\n",
    "a, b, c = tup\n",
    "print(\"1: \",b)\n",
    "tup = 4, 5, (6, 7)\n",
    "a, b, (c, d) = tup\n",
    "print(\"2 :\",d)\n",
    "a, b = 1, 2\n",
    "a, b = b, a\n",
    "print(\"3 :\",a)\n",
    "print(\"4 :\",b)\n",
    "seq = [(1, 2, 3), (4, 5, 6), (7, 8, 9)]\n",
    "for a, b, c in seq:\n",
    "    print(f'a=a, b=b, c=c')\n",
    "    \n",
    "values = 1, 2, 3, 4, 5\n",
    "a, b, *rest = values\n",
    "print(\"5 :\",a)\n",
    "print(\"6 :\",b)\n",
    "print(\"7 :\",rest)"
   ]
  },
  {
   "cell_type": "markdown",
   "metadata": {},
   "source": [
    "# e."
   ]
  },
  {
   "cell_type": "code",
   "execution_count": 35,
   "metadata": {},
   "outputs": [
    {
     "name": "stdout",
     "output_type": "stream",
     "text": [
      "(4, None, 'foo', 6, 0, 'bar')\n",
      "('foo', 'bar', 'foo', 'bar', 'foo', 'bar', 'foo', 'bar')\n",
      "7\n",
      "14\n"
     ]
    }
   ],
   "source": [
    "tuple1 = (4, None, 'foo') + (6, 0) + ('bar',)\n",
    "print(tuple1)\n",
    "print(('foo', 'bar') * 4)\n",
    "a = (1, 7, 2, 7, 2, 2, 7, 3, 7, 4, 7, 7, 2, 7)\n",
    "print(a.count(7))\n",
    "print(len(a))\n"
   ]
  },
  {
   "cell_type": "markdown",
   "metadata": {},
   "source": [
    "# 6. Develop Python Programs for the following below scenario."
   ]
  },
  {
   "cell_type": "markdown",
   "metadata": {},
   "source": [
    "### (a) Write a Python Program which will prompt user to ask enter his/her name, department, mobile number, roll number etc. Once you receive the input values from the user programmatically store these values into tuple objects and finally display them as output. Try to enter details for at least 5 objects."
   ]
  },
  {
   "cell_type": "code",
   "execution_count": 4,
   "metadata": {},
   "outputs": [
    {
     "name": "stdout",
     "output_type": "stream",
     "text": [
      "Enter name: beas\n",
      "Enter department: cse\n",
      "Enter mobile number: 123\n",
      "Enter rollnumber: 4\n",
      "('beas', 'cse', 123, 4)\n"
     ]
    }
   ],
   "source": [
    "name = input('Enter name: ')\n",
    "department = input('Enter department: ')\n",
    "mob_number = int(input('Enter mobile number: '))\n",
    "roll = int(input('Enter rollnumber: '))\n",
    "Info = (name,department,mob_number,roll)\n",
    "print(Info)"
   ]
  },
  {
   "cell_type": "markdown",
   "metadata": {},
   "source": [
    "## (b) For all of the questions provided in Question No. 3, try to store all those values into Tuple objects display them."
   ]
  },
  {
   "cell_type": "code",
   "execution_count": null,
   "metadata": {},
   "outputs": [],
   "source": []
  },
  {
   "cell_type": "markdown",
   "metadata": {},
   "source": [
    "### (a) Write a Python Program which will prompt user to ask a range of integer(lower limit and higher limit) value. Once you receive the input values from the user programmatically store odd numbers and even numbers into separate tuple objects and display them as output."
   ]
  },
  {
   "cell_type": "code",
   "execution_count": 2,
   "metadata": {},
   "outputs": [
    {
     "name": "stdout",
     "output_type": "stream",
     "text": [
      "Odd:  (1, 3, 5, 7, 9, 11, 13, 15, 17, 19) Even:  (0, 2, 4, 6, 8, 10, 12, 14, 16, 18, 20)\n"
     ]
    }
   ],
   "source": [
    "odd=[]\n",
    "even=[]\n",
    "for i in range(0,21):\n",
    "    if i%2==0:\n",
    "        even.append(i)\n",
    "    else:\n",
    "        odd.append(i)\n",
    "odd=tuple(odd)\n",
    "even=tuple(even)\n",
    "print(\"Odd: \",odd,'Even: ',even)"
   ]
  },
  {
   "cell_type": "markdown",
   "metadata": {},
   "source": [
    "### (b) Write a Python Program which will prompt user to enter a positive integer value. Once you receive the input, find factors of the integer and store into a tuple objects and display them as output."
   ]
  },
  {
   "cell_type": "code",
   "execution_count": 8,
   "metadata": {},
   "outputs": [
    {
     "name": "stdout",
     "output_type": "stream",
     "text": [
      "Enter a positive number: 14\n",
      "All factors of  14 is\n",
      " (1, 2, 7, 14)\n"
     ]
    }
   ],
   "source": [
    "num = int(input('Enter a positive number: '))\n",
    "factors=[]\n",
    "for i in range(1,num+1):\n",
    "    if num%i==0:\n",
    "        factors.append(i)\n",
    "factors=tuple(factors)\n",
    "print('All factors of ',num,'is\\n',factors)"
   ]
  },
  {
   "cell_type": "markdown",
   "metadata": {},
   "source": [
    "### (c) Write a Python Program which will prompt user to enter a range of integer(lower limit and higher limit) value, list down all prime numbers and composite numbers into separate tuple objects and display them."
   ]
  },
  {
   "cell_type": "code",
   "execution_count": 4,
   "metadata": {},
   "outputs": [
    {
     "name": "stdout",
     "output_type": "stream",
     "text": [
      "Enter a lower limit : 2\n",
      "Enter higher limit : 21\n",
      "All prime numbers from range  2  to  21  is\n",
      " (2, 3, 5, 7, 11, 13, 17, 19)\n",
      "All composite numbers from range  2  to  21  is\n",
      " (4, 6, 8, 9, 10, 12, 14, 15, 16, 18, 20)\n"
     ]
    }
   ],
   "source": [
    "lower = int(input('Enter a lower limit : '))\n",
    "higher = int(input('Enter higher limit : '))\n",
    "prime,composite=[],[]\n",
    "def isprime(num):   \n",
    "    factor=0\n",
    "    for i in range(1,num+1):\n",
    "            if num%i==0:\n",
    "                factor+=1\n",
    "    if factor==2:\n",
    "        return True\n",
    "    else:\n",
    "        return False\n",
    "    \n",
    "for i in range(lower,higher):\n",
    "    if isprime(i)==True:\n",
    "        prime.append(i)\n",
    "    else:\n",
    "        composite.append(i)\n",
    "\n",
    "print('All prime numbers from range ',lower,' to ',higher,' is\\n',tuple(prime))\n",
    "print('All composite numbers from range ',lower,' to ',higher,' is\\n',tuple(composite))"
   ]
  },
  {
   "cell_type": "markdown",
   "metadata": {},
   "source": [
    "### 7. What is a Dictionary Object in Python? Write the syntax, how we create a Dictionary object? For the following questions create Dictionary object of each scenario and display them as output."
   ]
  },
  {
   "cell_type": "markdown",
   "metadata": {},
   "source": [
    "### (a) Dictionary of few peoples as key and their mobile numbers as values(at least for 10 key)."
   ]
  },
  {
   "cell_type": "code",
   "execution_count": 1,
   "metadata": {},
   "outputs": [
    {
     "name": "stdout",
     "output_type": "stream",
     "text": [
      "Enter name of person swayam\n",
      "Enter phone number of person 07681053346\n",
      "Enter name of person shubam\n",
      "Enter phone number of person 54456465465\n",
      "Enter name of person satya\n",
      "Enter phone number of person 65446546545\n",
      "{'swayam': 7681053346, 'shubam': 54456465465, 'satya': 65446546545}\n"
     ]
    }
   ],
   "source": [
    "D1={}\n",
    "for i in range(3):\n",
    "    name=input(\"Enter name of person \")\n",
    "    ph_number=int(input(\"Enter phone number of person \"))\n",
    "    D1[name]=ph_number\n",
    "print(D1)"
   ]
  },
  {
   "cell_type": "markdown",
   "metadata": {},
   "source": [
    "### (b) Dictionary of few books as key and their authors(authors should be a list object) as values."
   ]
  },
  {
   "cell_type": "code",
   "execution_count": 8,
   "metadata": {
    "scrolled": true
   },
   "outputs": [
    {
     "name": "stdout",
     "output_type": "stream",
     "text": [
      "Enter name of book Harry Potter\n",
      "Enter author J.K Rowling\n",
      "Enter name of book Murder on the orient express\n",
      "Enter author Agatha Christie\n",
      "Enter name of book The room on the roof\n",
      "Enter author Ruskin Bond\n",
      "{'J.K Rowling': 'Harry Potter', 'Agatha Christie': 'Murder on the orient express', 'Ruskin Bond': 'The room on the roof'}\n"
     ]
    }
   ],
   "source": [
    "D2={}\n",
    "for i in range(3):\n",
    "    book=input(\"Enter name of book \")\n",
    "    author=input(\"Enter author \")\n",
    "    D2[author]=book\n",
    "print(D2)"
   ]
  },
  {
   "cell_type": "markdown",
   "metadata": {},
   "source": [
    "### (c) Dictionary of different types numbers(such as prime, composite, even, odd etc.) as keys and their examples as values."
   ]
  },
  {
   "cell_type": "code",
   "execution_count": 6,
   "metadata": {},
   "outputs": [
    {
     "name": "stdout",
     "output_type": "stream",
     "text": [
      "{'prime': [2, 3, 5, 7, 11, 13, 17, 19], 'even': [0, 4, 6, 8, 10, 12, 14, 16, 18, 20], 'odd': [1, 9, 15]}\n"
     ]
    }
   ],
   "source": [
    "def isprime(n):\n",
    "    factor=0\n",
    "    for i in range(1,n+1):\n",
    "        if n%i==0:\n",
    "            factor+=1\n",
    "    if factor==2:\n",
    "        return True\n",
    "    else:\n",
    "        return False\n",
    "    \n",
    "def even(n):\n",
    "    if n%2==0:\n",
    "        return True\n",
    "    else:\n",
    "        return False\n",
    "    \n",
    "D={'prime':[],'even':[],'odd':[]}\n",
    "\n",
    "for i in range(21):\n",
    "    if isprime(i)==True:\n",
    "        D['prime'].append(i)\n",
    "    elif even(i)==True:\n",
    "        D['even'].append(i)\n",
    "    elif even(i)==False:\n",
    "        D['odd'].append(i)\n",
    "print(D)"
   ]
  },
  {
   "cell_type": "markdown",
   "metadata": {},
   "source": [
    "### (d) Dictionary of engineering branches as keys and their specializations as values."
   ]
  },
  {
   "cell_type": "code",
   "execution_count": 11,
   "metadata": {},
   "outputs": [
    {
     "name": "stdout",
     "output_type": "stream",
     "text": [
      "Enter branches: CSE\n",
      "Enter specialization: DATA SCIENCE\n",
      "Enter branches:  CSE\n",
      "Enter specialization: CYBER\n",
      "Enter branches: CSE\n",
      "Enter specialization: AI\n",
      "{'CSE': 'AI', ' CSE': 'CYBER'}\n"
     ]
    }
   ],
   "source": [
    "D1={}\n",
    "for i in range(3):\n",
    "    Branches=input('Enter branches: ')\n",
    "    specialization=input('Enter specialization: ')\n",
    "    D1[Branches]=specialization\n",
    "print(D1)"
   ]
  },
  {
   "cell_type": "markdown",
   "metadata": {},
   "source": [
    "### (e) Dictionary of employee ids as keys and their details(as tuple) as values."
   ]
  },
  {
   "cell_type": "code",
   "execution_count": 9,
   "metadata": {},
   "outputs": [
    {
     "name": "stdout",
     "output_type": "stream",
     "text": [
      "Enter name: Lipsa\n",
      "Enter phone number: 2819038451\n",
      "Enter name: Soumya\n",
      "Enter phone number: 9872835765\n",
      "Enter name: Tiash\n",
      "Enter phone number: 9823501737\n",
      "{10: ('Lipsa', 2819038451), 1: ('Soumya', 9872835765), 9: ('Tiash', 9823501737)}\n"
     ]
    }
   ],
   "source": [
    "D3={}\n",
    "import random as r\n",
    "for i in range(3):\n",
    "    L=[]\n",
    "    ids=r.randint(1,11)\n",
    "    name=input('Enter name: ')\n",
    "    L.append(name)\n",
    "    ph_number=int(input('Enter phone number: '))\n",
    "    L.append(ph_number)\n",
    "    D3[ids]=tuple(L)\n",
    "print(D3)"
   ]
  },
  {
   "cell_type": "markdown",
   "metadata": {},
   "source": [
    "### (f) Dictionary of subject code as key and subject details(as list) such as course name, reference book, teacher name, department etc. as values."
   ]
  },
  {
   "cell_type": "code",
   "execution_count": 10,
   "metadata": {},
   "outputs": [
    {
     "name": "stdout",
     "output_type": "stream",
     "text": [
      "Enter subject name: pme\n",
      "Enter reference book: abcd\n",
      "Enter subject name: dsw\n",
      "Enter reference book: lmno\n",
      "Enter subject name: ps\n",
      "Enter reference book: bcd\n",
      "{1005: ['pme', 'abcd'], 1002: ['dsw', 'lmno'], 1009: ['ps', 'bcd']}\n"
     ]
    }
   ],
   "source": [
    "D4={}\n",
    "import random as r\n",
    "for i in range(3):\n",
    "    L=[]\n",
    "    sub_code=r.randint(1,11)+1000\n",
    "    sub_name=input('Enter subject name: ')\n",
    "    L.append(sub_name)\n",
    "    reference_book=input('Enter reference book: ')\n",
    "    L.append(reference_book)\n",
    "    D4[sub_code]=L\n",
    "print(D4)"
   ]
  },
  {
   "cell_type": "markdown",
   "metadata": {},
   "source": [
    "### 8. Predict the output of following instructions when typed in Jupyter Notebook Cell and note down every output in your assignment copy."
   ]
  },
  {
   "cell_type": "markdown",
   "metadata": {},
   "source": [
    "### (a) dictObj = {'fruits': ['banana', 'apple', 'guava', 'jackfruit'], 'colors': ('red', 'blue', 'green'), 'int': 165, 'float': 99.56, 'string':'some sample text'}"
   ]
  },
  {
   "cell_type": "code",
   "execution_count": 7,
   "metadata": {},
   "outputs": [],
   "source": [
    "dictObj = {'fruits': ['banana', 'apple', 'guava', 'jackfruit'], 'colors': ('red', 'blue', 'green'),\n",
    "               'int': 165, 'float': 99.56, 'string':'some sample text'}"
   ]
  },
  {
   "cell_type": "markdown",
   "metadata": {},
   "source": [
    "# a."
   ]
  },
  {
   "cell_type": "code",
   "execution_count": 13,
   "metadata": {},
   "outputs": [
    {
     "name": "stdout",
     "output_type": "stream",
     "text": [
      "1 {'fruits': ['banana', 'apple', 'guava', 'jackfruit'], 'colors': ('red', 'blue', 'green'), 'int': 165, 'float': 99.56, 'string': 'some sample text', 10: 'New added value'}\n",
      "2 {'fruits': ['banana', 'apple', 'guava', 'jackfruit'], 'colors': ('red', 'blue', 'green'), 'int': 165, 'float': 99.56, 'string': 'some sample text', 10: 'New added value'}\n",
      "3 New added value\n",
      "4 165\n",
      "5 ('red', 'blue', 'green')\n",
      "6 New added value\n",
      "7 New added value\n"
     ]
    }
   ],
   "source": [
    "print('1',dictObj)\n",
    "type(dictObj)\n",
    "dictObj[10] = 'New added value'\n",
    "print('2',dictObj)\n",
    "print('3',dictObj[10])\n",
    "print('4',dictObj['int'])\n",
    "print('5',dictObj['colors'])\n",
    "print('6',dictObj[10])\n",
    "print('7',dictObj[10])"
   ]
  },
  {
   "cell_type": "markdown",
   "metadata": {},
   "source": [
    "# b."
   ]
  },
  {
   "cell_type": "code",
   "execution_count": 19,
   "metadata": {},
   "outputs": [
    {
     "name": "stdout",
     "output_type": "stream",
     "text": [
      "1 True\n",
      "False\n",
      "2 False\n",
      "3 False\n",
      "4 I am ancient 10 years old\n",
      "5 {'Bob': 10, 'Limba': 55, 'XXXXX': 100}\n"
     ]
    }
   ],
   "source": [
    "dictObj2 = {'Bob':10, 'Joe':34, 'Will':77, 'Limba':55,'Will':36, 'XXXXX':100}\n",
    "print('1','Limba' in dictObj2)\n",
    "print(55 in dictObj2)\n",
    "print('2','55' in dictObj2)\n",
    "print('3','XXXXXX' in dictObj2)\n",
    "dictObj2['Will'] = ' '.join(['I', 'am', 'ancient', '10', 'years old'])\n",
    "print('4',dictObj2['Will'])\n",
    "dictObj2.pop('Joe')\n",
    "dictObj2.pop('Will')\n",
    "print('5',dictObj2)"
   ]
  },
  {
   "cell_type": "markdown",
   "metadata": {},
   "source": [
    "# c."
   ]
  },
  {
   "cell_type": "code",
   "execution_count": 23,
   "metadata": {},
   "outputs": [
    {
     "name": "stdout",
     "output_type": "stream",
     "text": [
      "1 ['fruits', 'colors', 'int', 'float', 'string', 10, 'iter', 'b', 'c']\n",
      "2 [['banana', 'apple', 'guava', 'jackfruit'], ('red', 'blue', 'green'), 165, 99.56, 'some sample text', 'New added value', 'INSTITUTE OF TECHNICAL EDUCATION & RESEARCH', 'foo', 12]\n",
      "3 [('fruits', ['banana', 'apple', 'guava', 'jackfruit']), ('colors', ('red', 'blue', 'green')), ('int', 165), ('float', 99.56), ('string', 'some sample text'), (10, 'New added value'), ('iter', 'INSTITUTE OF TECHNICAL EDUCATION & RESEARCH'), ('b', 'foo'), ('c', 12)]\n",
      "4 ['fruits', 'colors', 'int', 'float', 'string', 10, 'iter', 'b', 'c']\n",
      "5 [['banana', 'apple', 'guava', 'jackfruit'], ('red', 'blue', 'green'), 165, 99.56, 'some sample text', 'New added value', 'INSTITUTE OF TECHNICAL EDUCATION & RESEARCH', 'foo', 12]\n",
      "6 [('fruits', ['banana', 'apple', 'guava', 'jackfruit']), ('colors', ('red', 'blue', 'green')), ('int', 165), ('float', 99.56), ('string', 'some sample text'), (10, 'New added value'), ('iter', 'INSTITUTE OF TECHNICAL EDUCATION & RESEARCH'), ('b', 'foo'), ('c', 12)]\n",
      "7 {'fruits': ['banana', 'apple', 'guava', 'jackfruit'], 'colors': ('red', 'blue', 'green'), 'int': 165, 'float': 99.56, 'string': 'some sample text', 10: 'New added value', 'iter': 'INSTITUTE OF TECHNICAL EDUCATION & RESEARCH', 'b': 'foo', 'c': 12}\n",
      "8 {'fruits': ['banana', 'apple', 'guava', 'jackfruit'], 'colors': ('red', 'blue', 'green'), 'int': 165, 'float': 99.56, 'string': 'some sample text', 10: 'New added value', 'iter': 'INSTITUTE OF TECHNICAL EDUCATION & RESEARCH', 'b': 'foo', 'c': 12}\n"
     ]
    }
   ],
   "source": [
    "print('1',list(dictObj.keys()))\n",
    "print('2',list(dictObj.values()))\n",
    "print('3',list(dictObj.items()))\n",
    "dictObj['iter'] = 'INSTITUTE OF TECHNICAL EDUCATION & RESEARCH'\n",
    "print('4',list(dictObj.keys()))\n",
    "print('5',list(dictObj.values()))\n",
    "print('6',list(dictObj.items()))\n",
    "print('7',dictObj)\n",
    "dictObj.update({'b': 'foo', 'c': 12})\n",
    "print('8',dictObj)"
   ]
  },
  {
   "cell_type": "markdown",
   "metadata": {},
   "source": [
    "# d."
   ]
  },
  {
   "cell_type": "code",
   "execution_count": 27,
   "metadata": {},
   "outputs": [
    {
     "name": "stdout",
     "output_type": "stream",
     "text": [
      "{0: 'A', 1: 'B', 2: 'C', 3: 'D', 4: 'E', 5: 'F', 6: 'G', 7: 'G', 8: 'I', 9: 'J'} "
     ]
    }
   ],
   "source": [
    "myDict = {}\n",
    "keyList = range(10)\n",
    "valueList = ['A', 'B', 'C', 'D', 'E', 'F', 'G', 'G', 'I', 'J']\n",
    "for key, value in zip(keyList, valueList):\n",
    "    myDict[key] = value\n",
    "print(myDict,end=\" \")"
   ]
  },
  {
   "cell_type": "markdown",
   "metadata": {},
   "source": [
    "# e."
   ]
  },
  {
   "cell_type": "code",
   "execution_count": 5,
   "metadata": {},
   "outputs": [
    {
     "name": "stdout",
     "output_type": "stream",
     "text": [
      "defaultdict(<class 'list'>, {'r': ['rabbit'], 'a': ['apple'], 'd': ['dog'], 'b': ['bat', 'boat', 'book'], 'c': ['cat', 'cup'], 'k': ['kit'], 'm': ['music']}) "
     ]
    }
   ],
   "source": [
    "from collections import defaultdict\n",
    "words = ['rabbit', 'apple', 'dog', 'bat', 'cat', 'cup', 'kit', 'boat', 'book', 'music']\n",
    "myDict = defaultdict(list)\n",
    "for w in words:\n",
    "    myDict[w[0]].append(w)\n",
    "print(myDict,end=\" \")"
   ]
  },
  {
   "cell_type": "markdown",
   "metadata": {},
   "source": [
    "# 9.Develop Python Programs for the following below scenario."
   ]
  },
  {
   "cell_type": "markdown",
   "metadata": {},
   "source": [
    "### (a) Write a Python Program which will prompt user to ask enter his/her name, profession, mobile number, employment organization, email id etc. Once you receive the input values from the user programmatically store these values into Dictionary objects such as mobile number is the key and other details as tuple object. Try to enter details for at least 7 objects."
   ]
  },
  {
   "cell_type": "code",
   "execution_count": null,
   "metadata": {},
   "outputs": [
    {
     "name": "stdout",
     "output_type": "stream",
     "text": [
      "Enter name: beu\n",
      "Enter profession: student\n",
      "Enter mobno: 123\n",
      "Enter organization:cse\n",
      "Enter email-id: b@gmail\n",
      "{123: ('beu', 'student', 'cse', 'b@gmail')}\n"
     ]
    }
   ],
   "source": [
    "employee={}\n",
    "for i in range(3):\n",
    "    name=input('Enter name: ')\n",
    "    profession=input('Enter profession: ')\n",
    "    mob_no=int(input('Enter mobno: '))\n",
    "    org=input('Enter organization:')\n",
    "    email=input('Enter email-id: ')\n",
    "    employee_info=(name,profession,org,email)\n",
    "    employee[mob_no]=employee_info\n",
    "    print(employee)"
   ]
  },
  {
   "cell_type": "markdown",
   "metadata": {},
   "source": [
    "### (b) Develop a Python program which will take lower limit +ve integer and higher limit +ve integer values from the user as user input(lower limit should be lesser than the higher limit). Following that calculate factors of those elements within the range and store them as key value pairs(dictionary object) such as the number is the key and factors are as values of a list object and display them."
   ]
  },
  {
   "cell_type": "code",
   "execution_count": 50,
   "metadata": {},
   "outputs": [
    {
     "name": "stdout",
     "output_type": "stream",
     "text": [
      "Enter lower bound: 2\n",
      "Enter upper bound: 6\n",
      "{2: [1, 2]}\n"
     ]
    }
   ],
   "source": [
    "lb=int(input('Enter lower bound: '))\n",
    "ub=int(input('Enter upper bound: '))\n",
    "def fact(n):\n",
    "    factor=[]\n",
    "    for i in range(1,n+1):\n",
    "        if n%i==0:\n",
    "            factor.append(i)\n",
    "    return factor\n",
    "D={}\n",
    "for i in range(lb,ub+1):\n",
    "    D.update({lb:fact(lb)})\n",
    "print(D)"
   ]
  },
  {
   "cell_type": "markdown",
   "metadata": {},
   "source": [
    "### 10.What is a Set Object in Python? Write different syntax, how we create a Set object? For the following questions create Set object of each scenario and display them as output."
   ]
  },
  {
   "cell_type": "markdown",
   "metadata": {},
   "source": [
    "### (a) Set of all cricket players currently working in Indian Cricket Team."
   ]
  },
  {
   "cell_type": "code",
   "execution_count": 52,
   "metadata": {},
   "outputs": [
    {
     "name": "stdout",
     "output_type": "stream",
     "text": [
      "{'Shubman Gill', 'Hardik Pandya', 'Shreyas Iyer', 'Ravindra Jadeja', 'Rohit Sharma', 'Suryakumar Yadav', 'Virat Kohli', 'Ravichandran Ashwin'}\n"
     ]
    }
   ],
   "source": [
    "cricket_team={'Rohit Sharma','Shreyas Iyer','Shubman Gill','Suryakumar Yadav','Virat Kohli','Hardik Pandya',\n",
    "              'Ravichandran Ashwin','Ravindra Jadeja'}\n",
    "print(cricket_team)"
   ]
  },
  {
   "cell_type": "markdown",
   "metadata": {},
   "source": [
    "### (b) Set of all 3rd semester courses."
   ]
  },
  {
   "cell_type": "code",
   "execution_count": 53,
   "metadata": {},
   "outputs": [
    {
     "name": "stdout",
     "output_type": "stream",
     "text": [
      "{'DSW', 'PS', 'PME', 'AD-1', 'DLD'}\n"
     ]
    }
   ],
   "source": [
    "semester={'AD-1','PS','DSW','DLD','PME'}\n",
    "print(semester)"
   ]
  },
  {
   "cell_type": "markdown",
   "metadata": {},
   "source": [
    "### (c) Set of all books you are following for this semester."
   ]
  },
  {
   "cell_type": "code",
   "execution_count": 54,
   "metadata": {},
   "outputs": [
    {
     "name": "stdout",
     "output_type": "stream",
     "text": [
      "{'Advance Embedded Systems', 'Database Concepts and System', 'Digital Logic System Design', 'Algorithms', 'Advanced Topics in Discrete Optimization', 'Computer Programming and Algorithms', 'Agent Based Intelligent Systems', 'Theory of Programming Languages'}\n"
     ]
    }
   ],
   "source": [
    "books={'Agent Based Intelligent Systems',\n",
    "'Theory of Programming Languages',\n",
    "'Algorithms',\n",
    "'Computer Programming and Algorithms',\n",
    "'Database Concepts and System',\n",
    "'Digital Logic System Design',\n",
    "'Advanced Topics in Discrete Optimization',\n",
    "'Advance Embedded Systems'}\n",
    "print(books)"
   ]
  },
  {
   "cell_type": "markdown",
   "metadata": {},
   "source": [
    "### (d) Set of 10 integer objects(both -ve and +ve) which are divisible by 11"
   ]
  },
  {
   "cell_type": "code",
   "execution_count": 5,
   "metadata": {},
   "outputs": [
    {
     "name": "stdout",
     "output_type": "stream",
     "text": [
      "{0, 33, 66, -22, 11, 44, -11, 22, 55}\n"
     ]
    }
   ],
   "source": [
    "div_by_11={-22,-11,0,11,22,33,44,55,66}\n",
    "print(div_by_11)"
   ]
  },
  {
   "cell_type": "markdown",
   "metadata": {},
   "source": [
    "### (e) Set of words containing more than 3 vowels."
   ]
  },
  {
   "cell_type": "code",
   "execution_count": 4,
   "metadata": {},
   "outputs": [
    {
     "name": "stdout",
     "output_type": "stream",
     "text": [
      "{'communication', 'adventure', 'unbelievable', 'extraordinary', Ellipsis, 'education'}\n"
     ]
    }
   ],
   "source": [
    "vowel={\"education\",\"extraordinary\",\"unbelievable\",\"adventure\",\"communication\",...}\n",
    "print(vowel)"
   ]
  },
  {
   "cell_type": "markdown",
   "metadata": {},
   "source": [
    "### 11. Predict the output of following instructions when typed in Jupyter Notebook Cell and note down every output in your assignment copy."
   ]
  },
  {
   "cell_type": "code",
   "execution_count": 60,
   "metadata": {},
   "outputs": [
    {
     "name": "stdout",
     "output_type": "stream",
     "text": [
      "1 {1, 2, 3, 4, 5, '2', 7, '1', '5'}\n",
      "2 {1, '6', '2', 3, '1', 6, 7, 9, 10, '5', '9'}\n",
      "<class 'set'>\n",
      "<class 'set'>\n",
      "3 {1, 2, 3, 4, 5, '2', 7, '1', '55', '5'}\n",
      "4 {1, '6', '2', 3, '1', 6, 7, 9, 10, '5', '9'}\n",
      "5 True\n",
      "6 False\n"
     ]
    }
   ],
   "source": [
    "A = {5, 3, 1, 4, 4, 2, 3, 4, 5, '5', 2, '2', 7, '1'}\n",
    "print('1',A)\n",
    "B = {'6', 3, 1, 3, '5', '2', 7, '1', 6, '9', 10, 9, '6'}\n",
    "print('2',B)\n",
    "print(type(A))\n",
    "print(type(B))\n",
    "A.add('55')\n",
    "print('3',A)\n",
    "D = B\n",
    "print('4',D)\n",
    "print('5',D == B)\n",
    "print('6',D == A)"
   ]
  },
  {
   "cell_type": "code",
   "execution_count": 63,
   "metadata": {},
   "outputs": [
    {
     "name": "stdout",
     "output_type": "stream",
     "text": [
      "{1, '6', '1', '2', 3, 6, 7, 9, 10, '5', '9'}\n",
      "{1, '6', '1', '2', 3, 6, 7, 9, 10, '5', '9'}\n",
      "{1, '6', '2', 3, '1', 6, 7, 9, 10, '5', '9'}\n",
      "{1, '6', 3, '2', '1', 6, 7, 9, 10, '5', '9'}\n",
      "{1, '6', '2', 3, '1', 6, 7, 9, 10, '5', '9'}\n",
      "{1, '6', 3, '2', '1', 6, 7, 9, 10, '5', '9'}\n"
     ]
    }
   ],
   "source": [
    "C = A\n",
    "C.union(D)\n",
    "print(C)\n",
    "C.intersection(D)\n",
    "print(C)\n",
    "print(D)\n",
    "C.intersection_update(D)\n",
    "print(C)\n",
    "print(D)\n",
    "C.update(D)\n",
    "print(C)"
   ]
  },
  {
   "cell_type": "code",
   "execution_count": 66,
   "metadata": {},
   "outputs": [
    {
     "name": "stdout",
     "output_type": "stream",
     "text": [
      "{1, '6', 3, '2', '1', 6, 7, 9, 10, '5', '9', 54}\n",
      "{1, '6', 3, '2', '1', 6, 7, 9, 10, 'Sample Text', '5', '9', 54}\n",
      "{1, '6', '2', 3, '1', 6, 7, 9, 10, '5', '9'}\n",
      "{1, '6', 3, '2', '1', 6, 7, 9, 10, 'Sample Text', '5', '9', 54}\n",
      "{1, '6', '2', 3, '1', 6, 7, 9, 10, '5', '9'}\n",
      "{'Sample Text', 54}\n",
      "{1, '6', '2', 3, '1', 6, 7, 9, 10, '5', '9'}\n"
     ]
    }
   ],
   "source": [
    "C.add(54)\n",
    "print(C)\n",
    "C.add('Sample Text')\n",
    "print(C)\n",
    "print(D)\n",
    "C.difference(D)\n",
    "print(C)\n",
    "print(D)\n",
    "C.difference_update(D)\n",
    "print(C)\n",
    "print(D)"
   ]
  },
  {
   "cell_type": "code",
   "execution_count": 71,
   "metadata": {},
   "outputs": [
    {
     "name": "stdout",
     "output_type": "stream",
     "text": [
      "{'Sample Text', 54}\n",
      "{'1', 3, '2', '6', 1, 6, 9, 7, 10, 'Sample Text', '5', '9', 54}\n",
      "{'1', 3, '2', '6', 1, 6, 9, 7, 10, 'Sample Text', '5', '9', 54}\n",
      "{1, '6', '2', 3, '1', 6, 7, 9, 10, '5', '9'}\n"
     ]
    }
   ],
   "source": [
    "C.symmetric_difference(D)\n",
    "print(C)\n",
    "C.symmetric_difference_update(D)\n",
    "print(C)\n",
    "A.issubset(B)\n",
    "A.issuperset(B)\n",
    "A.isdisjoint(B)\n",
    "print(A)\n",
    "print(B)"
   ]
  },
  {
   "cell_type": "code",
   "execution_count": null,
   "metadata": {
    "scrolled": true
   },
   "outputs": [],
   "source": [
    "X = {1, 2, 3, 4, 2, 3, 5, 6, 1, 2, 9, 8}\n",
    "print(X)\n",
    "X.add(7)\n",
    "X.add(100.65)\n",
    "X.add('ITER')\n",
    "X.add(76.89)\n",
    "print('1',X)\n",
    "print('2',X | X)\n",
    "print('3',X & X)\n",
    "print('4',X - X)\n",
    "print('5',X ^ X)"
   ]
  },
  {
   "cell_type": "code",
   "execution_count": null,
   "metadata": {},
   "outputs": [],
   "source": []
  }
 ],
 "metadata": {
  "kernelspec": {
   "display_name": "Python 3 (ipykernel)",
   "language": "python",
   "name": "python3"
  },
  "language_info": {
   "codemirror_mode": {
    "name": "ipython",
    "version": 3
   },
   "file_extension": ".py",
   "mimetype": "text/x-python",
   "name": "python",
   "nbconvert_exporter": "python",
   "pygments_lexer": "ipython3",
   "version": "3.11.5"
  }
 },
 "nbformat": 4,
 "nbformat_minor": 2
}
