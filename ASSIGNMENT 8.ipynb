{
 "cells": [
  {
   "cell_type": "markdown",
   "id": "98e95a15",
   "metadata": {},
   "source": [
    "# NAME: Beas Jha\n",
    "# ROLL: 20\n",
    "# SECTION:07\n",
    "# REG NO:2241010079"
   ]
  },
  {
   "cell_type": "code",
   "execution_count": 1,
   "id": "8e70325e",
   "metadata": {},
   "outputs": [],
   "source": [
    "import pandas as pd\n",
    "import numpy as np"
   ]
  },
  {
   "cell_type": "markdown",
   "id": "a70a5f21",
   "metadata": {},
   "source": [
    "### Q1.)Create the above table using pandas dataframe."
   ]
  },
  {
   "cell_type": "code",
   "execution_count": 5,
   "id": "455c6c01",
   "metadata": {},
   "outputs": [
    {
     "data": {
      "text/html": [
       "<div>\n",
       "<style scoped>\n",
       "    .dataframe tbody tr th:only-of-type {\n",
       "        vertical-align: middle;\n",
       "    }\n",
       "\n",
       "    .dataframe tbody tr th {\n",
       "        vertical-align: top;\n",
       "    }\n",
       "\n",
       "    .dataframe thead th {\n",
       "        text-align: right;\n",
       "    }\n",
       "</style>\n",
       "<table border=\"1\" class=\"dataframe\">\n",
       "  <thead>\n",
       "    <tr style=\"text-align: right;\">\n",
       "      <th></th>\n",
       "      <th>Name</th>\n",
       "      <th>CGPA</th>\n",
       "      <th>Percentage</th>\n",
       "      <th>Attendance</th>\n",
       "      <th>Country</th>\n",
       "    </tr>\n",
       "  </thead>\n",
       "  <tbody>\n",
       "    <tr>\n",
       "      <th>0</th>\n",
       "      <td>Ram</td>\n",
       "      <td>8.8</td>\n",
       "      <td>92</td>\n",
       "      <td>NaN</td>\n",
       "      <td>India</td>\n",
       "    </tr>\n",
       "    <tr>\n",
       "      <th>1</th>\n",
       "      <td>Rehman</td>\n",
       "      <td>7.9</td>\n",
       "      <td>91</td>\n",
       "      <td>NaN</td>\n",
       "      <td>India</td>\n",
       "    </tr>\n",
       "    <tr>\n",
       "      <th>2</th>\n",
       "      <td>Mary</td>\n",
       "      <td>8.3</td>\n",
       "      <td>90</td>\n",
       "      <td>NaN</td>\n",
       "      <td>Pakistan</td>\n",
       "    </tr>\n",
       "    <tr>\n",
       "      <th>3</th>\n",
       "      <td>Joseph</td>\n",
       "      <td>6.2</td>\n",
       "      <td>89</td>\n",
       "      <td>NaN</td>\n",
       "      <td>Pakistan</td>\n",
       "    </tr>\n",
       "    <tr>\n",
       "      <th>4</th>\n",
       "      <td>James</td>\n",
       "      <td>5.7</td>\n",
       "      <td>88</td>\n",
       "      <td>NaN</td>\n",
       "      <td>UAE</td>\n",
       "    </tr>\n",
       "    <tr>\n",
       "      <th>5</th>\n",
       "      <td>Abdullah</td>\n",
       "      <td>8.6</td>\n",
       "      <td>87</td>\n",
       "      <td>NaN</td>\n",
       "      <td>Israel</td>\n",
       "    </tr>\n",
       "    <tr>\n",
       "      <th>6</th>\n",
       "      <td>Abdullah</td>\n",
       "      <td>8.7</td>\n",
       "      <td>87</td>\n",
       "      <td>NaN</td>\n",
       "      <td>Turkey</td>\n",
       "    </tr>\n",
       "    <tr>\n",
       "      <th>7</th>\n",
       "      <td>Gita</td>\n",
       "      <td>7.6</td>\n",
       "      <td>86</td>\n",
       "      <td>NaN</td>\n",
       "      <td>Ukraine</td>\n",
       "    </tr>\n",
       "    <tr>\n",
       "      <th>8</th>\n",
       "      <td>Krishna</td>\n",
       "      <td>8.1</td>\n",
       "      <td>85</td>\n",
       "      <td>NaN</td>\n",
       "      <td>Pakistan</td>\n",
       "    </tr>\n",
       "    <tr>\n",
       "      <th>9</th>\n",
       "      <td>Daniel</td>\n",
       "      <td>8.6</td>\n",
       "      <td>84</td>\n",
       "      <td>NaN</td>\n",
       "      <td>India</td>\n",
       "    </tr>\n",
       "    <tr>\n",
       "      <th>10</th>\n",
       "      <td>Rahim Nan</td>\n",
       "      <td>NaN</td>\n",
       "      <td>82</td>\n",
       "      <td>87.0</td>\n",
       "      <td>Turkey</td>\n",
       "    </tr>\n",
       "    <tr>\n",
       "      <th>11</th>\n",
       "      <td>Juliet Nan</td>\n",
       "      <td>NaN</td>\n",
       "      <td>83</td>\n",
       "      <td>NaN</td>\n",
       "      <td>Nan</td>\n",
       "    </tr>\n",
       "  </tbody>\n",
       "</table>\n",
       "</div>"
      ],
      "text/plain": [
       "          Name  CGPA  Percentage  Attendance   Country\n",
       "0          Ram   8.8          92         NaN     India\n",
       "1       Rehman   7.9          91         NaN     India\n",
       "2         Mary   8.3          90         NaN  Pakistan\n",
       "3       Joseph   6.2          89         NaN  Pakistan\n",
       "4        James   5.7          88         NaN       UAE\n",
       "5     Abdullah   8.6          87         NaN    Israel\n",
       "6     Abdullah   8.7          87         NaN    Turkey\n",
       "7         Gita   7.6          86         NaN   Ukraine\n",
       "8      Krishna   8.1          85         NaN  Pakistan\n",
       "9       Daniel   8.6          84         NaN     India\n",
       "10   Rahim Nan   NaN          82        87.0    Turkey\n",
       "11  Juliet Nan   NaN          83         NaN       Nan"
      ]
     },
     "execution_count": 5,
     "metadata": {},
     "output_type": "execute_result"
    }
   ],
   "source": [
    "data = {'Name': ['Ram', 'Rehman', 'Mary', 'Joseph', 'James', 'Abdullah', 'Abdullah', 'Gita', 'Krishna', 'Daniel', 'Rahim Nan', 'Juliet Nan'],'CGPA': [8.8, 7.9, 8.3, 6.2, 5.7, 8.6, 8.7, 7.6, 8.1, 8.6, np.nan, np.nan],'Percentage': [92, 91, 90, 89, 88, 87, 87, 86, 85, 84, 82, 83],'Attendance': [None, None, None, None, None, None, None, None, None, None, 87, None],'Country': ['India', 'India', 'Pakistan', 'Pakistan', 'UAE', 'Israel', 'Turkey', 'Ukraine', 'Pakistan', 'India', 'Turkey', 'Nan']}\n",
    "df = pd.DataFrame(data)\n",
    "df"
   ]
  },
  {
   "cell_type": "code",
   "execution_count": null,
   "id": "3a81eeff",
   "metadata": {},
   "outputs": [],
   "source": [
    "# Q2.a)"
   ]
  },
  {
   "cell_type": "code",
   "execution_count": 18,
   "id": "7984bbfd",
   "metadata": {},
   "outputs": [
    {
     "name": "stdout",
     "output_type": "stream",
     "text": [
      "          Name  CGPA  Percentage Attendance   Country\n",
      "6     Abdullah   8.7        87.0       None    Turkey\n",
      "7         Gita   7.6        86.0       None   Ukraine\n",
      "8      Krishna   8.1        85.0       None  Pakistan\n",
      "9       Daniel   8.6        84.0       None     India\n",
      "10   Rahim Nan  82.0         NaN       None    Turkey\n",
      "11  Juliet Nan  83.0         NaN       None       Nan\n"
     ]
    }
   ],
   "source": [
    "data={'Name': ['Ram', 'Rehman', 'Mary', 'Joseph', 'James', 'Abdullah', 'Abdullah', 'Gita', 'Krishna', 'Daniel', 'Rahim Nan', 'Juliet Nan'],\n",
    "    'CGPA': [8.8, 7.9, 8.3, 6.2, 5.7, 8.6, 8.7, 7.6, 8.1, 8.6, 82, 83],\n",
    "    'Percentage': [92, 91, 90, 89, 88, 87, 87, 86, 85, 84, None, None],\n",
    "    'Attendance': [None, None, None, None, None, None, None, None, None, None, None, None],\n",
    "    'Country': ['India', 'India', 'Pakistan', 'Pakistan', 'UAE', 'Israel', 'Turkey', 'Ukraine', 'Pakistan', 'India', 'Turkey', 'Nan']}\n",
    "d=pd.DataFrame(data)\n",
    "print(d.iloc[6:])"
   ]
  },
  {
   "cell_type": "code",
   "execution_count": null,
   "id": "cd337970",
   "metadata": {},
   "outputs": [],
   "source": [
    "# Q2.b)"
   ]
  },
  {
   "cell_type": "code",
   "execution_count": 17,
   "id": "52bd3e26",
   "metadata": {},
   "outputs": [
    {
     "name": "stdout",
     "output_type": "stream",
     "text": [
      "       Name  CGPA  Percentage Attendance   Country\n",
      "0       Ram   8.8        92.0       None     India\n",
      "1    Rehman   7.9        91.0       None     India\n",
      "2      Mary   8.3        90.0       None  Pakistan\n",
      "3    Joseph   6.2        89.0       None  Pakistan\n",
      "4     James   5.7        88.0       None       UAE\n",
      "5  Abdullah   8.6        87.0       None    Israel\n"
     ]
    }
   ],
   "source": [
    "data ={'Name': ['Ram', 'Rehman', 'Mary', 'Joseph', 'James', 'Abdullah', 'Abdullah', 'Gita', 'Krishna', 'Daniel', 'Rahim Nan', 'Juliet Nan'],\n",
    "    'CGPA': [8.8, 7.9, 8.3, 6.2, 5.7, 8.6, 8.7, 7.6, 8.1, 8.6, 82, 83],\n",
    "    'Percentage': [92, 91, 90, 89, 88, 87, 87, 86, 85, 84, None, None],\n",
    "    'Attendance': [None, None, None, None, None, None, None, None, None, None, None, None],\n",
    "    'Country': ['India', 'India', 'Pakistan', 'Pakistan', 'UAE', 'Israel', 'Turkey', 'Ukraine', 'Pakistan', 'India', 'Turkey', 'Nan']}\n",
    "df = pd.DataFrame(data)\n",
    "print(df.iloc[:6])"
   ]
  },
  {
   "cell_type": "markdown",
   "id": "c96a8a08",
   "metadata": {},
   "source": [
    "### Q3. Count the number of missing values in each column. Which column has maximum number of missing values."
   ]
  },
  {
   "cell_type": "code",
   "execution_count": 41,
   "id": "42c5c9a7",
   "metadata": {},
   "outputs": [
    {
     "name": "stdout",
     "output_type": "stream",
     "text": [
      "No. of missing value in each column: \n",
      " Name           0\n",
      "CGPA           2\n",
      "Percentage     0\n",
      "Attendance    11\n",
      "Country        1\n",
      "dtype: int64\n",
      "max missing value : Attendance\n"
     ]
    }
   ],
   "source": [
    "data = {'Name': ['Ram', 'Rehman', 'Mary', 'Joseph', 'James', 'Abdullah', 'Abdullah', 'Gita', 'Krishna', 'Daniel', 'Rahim Nan', 'Juliet Nan'],'CGPA': [8.8, 7.9, 8.3, 6.2, 5.7, 8.6, 8.7, 7.6, 8.1, 8.6, np.nan, np.nan],'Percentage': [92, 91, 90, 89, 88, 87, 87, 86, 85, 84, 82, 83],'Attendance': [np.nan,np.nan,np.nan,np.nan,np.nan,np.nan,np.nan,np.nan,np.nan,np.nan,87,np.nan],'Country': ['India', 'India', 'Pakistan', 'Pakistan', 'UAE', 'Israel', 'Turkey', 'Ukraine', 'Pakistan', 'India', 'Turkey',np.nan]}\n",
    "df=pd.DataFrame(data)\n",
    "miss_value=df.isna().sum()\n",
    "print('No. of missing value in each column: \\n', miss_value)\n",
    "max_value=miss_value.idxmax()\n",
    "print('max missing value :',max_value)"
   ]
  },
  {
   "cell_type": "markdown",
   "id": "5b6656c2",
   "metadata": {},
   "source": [
    "### Q4.)Replace the Nan values in CGPA column, with the mean value of that column."
   ]
  },
  {
   "cell_type": "code",
   "execution_count": 5,
   "id": "3a018a3b",
   "metadata": {},
   "outputs": [
    {
     "data": {
      "text/html": [
       "<div>\n",
       "<style scoped>\n",
       "    .dataframe tbody tr th:only-of-type {\n",
       "        vertical-align: middle;\n",
       "    }\n",
       "\n",
       "    .dataframe tbody tr th {\n",
       "        vertical-align: top;\n",
       "    }\n",
       "\n",
       "    .dataframe thead th {\n",
       "        text-align: right;\n",
       "    }\n",
       "</style>\n",
       "<table border=\"1\" class=\"dataframe\">\n",
       "  <thead>\n",
       "    <tr style=\"text-align: right;\">\n",
       "      <th></th>\n",
       "      <th>CGPA</th>\n",
       "    </tr>\n",
       "  </thead>\n",
       "  <tbody>\n",
       "    <tr>\n",
       "      <th>0</th>\n",
       "      <td>8.80</td>\n",
       "    </tr>\n",
       "    <tr>\n",
       "      <th>1</th>\n",
       "      <td>7.90</td>\n",
       "    </tr>\n",
       "    <tr>\n",
       "      <th>2</th>\n",
       "      <td>8.30</td>\n",
       "    </tr>\n",
       "    <tr>\n",
       "      <th>3</th>\n",
       "      <td>6.20</td>\n",
       "    </tr>\n",
       "    <tr>\n",
       "      <th>4</th>\n",
       "      <td>5.70</td>\n",
       "    </tr>\n",
       "    <tr>\n",
       "      <th>5</th>\n",
       "      <td>8.60</td>\n",
       "    </tr>\n",
       "    <tr>\n",
       "      <th>6</th>\n",
       "      <td>8.70</td>\n",
       "    </tr>\n",
       "    <tr>\n",
       "      <th>7</th>\n",
       "      <td>7.60</td>\n",
       "    </tr>\n",
       "    <tr>\n",
       "      <th>8</th>\n",
       "      <td>8.10</td>\n",
       "    </tr>\n",
       "    <tr>\n",
       "      <th>9</th>\n",
       "      <td>8.60</td>\n",
       "    </tr>\n",
       "    <tr>\n",
       "      <th>10</th>\n",
       "      <td>7.85</td>\n",
       "    </tr>\n",
       "    <tr>\n",
       "      <th>11</th>\n",
       "      <td>7.85</td>\n",
       "    </tr>\n",
       "  </tbody>\n",
       "</table>\n",
       "</div>"
      ],
      "text/plain": [
       "    CGPA\n",
       "0   8.80\n",
       "1   7.90\n",
       "2   8.30\n",
       "3   6.20\n",
       "4   5.70\n",
       "5   8.60\n",
       "6   8.70\n",
       "7   7.60\n",
       "8   8.10\n",
       "9   8.60\n",
       "10  7.85\n",
       "11  7.85"
      ]
     },
     "execution_count": 5,
     "metadata": {},
     "output_type": "execute_result"
    }
   ],
   "source": [
    "import pandas as pd\n",
    "import numpy as np\n",
    "data = {'Name': ['Ram', 'Rehman', 'Mary', 'Joseph', 'James', 'Abdullah', 'Abdullah', 'Gita', 'Krishna', 'Daniel', 'Rahim Nan', 'Juliet Nan'],'CGPA': [8.8, 7.9, 8.3, 6.2, 5.7, 8.6, 8.7, 7.6, 8.1, 8.6, np.nan, np.nan],'Percentage': [92, 91, 90, 89, 88, 87, 87, 86, 85, 84, 82, 83],'Attendance': [np.nan,np.nan,np.nan,np.nan,np.nan,np.nan,np.nan,np.nan,np.nan,np.nan,87,np.nan],'Country': ['India', 'India', 'Pakistan', 'Pakistan', 'UAE', 'Israel', 'Turkey', 'Ukraine', 'Pakistan', 'India', 'Turkey',np.nan]}\n",
    "df=pd.DataFrame(data)\n",
    "df[['CGPA']].apply(lambda x:x.fillna(x.mean()))"
   ]
  },
  {
   "cell_type": "markdown",
   "id": "b0d13d5d",
   "metadata": {},
   "source": [
    "### Q5.)Drop the rows containing Nan values from the table, update the original table, don’t create a new one."
   ]
  },
  {
   "cell_type": "code",
   "execution_count": 52,
   "id": "1c250f49",
   "metadata": {},
   "outputs": [
    {
     "name": "stdout",
     "output_type": "stream",
     "text": [
      "Empty DataFrame\n",
      "Columns: [Name, CGPA, Percentage, Attendance, Country]\n",
      "Index: []\n"
     ]
    }
   ],
   "source": [
    "data = {'Name': ['Ram', 'Rehman', 'Mary', 'Joseph', 'James', 'Abdullah', 'Abdullah', 'Gita', 'Krishna', 'Daniel', 'Rahim Nan', 'Juliet Nan'],'CGPA': [8.8, 7.9, 8.3, 6.2, 5.7, 8.6, 8.7, 7.6, 8.1, 8.6, np.nan, np.nan],'Percentage': [92, 91, 90, 89, 88, 87, 87, 86, 85, 84, 82, 83],'Attendance': [np.nan,np.nan,np.nan,np.nan,np.nan,np.nan,np.nan,np.nan,np.nan,np.nan,87,np.nan],'Country': ['India', 'India', 'Pakistan', 'Pakistan', 'UAE', 'Israel', 'Turkey', 'Ukraine', 'Pakistan', 'India', 'Turkey',np.nan]}\n",
    "df=pd.DataFrame(data)\n",
    "df.dropna(inplace=True)\n",
    "print(df)"
   ]
  },
  {
   "cell_type": "markdown",
   "id": "9fba2bde",
   "metadata": {},
   "source": [
    "### Q6.)Compute the minimum, 25th percentile, median, 75th, and maximum of CGPA and Attendance column."
   ]
  },
  {
   "cell_type": "code",
   "execution_count": 53,
   "id": "092d54d2",
   "metadata": {},
   "outputs": [
    {
     "name": "stdout",
     "output_type": "stream",
     "text": [
      "            CGPA  Attendance\n",
      "count  10.000000         1.0\n",
      "mean    7.850000        87.0\n",
      "std     1.076259         NaN\n",
      "min     5.700000        87.0\n",
      "25%     7.675000        87.0\n",
      "50%     8.200000        87.0\n",
      "76%     8.600000        87.0\n",
      "max     8.800000        87.0\n"
     ]
    }
   ],
   "source": [
    "data = {'Name': ['Ram', 'Rehman', 'Mary', 'Joseph', 'James', 'Abdullah', 'Abdullah', 'Gita', 'Krishna', 'Daniel', 'Rahim Nan', 'Juliet Nan'],'CGPA': [8.8, 7.9, 8.3, 6.2, 5.7, 8.6, 8.7, 7.6, 8.1, 8.6, np.nan, np.nan],'Percentage': [92, 91, 90, 89, 88, 87, 87, 86, 85, 84, 82, 83],'Attendance': [np.nan,np.nan,np.nan,np.nan,np.nan,np.nan,np.nan,np.nan,np.nan,np.nan,87,np.nan],'Country': ['India', 'India', 'Pakistan', 'Pakistan', 'UAE', 'Israel', 'Turkey', 'Ukraine', 'Pakistan', 'India', 'Turkey',np.nan]}\n",
    "df=pd.DataFrame(data)\n",
    "x=df[['CGPA','Attendance']].describe(percentiles=[.25,.76])\n",
    "print(x)"
   ]
  },
  {
   "cell_type": "markdown",
   "id": "356b5e7f",
   "metadata": {},
   "source": [
    "### Q7.)Consider the following rule for cgpa conversion to create a grade column, for the above students and add it to the original dataframe.\n",
    "#### 9-10 A+\n",
    "#### 8-8.9 A\n",
    "#### 6.5-7.9 B\n",
    "#### 0-6.4 F"
   ]
  },
  {
   "cell_type": "code",
   "execution_count": 54,
   "id": "00a03242",
   "metadata": {},
   "outputs": [
    {
     "name": "stdout",
     "output_type": "stream",
     "text": [
      "          Name  CGPA  Percentage  Attendance   Country Grade\n",
      "0          Ram   8.8          92         NaN     India     A\n",
      "1       Rehman   7.9          91         NaN     India     B\n",
      "2         Mary   8.3          90         NaN  Pakistan     A\n",
      "3       Joseph   6.2          89         NaN  Pakistan     F\n",
      "4        James   5.7          88         NaN       UAE     F\n",
      "5     Abdullah   8.6          87         NaN    Israel     A\n",
      "6     Abdullah   8.7          87         NaN    Turkey     A\n",
      "7         Gita   7.6          86         NaN   Ukraine     B\n",
      "8      Krishna   8.1          85         NaN  Pakistan     A\n",
      "9       Daniel   8.6          84         NaN     India     A\n",
      "10   Rahim Nan   NaN          82        87.0    Turkey     F\n",
      "11  Juliet Nan   NaN          83         NaN       NaN     F\n"
     ]
    }
   ],
   "source": [
    "data = {'Name': ['Ram', 'Rehman', 'Mary', 'Joseph', 'James', 'Abdullah', 'Abdullah', 'Gita', 'Krishna', 'Daniel', 'Rahim Nan', 'Juliet Nan'],'CGPA': [8.8, 7.9, 8.3, 6.2, 5.7, 8.6, 8.7, 7.6, 8.1, 8.6, np.nan, np.nan],'Percentage': [92, 91, 90, 89, 88, 87, 87, 86, 85, 84, 82, 83],'Attendance': [np.nan,np.nan,np.nan,np.nan,np.nan,np.nan,np.nan,np.nan,np.nan,np.nan,87,np.nan],'Country': ['India', 'India', 'Pakistan', 'Pakistan', 'UAE', 'Israel', 'Turkey', 'Ukraine', 'Pakistan', 'India', 'Turkey',np.nan]}\n",
    "df=pd.DataFrame(data)\n",
    "def convert_grade(cgpa):\n",
    "    if cgpa >= 9:\n",
    "        return 'A+'\n",
    "    elif 8 <= cgpa < 9:\n",
    "        return 'A'\n",
    "    elif 6.5 <= cgpa < 8:\n",
    "        return 'B'\n",
    "    else:\n",
    "        return 'F'\n",
    "df['Grade'] = df['CGPA'].apply(convert_grade)\n",
    "print(df)"
   ]
  },
  {
   "cell_type": "markdown",
   "id": "12f31c7d",
   "metadata": {},
   "source": [
    "###  Q8.)Count the number of students passed with different grades."
   ]
  },
  {
   "cell_type": "code",
   "execution_count": 59,
   "id": "fc7c3cb4",
   "metadata": {},
   "outputs": [
    {
     "name": "stdout",
     "output_type": "stream",
     "text": [
      "Grade\n",
      "A    6\n",
      "F    4\n",
      "B    2\n",
      "Name: count, dtype: int64\n"
     ]
    }
   ],
   "source": [
    "df['Grade']=df['CGPA'].apply(convert_grade)\n",
    "grade_counts=df['Grade'].value_counts()\n",
    "print(grade_counts)"
   ]
  },
  {
   "cell_type": "markdown",
   "id": "cac6577c",
   "metadata": {},
   "source": [
    "### Q9.) Select students only from India and Pakistan."
   ]
  },
  {
   "cell_type": "code",
   "execution_count": 61,
   "id": "1a99304c",
   "metadata": {},
   "outputs": [
    {
     "name": "stdout",
     "output_type": "stream",
     "text": [
      "      Name  CGPA  Percentage  Attendance   Country\n",
      "0      Ram   8.8          92         NaN     India\n",
      "1   Rehman   7.9          91         NaN     India\n",
      "2     Mary   8.3          90         NaN  Pakistan\n",
      "3   Joseph   6.2          89         NaN  Pakistan\n",
      "8  Krishna   8.1          85         NaN  Pakistan\n",
      "9   Daniel   8.6          84         NaN     India\n"
     ]
    }
   ],
   "source": [
    "data = {'Name': ['Ram', 'Rehman', 'Mary', 'Joseph', 'James', 'Abdullah', 'Abdullah', 'Gita', 'Krishna', 'Daniel', 'Rahim Nan', 'Juliet Nan'],'CGPA': [8.8, 7.9, 8.3, 6.2, 5.7, 8.6, 8.7, 7.6, 8.1, 8.6, np.nan, np.nan],'Percentage': [92, 91, 90, 89, 88, 87, 87, 86, 85, 84, 82, 83],'Attendance': [np.nan,np.nan,np.nan,np.nan,np.nan,np.nan,np.nan,np.nan,np.nan,np.nan,87,np.nan],'Country': ['India', 'India', 'Pakistan', 'Pakistan', 'UAE', 'Israel', 'Turkey', 'Ukraine', 'Pakistan', 'India', 'Turkey',np.nan]}\n",
    "df=pd.DataFrame(data)\n",
    "x=df[df['Country'].isin(['India','Pakistan'])]\n",
    "print(x)"
   ]
  },
  {
   "cell_type": "markdown",
   "id": "604f07d0",
   "metadata": {},
   "source": [
    "### Q10.)Create a college name column, where for Ram, Rehman, Joseph, add the college name to ITER, for rests keep it nan."
   ]
  },
  {
   "cell_type": "code",
   "execution_count": 68,
   "id": "87715b3b",
   "metadata": {},
   "outputs": [
    {
     "data": {
      "text/html": [
       "<div>\n",
       "<style scoped>\n",
       "    .dataframe tbody tr th:only-of-type {\n",
       "        vertical-align: middle;\n",
       "    }\n",
       "\n",
       "    .dataframe tbody tr th {\n",
       "        vertical-align: top;\n",
       "    }\n",
       "\n",
       "    .dataframe thead th {\n",
       "        text-align: right;\n",
       "    }\n",
       "</style>\n",
       "<table border=\"1\" class=\"dataframe\">\n",
       "  <thead>\n",
       "    <tr style=\"text-align: right;\">\n",
       "      <th></th>\n",
       "      <th>Name</th>\n",
       "      <th>College Name</th>\n",
       "      <th>CGPA</th>\n",
       "      <th>Attendance</th>\n",
       "      <th>Country</th>\n",
       "    </tr>\n",
       "  </thead>\n",
       "  <tbody>\n",
       "    <tr>\n",
       "      <th>0</th>\n",
       "      <td>Ram</td>\n",
       "      <td>ITER</td>\n",
       "      <td>8.8</td>\n",
       "      <td>NaN</td>\n",
       "      <td>India</td>\n",
       "    </tr>\n",
       "    <tr>\n",
       "      <th>1</th>\n",
       "      <td>Rehman</td>\n",
       "      <td>ITER</td>\n",
       "      <td>7.9</td>\n",
       "      <td>NaN</td>\n",
       "      <td>India</td>\n",
       "    </tr>\n",
       "    <tr>\n",
       "      <th>2</th>\n",
       "      <td>Mary</td>\n",
       "      <td>NaN</td>\n",
       "      <td>8.3</td>\n",
       "      <td>NaN</td>\n",
       "      <td>Pakistan</td>\n",
       "    </tr>\n",
       "    <tr>\n",
       "      <th>3</th>\n",
       "      <td>Joseph</td>\n",
       "      <td>ITER</td>\n",
       "      <td>6.2</td>\n",
       "      <td>NaN</td>\n",
       "      <td>Pakistan</td>\n",
       "    </tr>\n",
       "    <tr>\n",
       "      <th>4</th>\n",
       "      <td>James</td>\n",
       "      <td>NaN</td>\n",
       "      <td>5.7</td>\n",
       "      <td>NaN</td>\n",
       "      <td>UAE</td>\n",
       "    </tr>\n",
       "    <tr>\n",
       "      <th>5</th>\n",
       "      <td>Abdullah</td>\n",
       "      <td>NaN</td>\n",
       "      <td>8.6</td>\n",
       "      <td>NaN</td>\n",
       "      <td>Israel</td>\n",
       "    </tr>\n",
       "    <tr>\n",
       "      <th>6</th>\n",
       "      <td>Abdullah</td>\n",
       "      <td>NaN</td>\n",
       "      <td>8.7</td>\n",
       "      <td>NaN</td>\n",
       "      <td>Turkey</td>\n",
       "    </tr>\n",
       "    <tr>\n",
       "      <th>7</th>\n",
       "      <td>Gita</td>\n",
       "      <td>NaN</td>\n",
       "      <td>7.6</td>\n",
       "      <td>NaN</td>\n",
       "      <td>Ukraine</td>\n",
       "    </tr>\n",
       "    <tr>\n",
       "      <th>8</th>\n",
       "      <td>Krishna</td>\n",
       "      <td>NaN</td>\n",
       "      <td>8.1</td>\n",
       "      <td>NaN</td>\n",
       "      <td>Pakistan</td>\n",
       "    </tr>\n",
       "    <tr>\n",
       "      <th>9</th>\n",
       "      <td>Daniel</td>\n",
       "      <td>NaN</td>\n",
       "      <td>8.6</td>\n",
       "      <td>NaN</td>\n",
       "      <td>India</td>\n",
       "    </tr>\n",
       "    <tr>\n",
       "      <th>10</th>\n",
       "      <td>Rahim Nan</td>\n",
       "      <td>NaN</td>\n",
       "      <td>NaN</td>\n",
       "      <td>87.0</td>\n",
       "      <td>Turkey</td>\n",
       "    </tr>\n",
       "    <tr>\n",
       "      <th>11</th>\n",
       "      <td>Juliet Nan</td>\n",
       "      <td>NaN</td>\n",
       "      <td>NaN</td>\n",
       "      <td>NaN</td>\n",
       "      <td>NaN</td>\n",
       "    </tr>\n",
       "  </tbody>\n",
       "</table>\n",
       "</div>"
      ],
      "text/plain": [
       "          Name College Name  CGPA  Attendance   Country\n",
       "0          Ram         ITER   8.8         NaN     India\n",
       "1       Rehman         ITER   7.9         NaN     India\n",
       "2         Mary          NaN   8.3         NaN  Pakistan\n",
       "3       Joseph         ITER   6.2         NaN  Pakistan\n",
       "4        James          NaN   5.7         NaN       UAE\n",
       "5     Abdullah          NaN   8.6         NaN    Israel\n",
       "6     Abdullah          NaN   8.7         NaN    Turkey\n",
       "7         Gita          NaN   7.6         NaN   Ukraine\n",
       "8      Krishna          NaN   8.1         NaN  Pakistan\n",
       "9       Daniel          NaN   8.6         NaN     India\n",
       "10   Rahim Nan          NaN   NaN        87.0    Turkey\n",
       "11  Juliet Nan          NaN   NaN         NaN       NaN"
      ]
     },
     "execution_count": 68,
     "metadata": {},
     "output_type": "execute_result"
    }
   ],
   "source": [
    "data = {'Name': ['Ram', 'Rehman', 'Mary', 'Joseph', 'James', 'Abdullah', 'Abdullah', 'Gita', 'Krishna', 'Daniel', 'Rahim Nan', 'Juliet Nan'],'CGPA': [8.8, 7.9, 8.3, 6.2, 5.7, 8.6, 8.7, 7.6, 8.1, 8.6, np.nan, np.nan],'Percentage': [92, 91, 90, 89, 88, 87, 87, 86, 85, 84, 82, 83],'Attendance': [np.nan,np.nan,np.nan,np.nan,np.nan,np.nan,np.nan,np.nan,np.nan,np.nan,87,np.nan],'Country': ['India', 'India', 'Pakistan', 'Pakistan', 'UAE', 'Israel', 'Turkey', 'Ukraine', 'Pakistan', 'India', 'Turkey',np.nan]}\n",
    "df=pd.DataFrame(data,columns=['Name','College Name','CGPA','Attendance','Country'])\n",
    "df['College Name']=['ITER','ITER',np.nan,'ITER',np.nan,np.nan,np.nan,np.nan,np.nan,np.nan,np.nan,np.nan]\n",
    "df"
   ]
  },
  {
   "cell_type": "markdown",
   "id": "94c17dab",
   "metadata": {},
   "source": [
    "### Q11.)Delete the college name column as it contains so many nan values."
   ]
  },
  {
   "cell_type": "code",
   "execution_count": 94,
   "id": "0cc8db16",
   "metadata": {},
   "outputs": [
    {
     "data": {
      "text/html": [
       "<div>\n",
       "<style scoped>\n",
       "    .dataframe tbody tr th:only-of-type {\n",
       "        vertical-align: middle;\n",
       "    }\n",
       "\n",
       "    .dataframe tbody tr th {\n",
       "        vertical-align: top;\n",
       "    }\n",
       "\n",
       "    .dataframe thead th {\n",
       "        text-align: right;\n",
       "    }\n",
       "</style>\n",
       "<table border=\"1\" class=\"dataframe\">\n",
       "  <thead>\n",
       "    <tr style=\"text-align: right;\">\n",
       "      <th></th>\n",
       "      <th>Name</th>\n",
       "      <th>CGPA</th>\n",
       "      <th>Percentage</th>\n",
       "      <th>Attendance</th>\n",
       "      <th>Country</th>\n",
       "    </tr>\n",
       "  </thead>\n",
       "  <tbody>\n",
       "    <tr>\n",
       "      <th>0</th>\n",
       "      <td>Ram</td>\n",
       "      <td>8.8</td>\n",
       "      <td>92</td>\n",
       "      <td>NaN</td>\n",
       "      <td>India</td>\n",
       "    </tr>\n",
       "    <tr>\n",
       "      <th>1</th>\n",
       "      <td>Rehman</td>\n",
       "      <td>7.9</td>\n",
       "      <td>91</td>\n",
       "      <td>NaN</td>\n",
       "      <td>India</td>\n",
       "    </tr>\n",
       "    <tr>\n",
       "      <th>2</th>\n",
       "      <td>Mary</td>\n",
       "      <td>8.3</td>\n",
       "      <td>90</td>\n",
       "      <td>NaN</td>\n",
       "      <td>Pakistan</td>\n",
       "    </tr>\n",
       "    <tr>\n",
       "      <th>3</th>\n",
       "      <td>Joseph</td>\n",
       "      <td>6.2</td>\n",
       "      <td>89</td>\n",
       "      <td>NaN</td>\n",
       "      <td>Pakistan</td>\n",
       "    </tr>\n",
       "    <tr>\n",
       "      <th>4</th>\n",
       "      <td>James</td>\n",
       "      <td>5.7</td>\n",
       "      <td>88</td>\n",
       "      <td>NaN</td>\n",
       "      <td>UAE</td>\n",
       "    </tr>\n",
       "    <tr>\n",
       "      <th>5</th>\n",
       "      <td>Abdullah</td>\n",
       "      <td>8.6</td>\n",
       "      <td>87</td>\n",
       "      <td>NaN</td>\n",
       "      <td>Israel</td>\n",
       "    </tr>\n",
       "    <tr>\n",
       "      <th>6</th>\n",
       "      <td>Abdullah</td>\n",
       "      <td>8.7</td>\n",
       "      <td>87</td>\n",
       "      <td>NaN</td>\n",
       "      <td>Turkey</td>\n",
       "    </tr>\n",
       "    <tr>\n",
       "      <th>7</th>\n",
       "      <td>Gita</td>\n",
       "      <td>7.6</td>\n",
       "      <td>86</td>\n",
       "      <td>NaN</td>\n",
       "      <td>Ukraine</td>\n",
       "    </tr>\n",
       "    <tr>\n",
       "      <th>8</th>\n",
       "      <td>Krishna</td>\n",
       "      <td>8.1</td>\n",
       "      <td>85</td>\n",
       "      <td>NaN</td>\n",
       "      <td>Pakistan</td>\n",
       "    </tr>\n",
       "    <tr>\n",
       "      <th>9</th>\n",
       "      <td>Daniel</td>\n",
       "      <td>8.6</td>\n",
       "      <td>84</td>\n",
       "      <td>NaN</td>\n",
       "      <td>India</td>\n",
       "    </tr>\n",
       "    <tr>\n",
       "      <th>10</th>\n",
       "      <td>Rahim Nan</td>\n",
       "      <td>NaN</td>\n",
       "      <td>82</td>\n",
       "      <td>87.0</td>\n",
       "      <td>Turkey</td>\n",
       "    </tr>\n",
       "    <tr>\n",
       "      <th>11</th>\n",
       "      <td>Juliet Nan</td>\n",
       "      <td>NaN</td>\n",
       "      <td>83</td>\n",
       "      <td>NaN</td>\n",
       "      <td>NaN</td>\n",
       "    </tr>\n",
       "  </tbody>\n",
       "</table>\n",
       "</div>"
      ],
      "text/plain": [
       "          Name  CGPA  Percentage  Attendance   Country\n",
       "0          Ram   8.8          92         NaN     India\n",
       "1       Rehman   7.9          91         NaN     India\n",
       "2         Mary   8.3          90         NaN  Pakistan\n",
       "3       Joseph   6.2          89         NaN  Pakistan\n",
       "4        James   5.7          88         NaN       UAE\n",
       "5     Abdullah   8.6          87         NaN    Israel\n",
       "6     Abdullah   8.7          87         NaN    Turkey\n",
       "7         Gita   7.6          86         NaN   Ukraine\n",
       "8      Krishna   8.1          85         NaN  Pakistan\n",
       "9       Daniel   8.6          84         NaN     India\n",
       "10   Rahim Nan   NaN          82        87.0    Turkey\n",
       "11  Juliet Nan   NaN          83         NaN       NaN"
      ]
     },
     "execution_count": 94,
     "metadata": {},
     "output_type": "execute_result"
    }
   ],
   "source": [
    "df['College Name']=['ITER','ITER',np.nan,'ITER',np.nan,np.nan,np.nan,np.nan,np.nan,np.nan,np.nan,np.nan]\n",
    "df.drop('College Name', axis=1, inplace=True)\n",
    "df"
   ]
  },
  {
   "cell_type": "markdown",
   "id": "1de11e94",
   "metadata": {},
   "source": [
    "### Q12).Drop the Percentage of Attendance, Country columns and rows below index 5(rows 6 on wards)."
   ]
  },
  {
   "cell_type": "code",
   "execution_count": 97,
   "id": "f1ad9fc6",
   "metadata": {},
   "outputs": [
    {
     "name": "stdout",
     "output_type": "stream",
     "text": [
      "     Name  CGPA  Attendance\n",
      "0     Ram   8.8         NaN\n",
      "1  Rehman   7.9         NaN\n",
      "2    Mary   8.3         NaN\n",
      "3  Joseph   6.2         NaN\n",
      "4   James   5.7         NaN\n"
     ]
    }
   ],
   "source": [
    "data = {'Name': ['Ram', 'Rehman', 'Mary', 'Joseph', 'James', 'Abdullah', 'Abdullah', 'Gita', 'Krishna', 'Daniel', 'Rahim Nan', 'Juliet Nan'],'CGPA': [8.8, 7.9, 8.3, 6.2, 5.7, 8.6, 8.7, 7.6, 8.1, 8.6, np.nan, np.nan],'Percentage': [92, 91, 90, 89, 88, 87, 87, 86, 85, 84, 82, 83],'Attendance': [np.nan,np.nan,np.nan,np.nan,np.nan,np.nan,np.nan,np.nan,np.nan,np.nan,87,np.nan],'Country': ['India', 'India', 'Pakistan', 'Pakistan', 'UAE', 'Israel', 'Turkey', 'Ukraine', 'Pakistan', 'India', 'Turkey',np.nan]}\n",
    "df=pd.DataFrame(data)\n",
    "df = df.drop(columns=['Percentage','Country'])\n",
    "df = df.drop(df.index[5:])\n",
    "print(df)"
   ]
  },
  {
   "cell_type": "markdown",
   "id": "c5689781",
   "metadata": {},
   "source": [
    "### Q13.)We want to give fellowships to those, whose attendance is more than 85% and CGPA is more than 8.5. Write a code to find out those student Names only(Not any other information about those students)."
   ]
  },
  {
   "cell_type": "code",
   "execution_count": 99,
   "id": "20979afe",
   "metadata": {},
   "outputs": [
    {
     "name": "stdout",
     "output_type": "stream",
     "text": [
      "Names of students eligible for fellowships: \n",
      " ['Ram', 'Abdullah', 'Abdullah']\n"
     ]
    }
   ],
   "source": [
    "df = pd.DataFrame(data)\n",
    "x = df[(df['Percentage'] > 85) & (df['CGPA'] > 8.5)]\n",
    "y = x['Name'].tolist()\n",
    "print(\"Names of students eligible for fellowships: \\n\",y)"
   ]
  },
  {
   "cell_type": "markdown",
   "id": "5ffdd3d3",
   "metadata": {},
   "source": [
    "### Q14.)Write the above program using pandas loc method."
   ]
  },
  {
   "cell_type": "code",
   "execution_count": 103,
   "id": "8dd3558b",
   "metadata": {},
   "outputs": [
    {
     "name": "stdout",
     "output_type": "stream",
     "text": [
      "[]\n"
     ]
    }
   ],
   "source": [
    "data = {'Name': ['Ram', 'Rehman', 'Mary', 'Joseph', 'James', 'Abdullah', 'Abdullah', 'Gita', 'Krishna', 'Daniel', 'Rahim Nan', 'Juliet Nan'],'CGPA': [8.8, 7.9, 8.3, 6.2, 5.7, 8.6, 8.7, 7.6, 8.1, 8.6, np.nan, np.nan],'Percentage': [92, 91, 90, 89, 88, 87, 87, 86, 85, 84, 82, 83],'Attendance': [np.nan,np.nan,np.nan,np.nan,np.nan,np.nan,np.nan,np.nan,np.nan,np.nan,87,np.nan],'Country': ['India', 'India', 'Pakistan', 'Pakistan', 'UAE', 'Israel', 'Turkey', 'Ukraine', 'Pakistan', 'India', 'Turkey',np.nan]}\n",
    "df=pd.DataFrame(data)\n",
    "students=df.loc[(df['Attendance'] > 85) & (df['CGPA'] > 8.5), 'Name']\n",
    "print(students.to_list())"
   ]
  },
  {
   "cell_type": "markdown",
   "id": "e3f5661f",
   "metadata": {},
   "source": [
    "### Q15.)In the ”Name” column, convert each individual name to upper case."
   ]
  },
  {
   "cell_type": "code",
   "execution_count": 104,
   "id": "6f3ed15d",
   "metadata": {},
   "outputs": [
    {
     "name": "stdout",
     "output_type": "stream",
     "text": [
      "          Name  CGPA  Percentage  Attendance   Country\n",
      "0          RAM   8.8          92         NaN     India\n",
      "1       REHMAN   7.9          91         NaN     India\n",
      "2         MARY   8.3          90         NaN  Pakistan\n",
      "3       JOSEPH   6.2          89         NaN  Pakistan\n",
      "4        JAMES   5.7          88         NaN       UAE\n",
      "5     ABDULLAH   8.6          87         NaN    Israel\n",
      "6     ABDULLAH   8.7          87         NaN    Turkey\n",
      "7         GITA   7.6          86         NaN   Ukraine\n",
      "8      KRISHNA   8.1          85         NaN  Pakistan\n",
      "9       DANIEL   8.6          84         NaN     India\n",
      "10   RAHIM NAN   NaN          82        87.0    Turkey\n",
      "11  JULIET NAN   NaN          83         NaN       NaN\n"
     ]
    }
   ],
   "source": [
    "df=pd.DataFrame(data)\n",
    "df['Name'] = df['Name'].str.upper()\n",
    "print(df)"
   ]
  },
  {
   "cell_type": "markdown",
   "id": "0ccb37eb",
   "metadata": {},
   "source": [
    "### Q16.)Update the country column by taking only first 3characters of the Country. For example India will be updated to Ind."
   ]
  },
  {
   "cell_type": "code",
   "execution_count": 105,
   "id": "e72f4695",
   "metadata": {},
   "outputs": [
    {
     "name": "stdout",
     "output_type": "stream",
     "text": [
      "          Name  CGPA  Percentage  Attendance Country\n",
      "0          RAM   8.8          92         NaN     Ind\n",
      "1       REHMAN   7.9          91         NaN     Ind\n",
      "2         MARY   8.3          90         NaN     Pak\n",
      "3       JOSEPH   6.2          89         NaN     Pak\n",
      "4        JAMES   5.7          88         NaN     UAE\n",
      "5     ABDULLAH   8.6          87         NaN     Isr\n",
      "6     ABDULLAH   8.7          87         NaN     Tur\n",
      "7         GITA   7.6          86         NaN     Ukr\n",
      "8      KRISHNA   8.1          85         NaN     Pak\n",
      "9       DANIEL   8.6          84         NaN     Ind\n",
      "10   RAHIM NAN   NaN          82        87.0     Tur\n",
      "11  JULIET NAN   NaN          83         NaN     NaN\n"
     ]
    }
   ],
   "source": [
    "df['Country'] = df['Country'].str[:3]\n",
    "print(df)"
   ]
  },
  {
   "cell_type": "markdown",
   "id": "361e70d9",
   "metadata": {},
   "source": [
    "### Q17.)Drop the duplicate rows, by considering duplicate names in the Name column."
   ]
  },
  {
   "cell_type": "code",
   "execution_count": 106,
   "id": "a1079916",
   "metadata": {},
   "outputs": [
    {
     "name": "stdout",
     "output_type": "stream",
     "text": [
      "          Name  CGPA  Percentage  Attendance Country\n",
      "0          RAM   8.8          92         NaN     Ind\n",
      "1       REHMAN   7.9          91         NaN     Ind\n",
      "2         MARY   8.3          90         NaN     Pak\n",
      "3       JOSEPH   6.2          89         NaN     Pak\n",
      "4        JAMES   5.7          88         NaN     UAE\n",
      "5     ABDULLAH   8.6          87         NaN     Isr\n",
      "7         GITA   7.6          86         NaN     Ukr\n",
      "8      KRISHNA   8.1          85         NaN     Pak\n",
      "9       DANIEL   8.6          84         NaN     Ind\n",
      "10   RAHIM NAN   NaN          82        87.0     Tur\n",
      "11  JULIET NAN   NaN          83         NaN     NaN\n"
     ]
    }
   ],
   "source": [
    "df.drop_duplicates(subset='Name', keep='first', inplace=True)\n",
    "print(df)"
   ]
  },
  {
   "cell_type": "markdown",
   "id": "25d97f1b",
   "metadata": {},
   "source": [
    "### Q18.)Find the student with highest CGPA. Your output should show only the name and country of the student."
   ]
  },
  {
   "cell_type": "code",
   "execution_count": 107,
   "id": "c59a60cc",
   "metadata": {},
   "outputs": [
    {
     "name": "stdout",
     "output_type": "stream",
     "text": [
      "Name       RAM\n",
      "Country    Ind\n",
      "Name: 0, dtype: object\n"
     ]
    }
   ],
   "source": [
    "max_cgpa= df.loc[df['CGPA'].idxmax(), ['Name', 'Country']]\n",
    "print(max_cgpa)"
   ]
  },
  {
   "cell_type": "markdown",
   "id": "26bee66b",
   "metadata": {},
   "source": [
    "### Q19.)Lets see the variation in the CGPA and Percentage of Attendance. Difference between the performance of the best and worst student. (Find the difference between the highest and lowest of CGPA and Percentage of Attendance column.)"
   ]
  },
  {
   "cell_type": "code",
   "execution_count": 109,
   "id": "619e2fd7",
   "metadata": {},
   "outputs": [
    {
     "name": "stdout",
     "output_type": "stream",
     "text": [
      "3.1000000000000005\n"
     ]
    }
   ],
   "source": [
    "differnce=df['CGPA'].max()-df['CGPA'].min()\n",
    "print(differnce)"
   ]
  },
  {
   "cell_type": "markdown",
   "id": "ace9ba70",
   "metadata": {},
   "source": [
    "### Q20.)Sort the students according to the CGPA, and Percentage of Attendance , i.e. if two students CGPA score is same then student with highest Percentage of Attendance will appear first."
   ]
  },
  {
   "cell_type": "code",
   "execution_count": 111,
   "id": "6e1a96f4",
   "metadata": {},
   "outputs": [
    {
     "name": "stdout",
     "output_type": "stream",
     "text": [
      "          Name  CGPA  Percentage  Attendance Country\n",
      "0          RAM   8.8          92         NaN     Ind\n",
      "5     ABDULLAH   8.6          87         NaN     Isr\n",
      "9       DANIEL   8.6          84         NaN     Ind\n",
      "2         MARY   8.3          90         NaN     Pak\n",
      "8      KRISHNA   8.1          85         NaN     Pak\n",
      "1       REHMAN   7.9          91         NaN     Ind\n",
      "7         GITA   7.6          86         NaN     Ukr\n",
      "3       JOSEPH   6.2          89         NaN     Pak\n",
      "4        JAMES   5.7          88         NaN     UAE\n",
      "11  JULIET NAN   NaN          83         NaN     NaN\n",
      "10   RAHIM NAN   NaN          82        87.0     Tur\n"
     ]
    }
   ],
   "source": [
    "sort=df.sort_values(by=['CGPA','Percentage'],ascending=[False,False])\n",
    "print(sort)"
   ]
  },
  {
   "cell_type": "markdown",
   "id": "97416b13",
   "metadata": {},
   "source": [
    "### Q21.)Create a rank column according to the cgpa of the students."
   ]
  },
  {
   "cell_type": "code",
   "execution_count": 112,
   "id": "53e19f01",
   "metadata": {},
   "outputs": [
    {
     "name": "stdout",
     "output_type": "stream",
     "text": [
      "          Name  CGPA  Percentage  Attendance Country  Rank\n",
      "0          RAM   8.8          92         NaN     Ind   1.0\n",
      "1       REHMAN   7.9          91         NaN     Ind   6.0\n",
      "2         MARY   8.3          90         NaN     Pak   4.0\n",
      "3       JOSEPH   6.2          89         NaN     Pak   8.0\n",
      "4        JAMES   5.7          88         NaN     UAE   9.0\n",
      "5     ABDULLAH   8.6          87         NaN     Isr   2.0\n",
      "7         GITA   7.6          86         NaN     Ukr   7.0\n",
      "8      KRISHNA   8.1          85         NaN     Pak   5.0\n",
      "9       DANIEL   8.6          84         NaN     Ind   2.0\n",
      "10   RAHIM NAN   NaN          82        87.0     Tur   NaN\n",
      "11  JULIET NAN   NaN          83         NaN     NaN   NaN\n"
     ]
    }
   ],
   "source": [
    "df['Rank'] = df['CGPA'].rank(ascending=False, method='min')\n",
    "print(df)"
   ]
  },
  {
   "cell_type": "markdown",
   "id": "63202036",
   "metadata": {},
   "source": [
    "### Q22.)Plot the CGPA vs Percentage of Attendance column. Can you conclude any relation between CGPA vs Percentage of Attendance just by looking at the graph."
   ]
  },
  {
   "cell_type": "code",
   "execution_count": 116,
   "id": "83b034cb",
   "metadata": {},
   "outputs": [
    {
     "data": {
      "image/png": "[encoded data removed]",
      "text/plain": [
       "<Figure size 640x480 with 1 Axes>"
      ]
     },
     "metadata": {},
     "output_type": "display_data"
    }
   ],
   "source": [
    "import matplotlib.pyplot as plt\n",
    "df=pd.DataFrame(data)\n",
    "plt.scatter(df['CGPA'], df['Percentage'])\n",
    "plt.plot(df['CGPA'], df['Percentage'])\n",
    "plt.title('CGPA V/S PERCENTAGE OF ATTENDANCE')\n",
    "plt.xlabel('CGPA')\n",
    "plt.ylabel('Percentage')\n",
    "plt.grid(True)\n",
    "plt.show()"
   ]
  },
  {
   "cell_type": "markdown",
   "id": "a50b6c8d",
   "metadata": {},
   "source": [
    "### Q23.)Find the covariance and correlation between CGPA vs Percentage of Attendance. Can you validate your established relation in previous ques by the covariance and correlation."
   ]
  },
  {
   "cell_type": "code",
   "execution_count": 118,
   "id": "cb267c2c",
   "metadata": {},
   "outputs": [
    {
     "name": "stdout",
     "output_type": "stream",
     "text": [
      "-0.18333333333333227\n",
      "-0.06548431155410984\n"
     ]
    }
   ],
   "source": [
    "df=pd.DataFrame(data)\n",
    "cov=df['CGPA'].cov(df['Percentage'])\n",
    "print(cov)\n",
    "corr=df['CGPA'].corr(df['Percentage'])\n",
    "print(corr)"
   ]
  },
  {
   "cell_type": "markdown",
   "id": "9318f134",
   "metadata": {},
   "source": [
    "### Q24.)Use one hot encoding(get dummies method) on Country column, replace the Country column in the dataframe with the dummies encoded columns."
   ]
  },
  {
   "cell_type": "code",
   "execution_count": 119,
   "id": "f6f9bca0",
   "metadata": {},
   "outputs": [
    {
     "name": "stdout",
     "output_type": "stream",
     "text": [
      "          Name  CGPA  Percentage  Attendance        Name  CGPA  Percentage  \\\n",
      "0          Ram   8.8          92         NaN         Ram   8.8          92   \n",
      "1       Rehman   7.9          91         NaN      Rehman   7.9          91   \n",
      "2         Mary   8.3          90         NaN        Mary   8.3          90   \n",
      "3       Joseph   6.2          89         NaN      Joseph   6.2          89   \n",
      "4        James   5.7          88         NaN       James   5.7          88   \n",
      "5     Abdullah   8.6          87         NaN    Abdullah   8.6          87   \n",
      "6     Abdullah   8.7          87         NaN    Abdullah   8.7          87   \n",
      "7         Gita   7.6          86         NaN        Gita   7.6          86   \n",
      "8      Krishna   8.1          85         NaN     Krishna   8.1          85   \n",
      "9       Daniel   8.6          84         NaN      Daniel   8.6          84   \n",
      "10   Rahim Nan   NaN          82        87.0   Rahim Nan   NaN          82   \n",
      "11  Juliet Nan   NaN          83         NaN  Juliet Nan   NaN          83   \n",
      "\n",
      "    Attendance  Country_India  Country_Israel  Country_Pakistan  \\\n",
      "0          NaN           True           False             False   \n",
      "1          NaN           True           False             False   \n",
      "2          NaN          False           False              True   \n",
      "3          NaN          False           False              True   \n",
      "4          NaN          False           False             False   \n",
      "5          NaN          False            True             False   \n",
      "6          NaN          False           False             False   \n",
      "7          NaN          False           False             False   \n",
      "8          NaN          False           False              True   \n",
      "9          NaN           True           False             False   \n",
      "10        87.0          False           False             False   \n",
      "11         NaN          False           False             False   \n",
      "\n",
      "    Country_Turkey  Country_UAE  Country_Ukraine  Country_nan  \n",
      "0            False        False            False        False  \n",
      "1            False        False            False        False  \n",
      "2            False        False            False        False  \n",
      "3            False        False            False        False  \n",
      "4            False         True            False        False  \n",
      "5            False        False            False        False  \n",
      "6             True        False            False        False  \n",
      "7            False        False             True        False  \n",
      "8            False        False            False        False  \n",
      "9            False        False            False        False  \n",
      "10            True        False            False        False  \n",
      "11           False        False            False         True  \n"
     ]
    }
   ],
   "source": [
    "df_encoded = pd.get_dummies(df, columns=['Country'], dummy_na=True)\n",
    "df = pd.concat([df, df_encoded], axis=1).drop('Country', axis=1)\n",
    "print(df)"
   ]
  },
  {
   "cell_type": "markdown",
   "id": "dea7e84b",
   "metadata": {},
   "source": [
    "### Q25.) Convert the column names to lower case."
   ]
  },
  {
   "cell_type": "code",
   "execution_count": 120,
   "id": "90922c59",
   "metadata": {},
   "outputs": [
    {
     "data": {
      "text/html": [
       "<div>\n",
       "<style scoped>\n",
       "    .dataframe tbody tr th:only-of-type {\n",
       "        vertical-align: middle;\n",
       "    }\n",
       "\n",
       "    .dataframe tbody tr th {\n",
       "        vertical-align: top;\n",
       "    }\n",
       "\n",
       "    .dataframe thead th {\n",
       "        text-align: right;\n",
       "    }\n",
       "</style>\n",
       "<table border=\"1\" class=\"dataframe\">\n",
       "  <thead>\n",
       "    <tr style=\"text-align: right;\">\n",
       "      <th></th>\n",
       "      <th>name</th>\n",
       "      <th>cgpa</th>\n",
       "      <th>percentage</th>\n",
       "      <th>attendance</th>\n",
       "      <th>name</th>\n",
       "      <th>cgpa</th>\n",
       "      <th>percentage</th>\n",
       "      <th>attendance</th>\n",
       "      <th>country_india</th>\n",
       "      <th>country_israel</th>\n",
       "      <th>country_pakistan</th>\n",
       "      <th>country_turkey</th>\n",
       "      <th>country_uae</th>\n",
       "      <th>country_ukraine</th>\n",
       "      <th>country_nan</th>\n",
       "    </tr>\n",
       "  </thead>\n",
       "  <tbody>\n",
       "    <tr>\n",
       "      <th>0</th>\n",
       "      <td>Ram</td>\n",
       "      <td>8.8</td>\n",
       "      <td>92</td>\n",
       "      <td>NaN</td>\n",
       "      <td>Ram</td>\n",
       "      <td>8.8</td>\n",
       "      <td>92</td>\n",
       "      <td>NaN</td>\n",
       "      <td>True</td>\n",
       "      <td>False</td>\n",
       "      <td>False</td>\n",
       "      <td>False</td>\n",
       "      <td>False</td>\n",
       "      <td>False</td>\n",
       "      <td>False</td>\n",
       "    </tr>\n",
       "    <tr>\n",
       "      <th>1</th>\n",
       "      <td>Rehman</td>\n",
       "      <td>7.9</td>\n",
       "      <td>91</td>\n",
       "      <td>NaN</td>\n",
       "      <td>Rehman</td>\n",
       "      <td>7.9</td>\n",
       "      <td>91</td>\n",
       "      <td>NaN</td>\n",
       "      <td>True</td>\n",
       "      <td>False</td>\n",
       "      <td>False</td>\n",
       "      <td>False</td>\n",
       "      <td>False</td>\n",
       "      <td>False</td>\n",
       "      <td>False</td>\n",
       "    </tr>\n",
       "    <tr>\n",
       "      <th>2</th>\n",
       "      <td>Mary</td>\n",
       "      <td>8.3</td>\n",
       "      <td>90</td>\n",
       "      <td>NaN</td>\n",
       "      <td>Mary</td>\n",
       "      <td>8.3</td>\n",
       "      <td>90</td>\n",
       "      <td>NaN</td>\n",
       "      <td>False</td>\n",
       "      <td>False</td>\n",
       "      <td>True</td>\n",
       "      <td>False</td>\n",
       "      <td>False</td>\n",
       "      <td>False</td>\n",
       "      <td>False</td>\n",
       "    </tr>\n",
       "    <tr>\n",
       "      <th>3</th>\n",
       "      <td>Joseph</td>\n",
       "      <td>6.2</td>\n",
       "      <td>89</td>\n",
       "      <td>NaN</td>\n",
       "      <td>Joseph</td>\n",
       "      <td>6.2</td>\n",
       "      <td>89</td>\n",
       "      <td>NaN</td>\n",
       "      <td>False</td>\n",
       "      <td>False</td>\n",
       "      <td>True</td>\n",
       "      <td>False</td>\n",
       "      <td>False</td>\n",
       "      <td>False</td>\n",
       "      <td>False</td>\n",
       "    </tr>\n",
       "    <tr>\n",
       "      <th>4</th>\n",
       "      <td>James</td>\n",
       "      <td>5.7</td>\n",
       "      <td>88</td>\n",
       "      <td>NaN</td>\n",
       "      <td>James</td>\n",
       "      <td>5.7</td>\n",
       "      <td>88</td>\n",
       "      <td>NaN</td>\n",
       "      <td>False</td>\n",
       "      <td>False</td>\n",
       "      <td>False</td>\n",
       "      <td>False</td>\n",
       "      <td>True</td>\n",
       "      <td>False</td>\n",
       "      <td>False</td>\n",
       "    </tr>\n",
       "    <tr>\n",
       "      <th>5</th>\n",
       "      <td>Abdullah</td>\n",
       "      <td>8.6</td>\n",
       "      <td>87</td>\n",
       "      <td>NaN</td>\n",
       "      <td>Abdullah</td>\n",
       "      <td>8.6</td>\n",
       "      <td>87</td>\n",
       "      <td>NaN</td>\n",
       "      <td>False</td>\n",
       "      <td>True</td>\n",
       "      <td>False</td>\n",
       "      <td>False</td>\n",
       "      <td>False</td>\n",
       "      <td>False</td>\n",
       "      <td>False</td>\n",
       "    </tr>\n",
       "    <tr>\n",
       "      <th>6</th>\n",
       "      <td>Abdullah</td>\n",
       "      <td>8.7</td>\n",
       "      <td>87</td>\n",
       "      <td>NaN</td>\n",
       "      <td>Abdullah</td>\n",
       "      <td>8.7</td>\n",
       "      <td>87</td>\n",
       "      <td>NaN</td>\n",
       "      <td>False</td>\n",
       "      <td>False</td>\n",
       "      <td>False</td>\n",
       "      <td>True</td>\n",
       "      <td>False</td>\n",
       "      <td>False</td>\n",
       "      <td>False</td>\n",
       "    </tr>\n",
       "    <tr>\n",
       "      <th>7</th>\n",
       "      <td>Gita</td>\n",
       "      <td>7.6</td>\n",
       "      <td>86</td>\n",
       "      <td>NaN</td>\n",
       "      <td>Gita</td>\n",
       "      <td>7.6</td>\n",
       "      <td>86</td>\n",
       "      <td>NaN</td>\n",
       "      <td>False</td>\n",
       "      <td>False</td>\n",
       "      <td>False</td>\n",
       "      <td>False</td>\n",
       "      <td>False</td>\n",
       "      <td>True</td>\n",
       "      <td>False</td>\n",
       "    </tr>\n",
       "    <tr>\n",
       "      <th>8</th>\n",
       "      <td>Krishna</td>\n",
       "      <td>8.1</td>\n",
       "      <td>85</td>\n",
       "      <td>NaN</td>\n",
       "      <td>Krishna</td>\n",
       "      <td>8.1</td>\n",
       "      <td>85</td>\n",
       "      <td>NaN</td>\n",
       "      <td>False</td>\n",
       "      <td>False</td>\n",
       "      <td>True</td>\n",
       "      <td>False</td>\n",
       "      <td>False</td>\n",
       "      <td>False</td>\n",
       "      <td>False</td>\n",
       "    </tr>\n",
       "    <tr>\n",
       "      <th>9</th>\n",
       "      <td>Daniel</td>\n",
       "      <td>8.6</td>\n",
       "      <td>84</td>\n",
       "      <td>NaN</td>\n",
       "      <td>Daniel</td>\n",
       "      <td>8.6</td>\n",
       "      <td>84</td>\n",
       "      <td>NaN</td>\n",
       "      <td>True</td>\n",
       "      <td>False</td>\n",
       "      <td>False</td>\n",
       "      <td>False</td>\n",
       "      <td>False</td>\n",
       "      <td>False</td>\n",
       "      <td>False</td>\n",
       "    </tr>\n",
       "    <tr>\n",
       "      <th>10</th>\n",
       "      <td>Rahim Nan</td>\n",
       "      <td>NaN</td>\n",
       "      <td>82</td>\n",
       "      <td>87.0</td>\n",
       "      <td>Rahim Nan</td>\n",
       "      <td>NaN</td>\n",
       "      <td>82</td>\n",
       "      <td>87.0</td>\n",
       "      <td>False</td>\n",
       "      <td>False</td>\n",
       "      <td>False</td>\n",
       "      <td>True</td>\n",
       "      <td>False</td>\n",
       "      <td>False</td>\n",
       "      <td>False</td>\n",
       "    </tr>\n",
       "    <tr>\n",
       "      <th>11</th>\n",
       "      <td>Juliet Nan</td>\n",
       "      <td>NaN</td>\n",
       "      <td>83</td>\n",
       "      <td>NaN</td>\n",
       "      <td>Juliet Nan</td>\n",
       "      <td>NaN</td>\n",
       "      <td>83</td>\n",
       "      <td>NaN</td>\n",
       "      <td>False</td>\n",
       "      <td>False</td>\n",
       "      <td>False</td>\n",
       "      <td>False</td>\n",
       "      <td>False</td>\n",
       "      <td>False</td>\n",
       "      <td>True</td>\n",
       "    </tr>\n",
       "  </tbody>\n",
       "</table>\n",
       "</div>"
      ],
      "text/plain": [
       "          name  cgpa  percentage  attendance        name  cgpa  percentage  \\\n",
       "0          Ram   8.8          92         NaN         Ram   8.8          92   \n",
       "1       Rehman   7.9          91         NaN      Rehman   7.9          91   \n",
       "2         Mary   8.3          90         NaN        Mary   8.3          90   \n",
       "3       Joseph   6.2          89         NaN      Joseph   6.2          89   \n",
       "4        James   5.7          88         NaN       James   5.7          88   \n",
       "5     Abdullah   8.6          87         NaN    Abdullah   8.6          87   \n",
       "6     Abdullah   8.7          87         NaN    Abdullah   8.7          87   \n",
       "7         Gita   7.6          86         NaN        Gita   7.6          86   \n",
       "8      Krishna   8.1          85         NaN     Krishna   8.1          85   \n",
       "9       Daniel   8.6          84         NaN      Daniel   8.6          84   \n",
       "10   Rahim Nan   NaN          82        87.0   Rahim Nan   NaN          82   \n",
       "11  Juliet Nan   NaN          83         NaN  Juliet Nan   NaN          83   \n",
       "\n",
       "    attendance  country_india  country_israel  country_pakistan  \\\n",
       "0          NaN           True           False             False   \n",
       "1          NaN           True           False             False   \n",
       "2          NaN          False           False              True   \n",
       "3          NaN          False           False              True   \n",
       "4          NaN          False           False             False   \n",
       "5          NaN          False            True             False   \n",
       "6          NaN          False           False             False   \n",
       "7          NaN          False           False             False   \n",
       "8          NaN          False           False              True   \n",
       "9          NaN           True           False             False   \n",
       "10        87.0          False           False             False   \n",
       "11         NaN          False           False             False   \n",
       "\n",
       "    country_turkey  country_uae  country_ukraine  country_nan  \n",
       "0            False        False            False        False  \n",
       "1            False        False            False        False  \n",
       "2            False        False            False        False  \n",
       "3            False        False            False        False  \n",
       "4            False         True            False        False  \n",
       "5            False        False            False        False  \n",
       "6             True        False            False        False  \n",
       "7            False        False             True        False  \n",
       "8            False        False            False        False  \n",
       "9            False        False            False        False  \n",
       "10            True        False            False        False  \n",
       "11           False        False            False         True  "
      ]
     },
     "execution_count": 120,
     "metadata": {},
     "output_type": "execute_result"
    }
   ],
   "source": [
    "df.columns = df.columns.str.lower()\n",
    "df"
   ]
  },
  {
   "cell_type": "markdown",
   "id": "abd6d744",
   "metadata": {},
   "source": [
    "### Q26.)Find the top 25% students with respect to the CGPA.(Find the 3rd quartile for the CGPA column, compare all student’s marks with that value, if cgpa is greater than that value, then show the student’s name.)"
   ]
  },
  {
   "cell_type": "code",
   "execution_count": 126,
   "id": "e03a684c",
   "metadata": {},
   "outputs": [
    {
     "data": {
      "text/html": [
       "<div>\n",
       "<style scoped>\n",
       "    .dataframe tbody tr th:only-of-type {\n",
       "        vertical-align: middle;\n",
       "    }\n",
       "\n",
       "    .dataframe tbody tr th {\n",
       "        vertical-align: top;\n",
       "    }\n",
       "\n",
       "    .dataframe thead th {\n",
       "        text-align: right;\n",
       "    }\n",
       "</style>\n",
       "<table border=\"1\" class=\"dataframe\">\n",
       "  <thead>\n",
       "    <tr style=\"text-align: right;\">\n",
       "      <th></th>\n",
       "      <th>Name</th>\n",
       "      <th>CGPA</th>\n",
       "      <th>Percentage</th>\n",
       "      <th>Attendance</th>\n",
       "      <th>Country</th>\n",
       "    </tr>\n",
       "  </thead>\n",
       "  <tbody>\n",
       "    <tr>\n",
       "      <th>0</th>\n",
       "      <td>Ram</td>\n",
       "      <td>8.8</td>\n",
       "      <td>92</td>\n",
       "      <td>NaN</td>\n",
       "      <td>India</td>\n",
       "    </tr>\n",
       "    <tr>\n",
       "      <th>6</th>\n",
       "      <td>Abdullah</td>\n",
       "      <td>8.7</td>\n",
       "      <td>87</td>\n",
       "      <td>NaN</td>\n",
       "      <td>Turkey</td>\n",
       "    </tr>\n",
       "  </tbody>\n",
       "</table>\n",
       "</div>"
      ],
      "text/plain": [
       "       Name  CGPA  Percentage  Attendance Country\n",
       "0       Ram   8.8          92         NaN   India\n",
       "6  Abdullah   8.7          87         NaN  Turkey"
      ]
     },
     "execution_count": 126,
     "metadata": {},
     "output_type": "execute_result"
    }
   ],
   "source": [
    "df=pd.DataFrame(data)\n",
    "cgpa=df['CGPA'].quantile(0.75)\n",
    "df[df['CGPA'] >cgpa]"
   ]
  },
  {
   "cell_type": "markdown",
   "id": "31fec4e5",
   "metadata": {},
   "source": [
    "### Q27.)Find the outliers with respect to CGPA column. If any present show their name."
   ]
  },
  {
   "cell_type": "code",
   "execution_count": 127,
   "id": "7aa34823",
   "metadata": {},
   "outputs": [
    {
     "data": {
      "text/html": [
       "<div>\n",
       "<style scoped>\n",
       "    .dataframe tbody tr th:only-of-type {\n",
       "        vertical-align: middle;\n",
       "    }\n",
       "\n",
       "    .dataframe tbody tr th {\n",
       "        vertical-align: top;\n",
       "    }\n",
       "\n",
       "    .dataframe thead th {\n",
       "        text-align: right;\n",
       "    }\n",
       "</style>\n",
       "<table border=\"1\" class=\"dataframe\">\n",
       "  <thead>\n",
       "    <tr style=\"text-align: right;\">\n",
       "      <th></th>\n",
       "      <th>Name</th>\n",
       "      <th>CGPA</th>\n",
       "      <th>Percentage</th>\n",
       "      <th>Attendance</th>\n",
       "      <th>Country</th>\n",
       "    </tr>\n",
       "  </thead>\n",
       "  <tbody>\n",
       "    <tr>\n",
       "      <th>3</th>\n",
       "      <td>Joseph</td>\n",
       "      <td>6.2</td>\n",
       "      <td>89</td>\n",
       "      <td>NaN</td>\n",
       "      <td>Pakistan</td>\n",
       "    </tr>\n",
       "    <tr>\n",
       "      <th>4</th>\n",
       "      <td>James</td>\n",
       "      <td>5.7</td>\n",
       "      <td>88</td>\n",
       "      <td>NaN</td>\n",
       "      <td>UAE</td>\n",
       "    </tr>\n",
       "  </tbody>\n",
       "</table>\n",
       "</div>"
      ],
      "text/plain": [
       "     Name  CGPA  Percentage  Attendance   Country\n",
       "3  Joseph   6.2          89         NaN  Pakistan\n",
       "4   James   5.7          88         NaN       UAE"
      ]
     },
     "execution_count": 127,
     "metadata": {},
     "output_type": "execute_result"
    }
   ],
   "source": [
    "df=pd.DataFrame(data)\n",
    "Q1 = df['CGPA'].quantile(0.25)\n",
    "Q3 = df['CGPA'].quantile(0.75)\n",
    "IQR = Q3 - Q1\n",
    "lower_bound = Q1 - 1.5 * IQR\n",
    "upper_bound = Q3 + 1.5 * IQR\n",
    "df[(df['CGPA'] < lower_bound) | (df['CGPA'] > upper_bound)]"
   ]
  },
  {
   "cell_type": "markdown",
   "id": "8a571029",
   "metadata": {},
   "source": [
    "### Q28.)Do a random sampling by choosing 5students randomly from the above data set. Find their average performance."
   ]
  },
  {
   "cell_type": "code",
   "execution_count": 128,
   "id": "9a017759",
   "metadata": {},
   "outputs": [
    {
     "data": {
      "text/plain": [
       "CGPA           7.025\n",
       "Percentage    88.000\n",
       "dtype: float64"
      ]
     },
     "execution_count": 128,
     "metadata": {},
     "output_type": "execute_result"
    }
   ],
   "source": [
    "np.random.seed(1)\n",
    "random_sample = df.sample(n=5)\n",
    "random_sample[['CGPA', 'Percentage']].mean()"
   ]
  },
  {
   "cell_type": "code",
   "execution_count": null,
   "id": "b3354c01",
   "metadata": {},
   "outputs": [],
   "source": []
  }
 ],
 "metadata": {
  "kernelspec": {
   "display_name": "Python 3 (ipykernel)",
   "language": "python",
   "name": "python3"
  },
  "language_info": {
   "codemirror_mode": {
    "name": "ipython",
    "version": 3
   },
   "file_extension": ".py",
   "mimetype": "text/x-python",
   "name": "python",
   "nbconvert_exporter": "python",
   "pygments_lexer": "ipython3",
   "version": "3.11.5"
  }
 },
 "nbformat": 4,
 "nbformat_minor": 5
}
