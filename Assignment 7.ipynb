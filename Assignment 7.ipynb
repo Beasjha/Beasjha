{
 "cells": [
  {
   "cell_type": "markdown",
   "id": "fc4aaf9d",
   "metadata": {},
   "source": [
    "# Assignment-07"
   ]
  },
  {
   "cell_type": "markdown",
   "id": "5740b148",
   "metadata": {},
   "source": [
    "## Name: Beas Jha\n",
    "## Roll no: 20\n",
    "## Reg No: 2241010079"
   ]
  },
  {
   "cell_type": "code",
   "execution_count": 1,
   "id": "496541a0",
   "metadata": {},
   "outputs": [],
   "source": [
    "import numpy as np\n",
    "import pandas as pd"
   ]
  },
  {
   "cell_type": "markdown",
   "id": "b772b2a4",
   "metadata": {},
   "source": [
    "### Q1.) Write a function in python to create a text file named as ‘states.txt’ and read its contents line by line and display the same on screen using- ‘with’ statement and without it."
   ]
  },
  {
   "cell_type": "code",
   "execution_count": 24,
   "id": "3b58d451",
   "metadata": {},
   "outputs": [
    {
     "name": "stdout",
     "output_type": "stream",
     "text": [
      "reading with 'with' statement:\n",
      "California\n",
      "Texas\n",
      "New York\n",
      "Florida\n",
      "Illinois\n",
      "reading without 'with' statement:\n",
      "California\n",
      "Texas\n",
      "New York\n",
      "Florida\n",
      "Illinois\n"
     ]
    }
   ],
   "source": [
    "def write_and_read_states_file():\n",
    "    with open('states.txt', 'w') as file:\n",
    "        file.write(\"California\\n\")\n",
    "        file.write(\"Texas\\n\")\n",
    "        file.write(\"New York\\n\")\n",
    "        file.write(\"Florida\\n\")\n",
    "        file.write(\"Illinois\\n\")\n",
    "    with open('states.txt', 'r') as file:\n",
    "        print(\"reading with 'with' statement:\")\n",
    "        for line in file:\n",
    "            print(line.strip())\n",
    "    file = open('states.txt','r')\n",
    "    print(\"reading without 'with' statement:\")\n",
    "    for line in file:\n",
    "        print(line.strip())\n",
    "    file.close()\n",
    "write_and_read_states_file()"
   ]
  },
  {
   "cell_type": "markdown",
   "id": "5707f889",
   "metadata": {},
   "source": [
    "### Q2.)Create a ‘sales’ Data Frame consisting of 5 rows and the following column headings- product_id, product_name, sold_units, and profit. Sort the frame by ‘product_id’. Export it to CSV file using panda’s Data Frame delimited by ‘|’ with column headings- id, name, units, and gain. Read and display the first 3 rows of the same file."
   ]
  },
  {
   "cell_type": "code",
   "execution_count": 38,
   "id": "78fb182a",
   "metadata": {},
   "outputs": [
    {
     "name": "stdout",
     "output_type": "stream",
     "text": [
      "Original 'sales' DataFrame: \n",
      "    product_id product_name  sold_units  profit\n",
      "0         101            A          55      25\n",
      "2         102            B          14      18\n",
      "1         103            C          23      45\n",
      "4         104            D           9      19\n",
      "3         105            E          25      20\n",
      "Read and Display the first 3 rows from the CSV file: \n",
      "     id name  units  profit\n",
      "0  101    A     55      25\n",
      "1  102    B     14      18\n",
      "2  103    C     23      45\n"
     ]
    }
   ],
   "source": [
    "data ={'product_id':[101, 103, 102, 105, 104],'product_name':['A', 'C', 'B', 'E', 'D'],'sold_units':[55, 23, 14, 25, 9],'profit':[25,45,18,20,19]}\n",
    "sales=pd.DataFrame(data)\n",
    "sales=sales.sort_values(by='product_id')\n",
    "print(\"Original 'sales' DataFrame: \\n\",sales)\n",
    "sales.to_csv('sales.csv', sep='|', index=False, header=['id', 'name', 'units','profit'])\n",
    "read_sales=pd.read_csv('sales.csv', sep='|')\n",
    "print(\"Read and Display the first 3 rows from the CSV file: \\n\",read_sales.head(3))"
   ]
  },
  {
   "cell_type": "markdown",
   "id": "04a59cb8",
   "metadata": {},
   "source": [
    "### Q3.)Write a Python program to convert Python dictionary object (sort by key) to JSON data. Print the object members using indent level 4."
   ]
  },
  {
   "cell_type": "code",
   "execution_count": 41,
   "id": "aae92972",
   "metadata": {},
   "outputs": [
    {
     "name": "stdout",
     "output_type": "stream",
     "text": [
      "{\n",
      "    \"age\": 20,\n",
      "    \"city\": \"New York\",\n",
      "    \"country\": \"USA\",\n",
      "    \"name\": \"Beas\"\n",
      "}\n"
     ]
    }
   ],
   "source": [
    "import json\n",
    "python_dict={'name': 'Beas','age': 20,'city': 'New York','country': 'USA'}\n",
    "json_data=json.dumps(python_dict, sort_keys=True, indent=4)\n",
    "print(json_data)"
   ]
  },
  {
   "cell_type": "markdown",
   "id": "80d27663",
   "metadata": {},
   "source": [
    "## Q4.) Write a program to create a JSON file with the following columns- name, branch, roll_number, and cgpa. Read the JSON file into a Data Frame and insert a new column ‘grade’ according to ‘cgpa’-\n",
    "### •If icgpa <= 2 then grade=’D’\n",
    "### •If cgpa > 2 & cgpa <= 5 then grade=’C’\n",
    "### •If cgpa > 5 & cgpa <= 8 then grade=’B’\n",
    "### •If cgpa > 8 then grade= 'A'\n",
    "### Save the updated Data Frame into JSON, HTML, XML, pickle, and Excel file formats. Read the contents of saved files into a Data Frame object and display it."
   ]
  },
  {
   "cell_type": "code",
   "execution_count": 45,
   "id": "8ac31cb6",
   "metadata": {},
   "outputs": [
    {
     "ename": "NameError",
     "evalue": "name 'json_file_path' is not defined",
     "output_type": "error",
     "traceback": [
      "\u001b[1;31m---------------------------------------------------------------------------\u001b[0m",
      "\u001b[1;31mNameError\u001b[0m                                 Traceback (most recent call last)",
      "Cell \u001b[1;32mIn[45], line 37\u001b[0m\n\u001b[0;32m     35\u001b[0m     \u001b[38;5;28mprint\u001b[39m(df_excel)\n\u001b[0;32m     36\u001b[0m     json_file_path \u001b[38;5;241m=\u001b[39m \u001b[38;5;124m'\u001b[39m\u001b[38;5;124minput.json\u001b[39m\u001b[38;5;124m'\u001b[39m\n\u001b[1;32m---> 37\u001b[0m create_json_file(json_file_path)\n\u001b[0;32m     38\u001b[0m process_and_save_json(json_file_path)\n\u001b[0;32m     39\u001b[0m read_and_display_saved_files()\n",
      "\u001b[1;31mNameError\u001b[0m: name 'json_file_path' is not defined"
     ]
    }
   ],
   "source": [
    "import pandas as pd\n",
    "def create_json_file(file_path):\n",
    "    data = [\n",
    "        {\"name\": \"John\", \"branch\": \"CSE\", \"roll_number\": 101, \"cgpa\": 7.5},\n",
    "        {\"name\": \"Alice\", \"branch\": \"ECE\", \"roll_number\": 102, \"cgpa\": 3.2},\n",
    "        {\"name\": \"Bob\", \"branch\": \"ME\", \"roll_number\": 103, \"cgpa\": 9.2},\n",
    "    ]\n",
    "    df = pd.DataFrame(data)\n",
    "    df.to_json(file_path, orient='records')\n",
    "\n",
    "def process_and_save_json(file_path):\n",
    "    df = pd.read_json(file_path)\n",
    "\n",
    "    df['grade'] = pd.cut(df['cgpa'], bins=[-float('inf'), 2, 5, 8, float('inf')],\n",
    "                         labels=['D', 'C', 'B', 'A'], right=False)\n",
    "\n",
    "    df.to_json('output.json', orient='records')\n",
    "    df.to_html('output.html', index=False)\n",
    "    df.to_pickle('output.pkl')\n",
    "    df.to_excel('output.xlsx', index=False, sheet_name='Sheet1')\n",
    "\n",
    "def read_and_display_saved_files():\n",
    "    df_json = pd.read_json('output.json')\n",
    "    df_html = pd.read_html('output.html')[0]\n",
    "    df_pickle = pd.read_pickle('output.pkl')\n",
    "    df_excel = pd.read_excel('output.xlsx')\n",
    "\n",
    "    print(\"DataFrame from JSON file:\")\n",
    "    print(df_json)\n",
    "    print(\"\\nDataFrame from HTML file:\")\n",
    "    print(df_html)\n",
    "    print(\"\\nDataFrame from pickle file:\")\n",
    "    print(df_pickle)\n",
    "    print(\"\\nDataFrame from Excel file:\")\n",
    "    print(df_excel)\n",
    "    json_file_path = 'input.json'\n",
    "create_json_file(json_file_path)\n",
    "process_and_save_json(json_file_path)\n",
    "read_and_display_saved_files()"
   ]
  },
  {
   "cell_type": "markdown",
   "id": "09ebe4f9",
   "metadata": {},
   "source": [
    "### Q5.)Write a function to search and display details of student whose grade is 'A' from the binary file student.pkl having structure [name, branch, roll_number, cgpa, and grade]"
   ]
  },
  {
   "cell_type": "code",
   "execution_count": 47,
   "id": "c4634240",
   "metadata": {},
   "outputs": [
    {
     "name": "stdout",
     "output_type": "stream",
     "text": [
      "DataFrame from JSON:\n",
      "     name branch  roll_number  cgpa grade\n",
      "0    Beas    CSE           10   8.5     A\n",
      "1  Ayushi    ECE           12   7.8     B\n",
      "2     Tiu  CS-IT           13   8.2     A\n",
      "3   Soumi    CSE           14   9.5     A\n",
      "\n",
      "DataFrame from HTML:\n",
      "     name branch  roll_number  cgpa grade\n",
      "0    Beas    CSE           10   8.5     A\n",
      "1  Ayushi    ECE           12   7.8     B\n",
      "2     Tiu  CS-IT           13   8.2     A\n",
      "3   Soumi    CSE           14   9.5     A\n",
      "\n",
      "DataFrame from pickle:\n",
      "     name branch  roll_number  cgpa grade\n",
      "0    Beas    CSE           10   8.5     A\n",
      "1  Ayushi    ECE           12   7.8     B\n",
      "2     Tiu  CS-IT           13   8.2     A\n",
      "3   Soumi    CSE           14   9.5     A\n",
      "\n",
      "DataFrame from Excel:\n",
      "     name branch  roll_number  cgpa grade\n",
      "0    Beas    CSE           10   8.5     A\n",
      "1  Ayushi    ECE           12   7.8     B\n",
      "2     Tiu  CS-IT           13   8.2     A\n",
      "3   Soumi    CSE           14   9.5     A\n"
     ]
    }
   ],
   "source": [
    "import pandas as pd\n",
    "import json\n",
    "\n",
    "data={'name': ['Beas', 'Ayushi', 'Tiu', 'Soumi'],'branch': ['CSE', 'ECE', 'CS-IT', 'CSE'], 'roll_number': [10, 12, 13, 14],\n",
    "    'cgpa': [8.5, 7.8, 8.2, 9.5]}\n",
    "with open('student_data.json', 'w') as json_file:\n",
    "    json.dump(data, json_file)\n",
    "df = pd.read_json('student_data.json')\n",
    "df['grade'] = pd.cut(df['cgpa'], bins=[-float('inf'), 2, 5, 8, float('inf')],\n",
    "                    labels=['D', 'C', 'B', 'A'], right=False)\n",
    "df.to_json('updated_student_data.json', orient='records', lines=True)\n",
    "df.to_html('updated_student_data.html', index=False)\n",
    "df.to_pickle('updated_student_data.pkl')\n",
    "df.to_excel('updated_student_data.xlsx', index=False)\n",
    "df_json = pd.read_json('updated_student_data.json', lines=True)\n",
    "df_html = pd.read_html('updated_student_data.html')[0]\n",
    "df_pickle = pd.read_pickle('updated_student_data.pkl')\n",
    "df_excel = pd.read_excel('updated_student_data.xlsx')\n",
    "print(\"DataFrame from JSON:\")\n",
    "print(df_json)\n",
    "print(\"\\nDataFrame from HTML:\")\n",
    "print(df_html)\n",
    "print(\"\\nDataFrame from pickle:\")\n",
    "print(df_pickle)\n",
    "print(\"\\nDataFrame from Excel:\")\n",
    "print(df_excel)"
   ]
  },
  {
   "cell_type": "markdown",
   "id": "1b2fe7f2",
   "metadata": {},
   "source": [
    "### Q6.)A binary file \"Book.pkl\" has structure [BookNo, Book_Name, Author, Price].\n",
    "### •Write a user defined function createFile() to input data for a record and add to Book.pkl.\n",
    "### •Write a function countRec(Author) in Python which accepts the Author name as parameter and count and return number of books by the given Author are stored in the binary file \"Book.pkl\""
   ]
  },
  {
   "cell_type": "code",
   "execution_count": 54,
   "id": "9f4f28f8",
   "metadata": {},
   "outputs": [
    {
     "ename": "SyntaxError",
     "evalue": "incomplete input (1391490659.py, line 4)",
     "output_type": "error",
     "traceback": [
      "\u001b[1;36m  Cell \u001b[1;32mIn[54], line 4\u001b[1;36m\u001b[0m\n\u001b[1;33m    with open(\"Book.pkl\", \"ab\") as file:\u001b[0m\n\u001b[1;37m                                        ^\u001b[0m\n\u001b[1;31mSyntaxError\u001b[0m\u001b[1;31m:\u001b[0m incomplete input\n"
     ]
    }
   ],
   "source": [
    "import pickle\n",
    "def createFile():\n",
    "    try:\n",
    "        with open(\"Book.pkl\", \"ab\") as file:"
   ]
  },
  {
   "cell_type": "code",
   "execution_count": null,
   "id": "bb83098a",
   "metadata": {},
   "outputs": [],
   "source": []
  }
 ],
 "metadata": {
  "kernelspec": {
   "display_name": "Python 3 (ipykernel)",
   "language": "python",
   "name": "python3"
  },
  "language_info": {
   "codemirror_mode": {
    "name": "ipython",
    "version": 3
   },
   "file_extension": ".py",
   "mimetype": "text/x-python",
   "name": "python",
   "nbconvert_exporter": "python",
   "pygments_lexer": "ipython3",
   "version": "3.11.5"
  }
 },
 "nbformat": 4,
 "nbformat_minor": 5
}
