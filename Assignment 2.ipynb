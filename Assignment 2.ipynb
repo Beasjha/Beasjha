{
 "cells": [
  {
   "cell_type": "markdown",
   "id": "25cc7f5f",
   "metadata": {},
   "source": [
    "# NAME-Beas Jha\n",
    "# REGD.NO-2241010079\n",
    "# SECTION-2241007"
   ]
  },
  {
   "cell_type": "markdown",
   "id": "89fd42a1",
   "metadata": {},
   "source": [
    "## Q1.)Write a python script to solve the followingproblems.(Don’t use loops or functions for thefollowingproblems)"
   ]
  },
  {
   "cell_type": "markdown",
   "id": "72f83070",
   "metadata": {},
   "source": [
    "### a.)Check a given number is even or odd"
   ]
  },
  {
   "cell_type": "code",
   "execution_count": 1,
   "id": "8276ae2c",
   "metadata": {},
   "outputs": [
    {
     "name": "stdout",
     "output_type": "stream",
     "text": [
      "Enter a number: 25\n",
      "Odd\n"
     ]
    }
   ],
   "source": [
    "num=int(input('Enter a number: '))\n",
    "if(num%2==0):\n",
    "    print('Even number')\n",
    "else: \n",
    "    print('Odd')"
   ]
  },
  {
   "cell_type": "markdown",
   "id": "b6d36109",
   "metadata": {},
   "source": [
    "### b.)Given a string check it is a palindrome or not"
   ]
  },
  {
   "cell_type": "code",
   "execution_count": 2,
   "id": "3339ba8d",
   "metadata": {},
   "outputs": [
    {
     "name": "stdout",
     "output_type": "stream",
     "text": [
      "Enter a string: Winter\n",
      "Not pallindrome\n"
     ]
    }
   ],
   "source": [
    "str=input(\"Enter a string: \")\n",
    "if str==str[::-1]:\n",
    "    print(\"Pallindrome\")\n",
    "else:\n",
    "    print(\"Not pallindrome\")"
   ]
  },
  {
   "cell_type": "markdown",
   "id": "145053f0",
   "metadata": {},
   "source": [
    "### c.)Given an alphabet, check whether it is a vowel or aconsonant."
   ]
  },
  {
   "cell_type": "code",
   "execution_count": 1,
   "id": "850f4160",
   "metadata": {},
   "outputs": [
    {
     "name": "stdout",
     "output_type": "stream",
     "text": [
      "Enter a alphabet: A\n",
      "Vowel\n"
     ]
    }
   ],
   "source": [
    "x=input(\"Enter a alphabet: \")\n",
    "if x=='a'or x=='i'or x=='o'or x=='u'or x=='e':\n",
    "    print(\"Vowel\")\n",
    "elif x=='A'or x=='E'or x=='I'or x=='O'or x=='U':\n",
    "    print(\"Vowel\")\n",
    "else:\n",
    "    print(\"Consonant\")"
   ]
  },
  {
   "cell_type": "markdown",
   "id": "8dc5e2b8",
   "metadata": {},
   "source": [
    "### d.)Given a month and date, find which season does it belong to.Hint: Dec21-Mar20: winter, Mar21-June20: Spring, June21-Sep20:Summer,Sep21-Dec20: Fal "
   ]
  },
  {
   "cell_type": "code",
   "execution_count": 18,
   "id": "dff20e41",
   "metadata": {},
   "outputs": [
    {
     "name": "stdout",
     "output_type": "stream",
     "text": [
      "Enter the starting month name: december\n",
      "Enter the end month name: march\n",
      "Enter a date: 12\n",
      "Winter\n"
     ]
    }
   ],
   "source": [
    "month1=input('Enter the starting month name: ').lower()\n",
    "month2=input('Enter the end month name: ').lower()\n",
    "date=int(input('Enter a date: '))\n",
    "if((month1=='december'and date>=21)or(month2=='march'and date<=20)):\n",
    "    print('Winter')\n",
    "elif((month1=='march'and date>=21)or(month2=='june'and date<=20)):\n",
    "    print('Spring')\n",
    "elif((month1=='june'and date>=21)or(month2=='september'and date<=20)):\n",
    "    print('Spring')\n",
    "elif((month1=='september'and date>=21)or(month2=='december'and date<=20)):\n",
    "    print('Fall')"
   ]
  },
  {
   "cell_type": "markdown",
   "id": "ff4a05a0",
   "metadata": {},
   "source": [
    "### e.) Given a year find it is a leap year or not."
   ]
  },
  {
   "cell_type": "code",
   "execution_count": 5,
   "id": "100982ed",
   "metadata": {},
   "outputs": [
    {
     "name": "stdout",
     "output_type": "stream",
     "text": [
      "Enter a year: 1973\n",
      "Not a leap year\n"
     ]
    }
   ],
   "source": [
    "a=int(input(\"Enter a year: \"))\n",
    "if a%4==0:\n",
    "    print(\"Leap year\")\n",
    "elif a%100==0:\n",
    "    print(\"Not a leap year\")\n",
    "elif a%400==0:\n",
    "    print(\"Leap year\")\n",
    "else:\n",
    "    print(\"Not a leap year\")"
   ]
  },
  {
   "cell_type": "markdown",
   "id": "c454a63d",
   "metadata": {},
   "source": [
    "## Q2.) (Don’t use conditional and loops for the followingproblems)"
   ]
  },
  {
   "cell_type": "markdown",
   "id": "7d1d040e",
   "metadata": {},
   "source": [
    "### a.) Create functions add(), subtract(), multiply(), division(), so thatwe can get same value for the following two expressions.2 + 3 − 4∗ 5/6 and subtract (add(2,3),multiply(division(5,6),4))"
   ]
  },
  {
   "cell_type": "code",
   "execution_count": 8,
   "id": "81d1ca6c",
   "metadata": {},
   "outputs": [
    {
     "name": "stdout",
     "output_type": "stream",
     "text": [
      "1.6666666666666665 1.6666666666666665\n"
     ]
    }
   ],
   "source": [
    "def add(x,y):\n",
    "    return (x+y)\n",
    "def sub(x,y):\n",
    "    return (x-y)\n",
    "def multiply(x,y):\n",
    "    return (x*y)\n",
    "def division(x,y):\n",
    "    return (x/y)\n",
    "ans2=sub(add(2,3),multiply(division(5,6),4))\n",
    "ans1=2+3-4*5/6\n",
    "print(ans1,ans2)"
   ]
  },
  {
   "cell_type": "markdown",
   "id": "046354ae",
   "metadata": {},
   "source": [
    "### b.)Write a python function solution(a,b,c) to find the quadratic roots of the equation ax2+bx+ c = 0."
   ]
  },
  {
   "cell_type": "code",
   "execution_count": 9,
   "id": "dc4d122e",
   "metadata": {},
   "outputs": [
    {
     "name": "stdout",
     "output_type": "stream",
     "text": [
      "(-5.272077938642146, -30.72792206135785)\n"
     ]
    }
   ],
   "source": [
    "import math\n",
    "def quad_sol(a,b,c):\n",
    "    if b*b-4*a*c>0:\n",
    "        r1=(-b+math.sqrt(b*b-4*a*c))/2*a\n",
    "        r2=(-b-math.sqrt(b*b-4*a*c))/2*a\n",
    "        return(r1,r2)\n",
    "    else:\n",
    "        return 'imaginary Roots'\n",
    "print (quad_sol(3,12,6))"
   ]
  },
  {
   "cell_type": "markdown",
   "id": "db154ec8",
   "metadata": {},
   "source": [
    "### c.)Write a python HI(x), which will show output, ”Hi x”, when theargument ’x’ is passed to the function Hi()."
   ]
  },
  {
   "cell_type": "code",
   "execution_count": 1,
   "id": "be6dd0d6",
   "metadata": {},
   "outputs": [
    {
     "name": "stdout",
     "output_type": "stream",
     "text": [
      "Enter an argumentWorld\n",
      "HiWorld\n"
     ]
    }
   ],
   "source": [
    "x=input('Enter an argument')\n",
    "def HI(x):\n",
    "    return \"Hi\"+x\n",
    "print(HI(x))"
   ]
  },
  {
   "cell_type": "markdown",
   "id": "a4473936",
   "metadata": {},
   "source": [
    "### d.)Write two python functions mean() and median(), tofind the mean and median of three numbers"
   ]
  },
  {
   "cell_type": "code",
   "execution_count": 1,
   "id": "032260ae",
   "metadata": {},
   "outputs": [
    {
     "name": "stdout",
     "output_type": "stream",
     "text": [
      "Enter a no1: 1\n",
      "Enter a no2: 2\n",
      "Enter a no3: 3\n",
      "Mean :  3.0  &  median :  2\n"
     ]
    }
   ],
   "source": [
    "def mean_median(x,y,z):\n",
    "    mean=(x+y+z)/2\n",
    "    median=(x+y+z)-(min(x,y,z)+max(1,2,3))\n",
    "    return (mean,median)\n",
    "x=int(input('Enter a no1: '))\n",
    "y=int(input('Enter a no2: '))\n",
    "z=int(input('Enter a no3: '))\n",
    "ans= mean_median(x,y,z)\n",
    "print('Mean : ',ans[0],' & ','median : ',ans[1])"
   ]
  },
  {
   "cell_type": "markdown",
   "id": "f73d6366",
   "metadata": {},
   "source": [
    "### e).Write a function to compute sum of first n natural numbers."
   ]
  },
  {
   "cell_type": "code",
   "execution_count": 2,
   "id": "92e48ff7",
   "metadata": {},
   "outputs": [
    {
     "name": "stdout",
     "output_type": "stream",
     "text": [
      "Enter a number: 5\n",
      "Sum of n numbers :  15.0\n"
     ]
    }
   ],
   "source": [
    "n=int(input(\"Enter a number: \"))\n",
    "def sum(n):\n",
    "    return n*(n+1)/2\n",
    "print('Sum of n numbers : ' ,sum(n))  "
   ]
  },
  {
   "cell_type": "markdown",
   "id": "2d707904",
   "metadata": {},
   "source": [
    "## Q3.) In this exercise you will create a program that displays a multiplication table thatshows the productsof all combinations of integers from 1 times 1 up to and including10 times 10. Your multiplication table should include a row of labels across the top ofit containing the numbers 1 through 10. It shouldalso include labels down the leftside consisting of the numbers 1 through 10. The expected output from the programis shown below:"
   ]
  },
  {
   "cell_type": "code",
   "execution_count": 17,
   "id": "9b7bbdda",
   "metadata": {},
   "outputs": [
    {
     "name": "stdout",
     "output_type": "stream",
     "text": [
      "     1   2   3   4   5   6   7   8   9  10\n",
      "   1   1   2   3   4   5   6   7   8   9  10\n",
      "   2   2   4   6   8  10  12  14  16  18  20\n",
      "   3   3   6   9  12  15  18  21  24  27  30\n",
      "   4   4   8  12  16  20  24  28  32  36  40\n",
      "   5   5  10  15  20  25  30  35  40  45  50\n",
      "   6   6  12  18  24  30  36  42  48  54  60\n",
      "   7   7  14  21  28  35  42  49  56  63  70\n",
      "   8   8  16  24  32  40  48  56  64  72  80\n",
      "   9   9  18  27  36  45  54  63  72  81  90\n",
      "  10  10  20  30  40  50  60  70  80  90 100\n"
     ]
    }
   ],
   "source": [
    "print(\"  \",end=\"\")\n",
    "for i in range(1,11):\n",
    "    print(\"% 4d\"%i, end=\"\")\n",
    "print()\n",
    "for i in range(1,11):\n",
    "    print(\"% 4d\"%i, end=\"\")\n",
    "    for j in range(1,11):\n",
    "            print(\"% 4d\"%(i*j), end=\"\")\n",
    "    print()"
   ]
  },
  {
   "cell_type": "markdown",
   "id": "4285e997",
   "metadata": {},
   "source": [
    "## Q4.)Write a function that accepts as an input parameterthe number of rows to be printed and prints a figurelike:\n",
    "### a. 1 2 1 2 3 2 1 2 3 4 3 2 1 2 3 4"
   ]
  },
  {
   "cell_type": "code",
   "execution_count": 3,
   "id": "dbd10d5c",
   "metadata": {},
   "outputs": [
    {
     "name": "stdout",
     "output_type": "stream",
     "text": [
      "    1\n",
      "   212\n",
      "  32123\n",
      " 4321234\n"
     ]
    }
   ],
   "source": [
    "st=1\n",
    "s=\"1\"\n",
    "for i in range(2,6):\n",
    "    print(\" \"*(5-i),s)\n",
    "    s=str(i)+(s)+str(i)"
   ]
  },
  {
   "cell_type": "code",
   "execution_count": 4,
   "id": "1f981140",
   "metadata": {},
   "outputs": [
    {
     "name": "stdout",
     "output_type": "stream",
     "text": [
      "5 4 3 2 1 \n",
      "4 3 2 1 \n",
      "3 2 1 \n",
      "2 1 \n",
      "1 \n"
     ]
    }
   ],
   "source": [
    "for i in range(5,0,-1):\n",
    "    for j in range(i,0,-1):\n",
    "        print(j,end=\" \")\n",
    "    print()"
   ]
  },
  {
   "cell_type": "code",
   "execution_count": 5,
   "id": "6ec5c290",
   "metadata": {},
   "outputs": [
    {
     "name": "stdout",
     "output_type": "stream",
     "text": [
      "     \n",
      "    * \n",
      "   * * \n",
      "  * * * \n",
      " * * * * \n",
      "  * * * \n",
      "   * * \n",
      "    * \n"
     ]
    }
   ],
   "source": [
    "for i in range(4):\n",
    "    print((\" \")*(5-i)+(\"* \"*i))\n",
    "for i in range(4,0,-1):\n",
    "    print((\" \")*(5-i)+(\"* \"*i))"
   ]
  }
 ],
 "metadata": {
  "kernelspec": {
   "display_name": "Python 3 (ipykernel)",
   "language": "python",
   "name": "python3"
  },
  "language_info": {
   "codemirror_mode": {
    "name": "ipython",
    "version": 3
   },
   "file_extension": ".py",
   "mimetype": "text/x-python",
   "name": "python",
   "nbconvert_exporter": "python",
   "pygments_lexer": "ipython3",
   "version": "3.11.5"
  }
 },
 "nbformat": 4,
 "nbformat_minor": 5
}
